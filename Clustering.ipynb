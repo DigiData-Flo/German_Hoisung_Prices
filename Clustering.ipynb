{
 "cells": [
  {
   "cell_type": "code",
   "execution_count": 1,
   "metadata": {},
   "outputs": [],
   "source": [
    "import numpy as np\n",
    "import pandas as pd\n",
    "from collections import defaultdict\n",
    "import matplotlib.pyplot as plt\n",
    "import seaborn as sns\n",
    "from IPython import display\n",
    "import functions as f \n",
    "from sklearn.model_selection import train_test_split\n",
    "from sklearn.linear_model import LinearRegression\n",
    "from sklearn.metrics import r2_score\n",
    "from sklearn import svm\n",
    "from sklearn.neighbors import KNeighborsRegressor\n",
    "%matplotlib inline\n",
    "\n"
   ]
  },
  {
   "cell_type": "code",
   "execution_count": 2,
   "metadata": {},
   "outputs": [],
   "source": [
    "blue = sns.color_palette()[0]"
   ]
  },
  {
   "cell_type": "code",
   "execution_count": 3,
   "metadata": {},
   "outputs": [],
   "source": [
    "df = pd.read_pickle('data/rent_regression_done.pkl')"
   ]
  },
  {
   "cell_type": "code",
   "execution_count": 4,
   "metadata": {},
   "outputs": [
    {
     "name": "stdout",
     "output_type": "stream",
     "text": [
      "<class 'pandas.core.frame.DataFrame'>\n",
      "RangeIndex: 2651885 entries, 0 to 2651884\n",
      "Data columns (total 73 columns):\n",
      " #   Column                            Dtype         \n",
      "---  ------                            -----         \n",
      " 0   obid                              int64         \n",
      " 1   mietekalt                         float64       \n",
      " 2   nebenkosten                       float64       \n",
      " 3   heizkosten                        float64       \n",
      " 4   baujahr                           float64       \n",
      " 5   letzte_modernisierung             float64       \n",
      " 6   wohnflaeche                       float64       \n",
      " 7   nutzflaeche                       float64       \n",
      " 8   etage                             float64       \n",
      " 9   anzahletagen                      float64       \n",
      " 10  zimmeranzahl                      float64       \n",
      " 11  schlafzimmer                      float64       \n",
      " 12  badezimmer                        float64       \n",
      " 13  ev_kennwert                       float64       \n",
      " 14  laufzeittage                      int64         \n",
      " 15  hits                              int64         \n",
      " 16  click_schnellkontakte             int64         \n",
      " 17  click_customer                    float64       \n",
      " 18  click_weitersagen                 int64         \n",
      " 19  click_url                         int64         \n",
      " 20  aufzug                            bool          \n",
      " 21  balkon                            bool          \n",
      " 22  einbaukueche                      bool          \n",
      " 23  ev_wwenthalten                    bool          \n",
      " 24  foerderung                        bool          \n",
      " 25  gaestewc                          bool          \n",
      " 26  garten                            bool          \n",
      " 27  heizkosten_in_wm_enthalten        bool          \n",
      " 28  keller                            bool          \n",
      " 29  parkplatz                         bool          \n",
      " 30  rollstuhlgerecht                  bool          \n",
      " 31  ausstattung                       object        \n",
      " 32  energieeffizienzklasse            object        \n",
      " 33  energieausweistyp                 object        \n",
      " 34  haustier_erlaubt                  bool          \n",
      " 35  heizungsart                       object        \n",
      " 36  kategorie_Wohnung                 object        \n",
      " 37  objektzustand                     object        \n",
      " 38  kid2019                           int64         \n",
      " 39  ags2019                           int64         \n",
      " 40  anbieter                          object        \n",
      " 41  spell                             int64         \n",
      " 42  adat                              datetime64[ns]\n",
      " 43  edat                              datetime64[ns]\n",
      " 44  rent_sqm                          float64       \n",
      " 45  City                              object        \n",
      " 46  Wärmezufuhr                       int64         \n",
      " 47  Erdgas leicht                     int64         \n",
      " 48  Erdgas schwer                     int64         \n",
      " 49  keine Information                 int64         \n",
      " 50  Windenergie                       int64         \n",
      " 51  Pellets                           int64         \n",
      " 52  Solarenergie                      int64         \n",
      " 53  Koks                              int64         \n",
      " 54  kombinierte erneuerbare Energie   int64         \n",
      " 55  Erdwärme                          int64         \n",
      " 56  Bioenergie                        int64         \n",
      " 57  Wasserenergie                     int64         \n",
      " 58  Nahwärme                          int64         \n",
      " 59  Fernwärme                         int64         \n",
      " 60  Holzschnitzel                     int64         \n",
      " 61  Öl                                int64         \n",
      " 62  kombinierte regenerative Energie  int64         \n",
      " 63  Kohle                             int64         \n",
      " 64  kombinierte Fossilkraftstoffe     int64         \n",
      " 65  Gas                               int64         \n",
      " 66  Holz                              int64         \n",
      " 67  Heizdampf-Fernwärme               int64         \n",
      " 68  thermische Umweltenergie          int64         \n",
      " 69  Flüssiggas                        int64         \n",
      " 70  kombinierte Bio Energie           int64         \n",
      " 71  Elektro                           int64         \n",
      " 72  year                              int64         \n",
      "dtypes: bool(12), datetime64[ns](2), float64(15), int64(36), object(8)\n",
      "memory usage: 1.2+ GB\n"
     ]
    }
   ],
   "source": [
    "df.info()"
   ]
  },
  {
   "cell_type": "code",
   "execution_count": 44,
   "metadata": {},
   "outputs": [],
   "source": [
    "columns = ['mietekalt', 'baujahr',\n",
    "       'letzte_modernisierung', 'wohnflaeche', 'etage',\n",
    "       'anzahletagen', 'zimmeranzahl', 'schlafzimmer', 'badezimmer',\n",
    "       'ev_kennwert', 'aufzug', 'balkon',\n",
    "       'einbaukueche', 'ev_wwenthalten', 'foerderung', 'gaestewc', 'garten',\n",
    "       'heizkosten_in_wm_enthalten', 'keller', 'parkplatz', 'rollstuhlgerecht',\n",
    "       'ausstattung', 'energieeffizienzklasse', 'energieausweistyp',\n",
    "       'haustier_erlaubt', 'heizungsart', 'kategorie_Wohnung', 'objektzustand',\n",
    "       'anbieter', 'rent_sqm',\n",
    "       'Wärmezufuhr', 'Erdgas leicht', 'Erdgas schwer',\n",
    "       'keine Information', 'Windenergie', 'Pellets', 'Solarenergie', 'Koks',\n",
    "       'kombinierte erneuerbare Energie', 'Erdwärme', 'Bioenergie',\n",
    "       'Wasserenergie', 'Nahwärme', 'Fernwärme', 'Holzschnitzel', 'Öl',\n",
    "       'kombinierte regenerative Energie', 'Kohle',\n",
    "       'kombinierte Fossilkraftstoffe', 'Gas', 'Holz', 'Heizdampf-Fernwärme',\n",
    "       'thermische Umweltenergie', 'Flüssiggas', 'kombinierte Bio Energie',\n",
    "       'Elektro']"
   ]
  },
  {
   "cell_type": "code",
   "execution_count": 45,
   "metadata": {},
   "outputs": [],
   "source": [
    "clustering_df = df[columns]"
   ]
  },
  {
   "cell_type": "code",
   "execution_count": 46,
   "metadata": {},
   "outputs": [],
   "source": [
    "X, _ = f.clean_data(clustering_df)"
   ]
  },
  {
   "cell_type": "code",
   "execution_count": 47,
   "metadata": {},
   "outputs": [],
   "source": [
    "X.drop(columns=['letzte_modernisierung'], inplace=True)"
   ]
  },
  {
   "cell_type": "markdown",
   "metadata": {},
   "source": [
    "### Principal Component Analysis "
   ]
  },
  {
   "cell_type": "code",
   "execution_count": 48,
   "metadata": {},
   "outputs": [],
   "source": [
    "from sklearn.preprocessing import Normalizer"
   ]
  },
  {
   "cell_type": "code",
   "execution_count": 49,
   "metadata": {},
   "outputs": [],
   "source": [
    "normalizer = Normalizer()\n",
    "normalized_values = normalizer.fit_transform(X)"
   ]
  },
  {
   "cell_type": "code",
   "execution_count": 50,
   "metadata": {},
   "outputs": [
    {
     "data": {
      "text/plain": [
       "array([[1.91539422e-01, 9.79306685e-01, 3.14321103e-02, ...,\n",
       "        0.00000000e+00, 0.00000000e+00, 4.91126723e-04],\n",
       "       [2.03321455e-01, 9.76922849e-01, 3.18455292e-02, ...,\n",
       "        0.00000000e+00, 0.00000000e+00, 4.89931218e-04],\n",
       "       [2.33530780e-01, 9.70125781e-01, 3.30835271e-02, ...,\n",
       "        0.00000000e+00, 0.00000000e+00, 4.86522458e-04],\n",
       "       ...,\n",
       "       [6.54346851e-01, 7.54929310e-01, 4.00086361e-02, ...,\n",
       "        0.00000000e+00, 0.00000000e+00, 0.00000000e+00],\n",
       "       [6.64867857e-01, 7.45760113e-01, 4.06308135e-02, ...,\n",
       "        0.00000000e+00, 0.00000000e+00, 0.00000000e+00],\n",
       "       [6.73923085e-01, 7.36073770e-01, 3.21985474e-02, ...,\n",
       "        0.00000000e+00, 0.00000000e+00, 0.00000000e+00]])"
      ]
     },
     "execution_count": 50,
     "metadata": {},
     "output_type": "execute_result"
    }
   ],
   "source": [
    "normalized_values"
   ]
  },
  {
   "cell_type": "code",
   "execution_count": 23,
   "metadata": {},
   "outputs": [
    {
     "name": "stdout",
     "output_type": "stream",
     "text": [
      "explained_variance_ratio_ vector: [6.25411021e-01 1.65809355e-01 1.02859445e-01 6.87331134e-02\n",
      " 3.07712789e-02 5.29527450e-03 5.16383581e-04 1.67982257e-04\n",
      " 7.52783566e-05 3.60686063e-05 3.43205276e-05 2.83755442e-05\n",
      " 2.52082572e-05 2.04887671e-05 1.89328312e-05 1.70335889e-05\n",
      " 1.56115288e-05 1.45550028e-05 1.38862814e-05 1.16352101e-05\n",
      " 1.08138137e-05 1.02463314e-05 9.90537026e-06 9.74697133e-06\n",
      " 9.20987144e-06 8.36625298e-06 7.32171244e-06 6.55236515e-06\n",
      " 6.07550480e-06 5.23234717e-06 4.38273880e-06 3.78156406e-06\n",
      " 3.65539570e-06 3.22396280e-06 2.67815822e-06 2.11450378e-06\n",
      " 1.99650374e-06 1.80381868e-06 1.51899377e-06 1.43030388e-06\n",
      " 1.38029866e-06 1.17175789e-06 1.09365588e-06 1.02850443e-06\n",
      " 9.03728749e-07 8.25608609e-07 7.69646267e-07 7.45316256e-07\n",
      " 7.35600974e-07 6.43282991e-07 5.23523058e-07 5.05042348e-07]\n",
      "explained_variance_ratio_ sum: 0.9999956307382349\n",
      "CPU times: user 1min 38s, sys: 50.4 s, total: 2min 28s\n",
      "Wall time: 55 s\n"
     ]
    }
   ],
   "source": [
    "%%time\n",
    "from sklearn.decomposition import PCA\n",
    "\n",
    "# One less as original feature number\n",
    "N_COMPONENTS = clustering_df.shape[1] - 1\n",
    "\n",
    "\n",
    "pca = PCA(n_components=N_COMPONENTS)\n",
    "pca.fit(normalized_values)\n",
    "\n",
    "print('explained_variance_ratio_ vector:', pca.explained_variance_ratio_)\n",
    "print('explained_variance_ratio_ sum:', pca.explained_variance_ratio_.sum())\n",
    "\n"
   ]
  },
  {
   "cell_type": "code",
   "execution_count": 51,
   "metadata": {},
   "outputs": [],
   "source": [
    "s = pd.DataFrame(pca.singular_values_)\n",
    "v = pd.DataFrame(pca.components_)"
   ]
  },
  {
   "cell_type": "code",
   "execution_count": 52,
   "metadata": {},
   "outputs": [
    {
     "data": {
      "text/plain": [
       "0.9628171413331621"
      ]
     },
     "execution_count": 52,
     "metadata": {},
     "output_type": "execute_result"
    }
   ],
   "source": [
    "f.explained_variance(s, 4)"
   ]
  },
  {
   "cell_type": "code",
   "execution_count": 53,
   "metadata": {},
   "outputs": [
    {
     "data": {
      "image/png": "[encoded data removed]",
      "text/plain": [
       "<Figure size 720x720 with 4 Axes>"
      ]
     },
     "metadata": {
      "needs_background": "light"
     },
     "output_type": "display_data"
    }
   ],
   "source": [
    "figure = plt.figure(figsize=(10,10))\n",
    "\n",
    "for i in range(4):\n",
    "    plt.subplot(4,1,i+1)\n",
    "    f.display_components(v, clustering_df.columns, i, n_weights=4)\n",
    "    plt.title('Component #{}'.format(i+1))\n",
    "figure.tight_layout()\n",
    "\n",
    "    "
   ]
  },
  {
   "cell_type": "code",
   "execution_count": null,
   "metadata": {},
   "outputs": [],
   "source": []
  },
  {
   "cell_type": "markdown",
   "metadata": {},
   "source": [
    "## Setup K-Means\n",
    "Create K-Means analysis to find groups in customers based only on customer features"
   ]
  },
  {
   "cell_type": "markdown",
   "metadata": {},
   "source": [
    "### Create input data based on PCA analysis\n",
    "Use the `pca.transform()` function to create input data for the K-Means analysis."
   ]
  },
  {
   "cell_type": "code",
   "execution_count": 54,
   "metadata": {},
   "outputs": [
    {
     "name": "stdout",
     "output_type": "stream",
     "text": [
      "CPU times: user 1min 39s, sys: 51.3 s, total: 2min 30s\n",
      "Wall time: 56.8 s\n"
     ]
    },
    {
     "data": {
      "text/html": [
       "<div>\n",
       "<style scoped>\n",
       "    .dataframe tbody tr th:only-of-type {\n",
       "        vertical-align: middle;\n",
       "    }\n",
       "\n",
       "    .dataframe tbody tr th {\n",
       "        vertical-align: top;\n",
       "    }\n",
       "\n",
       "    .dataframe thead th {\n",
       "        text-align: right;\n",
       "    }\n",
       "</style>\n",
       "<table border=\"1\" class=\"dataframe\">\n",
       "  <thead>\n",
       "    <tr style=\"text-align: right;\">\n",
       "      <th></th>\n",
       "      <th>c_1</th>\n",
       "      <th>c_2</th>\n",
       "      <th>c_3</th>\n",
       "      <th>c_4</th>\n",
       "    </tr>\n",
       "  </thead>\n",
       "  <tbody>\n",
       "    <tr>\n",
       "      <th>0</th>\n",
       "      <td>-0.097502</td>\n",
       "      <td>-0.042463</td>\n",
       "      <td>-0.000895</td>\n",
       "      <td>-0.007908</td>\n",
       "    </tr>\n",
       "    <tr>\n",
       "      <th>1</th>\n",
       "      <td>-0.085692</td>\n",
       "      <td>-0.041872</td>\n",
       "      <td>-0.000927</td>\n",
       "      <td>-0.007647</td>\n",
       "    </tr>\n",
       "    <tr>\n",
       "      <th>2</th>\n",
       "      <td>-0.055152</td>\n",
       "      <td>-0.040276</td>\n",
       "      <td>-0.001013</td>\n",
       "      <td>-0.006968</td>\n",
       "    </tr>\n",
       "    <tr>\n",
       "      <th>3</th>\n",
       "      <td>-0.055152</td>\n",
       "      <td>-0.040276</td>\n",
       "      <td>-0.001013</td>\n",
       "      <td>-0.006968</td>\n",
       "    </tr>\n",
       "    <tr>\n",
       "      <th>4</th>\n",
       "      <td>-0.097411</td>\n",
       "      <td>-0.042420</td>\n",
       "      <td>-0.000840</td>\n",
       "      <td>-0.007912</td>\n",
       "    </tr>\n",
       "  </tbody>\n",
       "</table>\n",
       "</div>"
      ],
      "text/plain": [
       "        c_1       c_2       c_3       c_4\n",
       "0 -0.097502 -0.042463 -0.000895 -0.007908\n",
       "1 -0.085692 -0.041872 -0.000927 -0.007647\n",
       "2 -0.055152 -0.040276 -0.001013 -0.006968\n",
       "3 -0.055152 -0.040276 -0.001013 -0.006968\n",
       "4 -0.097411 -0.042420 -0.000840 -0.007912"
      ]
     },
     "execution_count": 54,
     "metadata": {},
     "output_type": "execute_result"
    }
   ],
   "source": [
    "%%time\n",
    "# Create input data from PCA Analysis\n",
    "pca_transformed = pca.fit_transform(normalized_values)\n",
    "\n",
    "pca_transformed = pd.DataFrame(pca_transformed)\n",
    "pca_transformed = pca_transformed.iloc[:,:4]\n",
    "PCA_list=['c_1', 'c_2', 'c_3', 'c_4']\n",
    "pca_transformed.columns=PCA_list\n",
    "\n",
    "pca_transformed.head()\n",
    "\n"
   ]
  },
  {
   "cell_type": "code",
   "execution_count": 55,
   "metadata": {},
   "outputs": [
    {
     "name": "stdout",
     "output_type": "stream",
     "text": [
      "CPU times: user 6min 8s, sys: 1min 12s, total: 7min 20s\n",
      "Wall time: 1min 6s\n"
     ]
    }
   ],
   "source": [
    "%%time\n",
    "from sklearn.cluster import KMeans\n",
    "from scipy.spatial.distance import cdist\n",
    "\n",
    "\n",
    "# Do a loop over different k's to find the optimum\n",
    "inertias = []\n",
    "distortions = []\n",
    "for i in range(1,7):\n",
    "    kmeans = KMeans(n_clusters=i).fit(pca_transformed)\n",
    "    cluster_centers = kmeans.cluster_centers_\n",
    "    inertias.append(kmeans.inertia_)\n",
    "    \n",
    "    distortions.append(sum(np.min(cdist(pca_transformed, kmeans.cluster_centers_,\n",
    "                                        'euclidean'), axis=1)) / pca_transformed.shape[0])\n",
    "                                        \n",
    "    inertias.append(kmeans.inertia_)\n",
    "    "
   ]
  },
  {
   "cell_type": "code",
   "execution_count": 56,
   "metadata": {},
   "outputs": [
    {
     "data": {
      "text/plain": [
       "[0.1288953417692916,\n",
       " 0.08306795734038155,\n",
       " 0.0660620145733061,\n",
       " 0.058320760269333034,\n",
       " 0.05403495636804407,\n",
       " 0.04901145994238172]"
      ]
     },
     "execution_count": 56,
     "metadata": {},
     "output_type": "execute_result"
    }
   ],
   "source": [
    "distortions"
   ]
  },
  {
   "cell_type": "code",
   "execution_count": 57,
   "metadata": {},
   "outputs": [
    {
     "data": {
      "text/plain": [
       "<AxesSubplot:>"
      ]
     },
     "execution_count": 57,
     "metadata": {},
     "output_type": "execute_result"
    },
    {
     "data": {
      "image/png": "[encoded data removed]",
      "text/plain": [
       "<Figure size 432x288 with 1 Axes>"
      ]
     },
     "metadata": {
      "needs_background": "light"
     },
     "output_type": "display_data"
    }
   ],
   "source": [
    "sns.lineplot(x=range(1,7), y=distortions)"
   ]
  },
  {
   "cell_type": "code",
   "execution_count": null,
   "metadata": {},
   "outputs": [],
   "source": []
  },
  {
   "cell_type": "code",
   "execution_count": 58,
   "metadata": {},
   "outputs": [
    {
     "name": "stdout",
     "output_type": "stream",
     "text": [
      "CPU times: user 1min 16s, sys: 15.3 s, total: 1min 31s\n",
      "Wall time: 13.8 s\n"
     ]
    }
   ],
   "source": [
    "%%time\n",
    "from sklearn.cluster import KMeans\n",
    "\n",
    "kmeans = KMeans(n_clusters=5).fit(pca_transformed)\n",
    "labels = kmeans.labels_"
   ]
  },
  {
   "cell_type": "code",
   "execution_count": 59,
   "metadata": {},
   "outputs": [],
   "source": [
    "cluster_df = pd.DataFrame(kmeans.cluster_centers_, columns=pca_transformed.columns)\n"
   ]
  },
  {
   "cell_type": "code",
   "execution_count": 60,
   "metadata": {},
   "outputs": [
    {
     "data": {
      "text/plain": [
       "Text(0.5, 1.0, 'Attribute Value by Centroid')"
      ]
     },
     "execution_count": 60,
     "metadata": {},
     "output_type": "execute_result"
    },
    {
     "data": {
      "image/png": "[encoded data removed]",
      "text/plain": [
       "<Figure size 864x648 with 2 Axes>"
      ]
     },
     "metadata": {
      "needs_background": "light"
     },
     "output_type": "display_data"
    }
   ],
   "source": [
    "plt.figure(figsize = (12,9))\n",
    "ax = sns.heatmap(cluster_df.T, cmap = 'YlGnBu', annot=True)\n",
    "ax.set_xlabel(\"Cluster\")\n",
    "plt.yticks(fontsize = 16)\n",
    "plt.xticks(fontsize = 16)\n",
    "ax.set_title(\"Attribute Value by Centroid\")\n",
    "\n"
   ]
  },
  {
   "cell_type": "code",
   "execution_count": 126,
   "metadata": {},
   "outputs": [],
   "source": [
    "df.loc[:, 'label'] = labels"
   ]
  },
  {
   "cell_type": "code",
   "execution_count": 128,
   "metadata": {},
   "outputs": [],
   "source": [
    "ticks = [0, 3, 4, 1, 2]\n",
    "label_mapping = {0:'very high priced', 3:'high priced', 4:'normal priced', 1:'low priced', 2:'very low priced'}\n",
    "df.label = df.label.map(label_mapping)"
   ]
  },
  {
   "cell_type": "code",
   "execution_count": 129,
   "metadata": {},
   "outputs": [],
   "source": [
    "\n",
    "city_count = df.groupby(['label', ]).City.value_counts().reset_index(name='city_counts')\n",
    "#city_count = city_count.pivot(index='City', columns='label', values='city_counts')"
   ]
  },
  {
   "cell_type": "code",
   "execution_count": 130,
   "metadata": {},
   "outputs": [
    {
     "data": {
      "text/html": [
       "<div>\n",
       "<style scoped>\n",
       "    .dataframe tbody tr th:only-of-type {\n",
       "        vertical-align: middle;\n",
       "    }\n",
       "\n",
       "    .dataframe tbody tr th {\n",
       "        vertical-align: top;\n",
       "    }\n",
       "\n",
       "    .dataframe thead th {\n",
       "        text-align: right;\n",
       "    }\n",
       "</style>\n",
       "<table border=\"1\" class=\"dataframe\">\n",
       "  <thead>\n",
       "    <tr style=\"text-align: right;\">\n",
       "      <th></th>\n",
       "      <th>label</th>\n",
       "      <th>City</th>\n",
       "      <th>city_counts</th>\n",
       "    </tr>\n",
       "  </thead>\n",
       "  <tbody>\n",
       "    <tr>\n",
       "      <th>0</th>\n",
       "      <td>high priced</td>\n",
       "      <td>Berlin</td>\n",
       "      <td>68159</td>\n",
       "    </tr>\n",
       "    <tr>\n",
       "      <th>1</th>\n",
       "      <td>high priced</td>\n",
       "      <td>München</td>\n",
       "      <td>49611</td>\n",
       "    </tr>\n",
       "    <tr>\n",
       "      <th>2</th>\n",
       "      <td>high priced</td>\n",
       "      <td>Frankfurt</td>\n",
       "      <td>41223</td>\n",
       "    </tr>\n",
       "    <tr>\n",
       "      <th>3</th>\n",
       "      <td>high priced</td>\n",
       "      <td>Hamburg</td>\n",
       "      <td>28956</td>\n",
       "    </tr>\n",
       "    <tr>\n",
       "      <th>4</th>\n",
       "      <td>high priced</td>\n",
       "      <td>Düsseldorf</td>\n",
       "      <td>27782</td>\n",
       "    </tr>\n",
       "    <tr>\n",
       "      <th>...</th>\n",
       "      <td>...</td>\n",
       "      <td>...</td>\n",
       "      <td>...</td>\n",
       "    </tr>\n",
       "    <tr>\n",
       "      <th>70</th>\n",
       "      <td>very low priced</td>\n",
       "      <td>Köln</td>\n",
       "      <td>37102</td>\n",
       "    </tr>\n",
       "    <tr>\n",
       "      <th>71</th>\n",
       "      <td>very low priced</td>\n",
       "      <td>Nürnberg</td>\n",
       "      <td>30945</td>\n",
       "    </tr>\n",
       "    <tr>\n",
       "      <th>72</th>\n",
       "      <td>very low priced</td>\n",
       "      <td>Frankfurt</td>\n",
       "      <td>21914</td>\n",
       "    </tr>\n",
       "    <tr>\n",
       "      <th>73</th>\n",
       "      <td>very low priced</td>\n",
       "      <td>Stuttgart</td>\n",
       "      <td>12177</td>\n",
       "    </tr>\n",
       "    <tr>\n",
       "      <th>74</th>\n",
       "      <td>very low priced</td>\n",
       "      <td>München</td>\n",
       "      <td>11577</td>\n",
       "    </tr>\n",
       "  </tbody>\n",
       "</table>\n",
       "<p>75 rows × 3 columns</p>\n",
       "</div>"
      ],
      "text/plain": [
       "              label        City  city_counts\n",
       "0       high priced      Berlin        68159\n",
       "1       high priced     München        49611\n",
       "2       high priced   Frankfurt        41223\n",
       "3       high priced     Hamburg        28956\n",
       "4       high priced  Düsseldorf        27782\n",
       "..              ...         ...          ...\n",
       "70  very low priced        Köln        37102\n",
       "71  very low priced    Nürnberg        30945\n",
       "72  very low priced   Frankfurt        21914\n",
       "73  very low priced   Stuttgart        12177\n",
       "74  very low priced     München        11577\n",
       "\n",
       "[75 rows x 3 columns]"
      ]
     },
     "execution_count": 130,
     "metadata": {},
     "output_type": "execute_result"
    }
   ],
   "source": [
    "df.anzahletagen"
   ]
  },
  {
   "cell_type": "code",
   "execution_count": 203,
   "metadata": {},
   "outputs": [],
   "source": [
    "city_count = df.groupby(['City', 'year']).label.value_counts(normalize=True).reset_index(name='label_ratio')\n",
    "wohnflaeche = df.groupby(['City', 'year', 'label']).wohnflaeche.mean().reset_index(name='wohnflaeche_mean')\n",
    "baujahr = df.groupby(['City', 'year', 'label']).baujahr.mean().reset_index(name='baujahr_mean')\n",
    "rent_sqm = df.groupby(['City', 'year', 'label']).rent_sqm.mean().reset_index(name='rent_sqm_mean')\n",
    "miete_mean = df.groupby(['City', 'year', 'label']).mietekalt.mean().reset_index(name='mietekalt_mean')\n",
    "laufzeittage = df.groupby(['City', 'year', 'label']).laufzeittage.mean().reset_index(name='laufzeittage_mean')\n",
    "anzahletagen = df.groupby(['City', 'year', 'label']).anzahletagen.mean().reset_index(name='anzahletagen_mean')\n",
    "zimmeranzahl = df.groupby(['City', 'year', 'label']).zimmeranzahl.mean().reset_index(name='zimmeranzahl_mean')\n",
    "\n",
    "\n",
    "\n",
    "\n",
    "\n",
    "\n",
    "\n"
   ]
  },
  {
   "cell_type": "code",
   "execution_count": 174,
   "metadata": {},
   "outputs": [
    {
     "data": {
      "text/html": [
       "<div>\n",
       "<style scoped>\n",
       "    .dataframe tbody tr th:only-of-type {\n",
       "        vertical-align: middle;\n",
       "    }\n",
       "\n",
       "    .dataframe tbody tr th {\n",
       "        vertical-align: top;\n",
       "    }\n",
       "\n",
       "    .dataframe thead th {\n",
       "        text-align: right;\n",
       "    }\n",
       "</style>\n",
       "<table border=\"1\" class=\"dataframe\">\n",
       "  <thead>\n",
       "    <tr style=\"text-align: right;\">\n",
       "      <th></th>\n",
       "      <th>City</th>\n",
       "      <th>year</th>\n",
       "      <th>label</th>\n",
       "      <th>ausstattung</th>\n",
       "      <th>ausstattung_count</th>\n",
       "    </tr>\n",
       "  </thead>\n",
       "  <tbody>\n",
       "    <tr>\n",
       "      <th>0</th>\n",
       "      <td>Berlin</td>\n",
       "      <td>2007</td>\n",
       "      <td>high priced</td>\n",
       "      <td>Gehoben</td>\n",
       "      <td>18</td>\n",
       "    </tr>\n",
       "    <tr>\n",
       "      <th>1</th>\n",
       "      <td>Berlin</td>\n",
       "      <td>2007</td>\n",
       "      <td>high priced</td>\n",
       "      <td>Normal</td>\n",
       "      <td>7</td>\n",
       "    </tr>\n",
       "    <tr>\n",
       "      <th>2</th>\n",
       "      <td>Berlin</td>\n",
       "      <td>2007</td>\n",
       "      <td>high priced</td>\n",
       "      <td>Luxus</td>\n",
       "      <td>2</td>\n",
       "    </tr>\n",
       "    <tr>\n",
       "      <th>3</th>\n",
       "      <td>Berlin</td>\n",
       "      <td>2007</td>\n",
       "      <td>low priced</td>\n",
       "      <td>Normal</td>\n",
       "      <td>129</td>\n",
       "    </tr>\n",
       "    <tr>\n",
       "      <th>4</th>\n",
       "      <td>Berlin</td>\n",
       "      <td>2007</td>\n",
       "      <td>low priced</td>\n",
       "      <td>Gehoben</td>\n",
       "      <td>119</td>\n",
       "    </tr>\n",
       "    <tr>\n",
       "      <th>...</th>\n",
       "      <td>...</td>\n",
       "      <td>...</td>\n",
       "      <td>...</td>\n",
       "      <td>...</td>\n",
       "      <td>...</td>\n",
       "    </tr>\n",
       "    <tr>\n",
       "      <th>3436</th>\n",
       "      <td>Stuttgart</td>\n",
       "      <td>2019</td>\n",
       "      <td>very high priced</td>\n",
       "      <td>Luxus</td>\n",
       "      <td>173</td>\n",
       "    </tr>\n",
       "    <tr>\n",
       "      <th>3437</th>\n",
       "      <td>Stuttgart</td>\n",
       "      <td>2019</td>\n",
       "      <td>very high priced</td>\n",
       "      <td>Einfach</td>\n",
       "      <td>1</td>\n",
       "    </tr>\n",
       "    <tr>\n",
       "      <th>3438</th>\n",
       "      <td>Stuttgart</td>\n",
       "      <td>2019</td>\n",
       "      <td>very low priced</td>\n",
       "      <td>Normal</td>\n",
       "      <td>78</td>\n",
       "    </tr>\n",
       "    <tr>\n",
       "      <th>3439</th>\n",
       "      <td>Stuttgart</td>\n",
       "      <td>2019</td>\n",
       "      <td>very low priced</td>\n",
       "      <td>Einfach</td>\n",
       "      <td>14</td>\n",
       "    </tr>\n",
       "    <tr>\n",
       "      <th>3440</th>\n",
       "      <td>Stuttgart</td>\n",
       "      <td>2019</td>\n",
       "      <td>very low priced</td>\n",
       "      <td>Gehoben</td>\n",
       "      <td>11</td>\n",
       "    </tr>\n",
       "  </tbody>\n",
       "</table>\n",
       "<p>3441 rows × 5 columns</p>\n",
       "</div>"
      ],
      "text/plain": [
       "           City  year             label ausstattung  ausstattung_count\n",
       "0        Berlin  2007       high priced     Gehoben                 18\n",
       "1        Berlin  2007       high priced      Normal                  7\n",
       "2        Berlin  2007       high priced       Luxus                  2\n",
       "3        Berlin  2007        low priced      Normal                129\n",
       "4        Berlin  2007        low priced     Gehoben                119\n",
       "...         ...   ...               ...         ...                ...\n",
       "3436  Stuttgart  2019  very high priced       Luxus                173\n",
       "3437  Stuttgart  2019  very high priced     Einfach                  1\n",
       "3438  Stuttgart  2019   very low priced      Normal                 78\n",
       "3439  Stuttgart  2019   very low priced     Einfach                 14\n",
       "3440  Stuttgart  2019   very low priced     Gehoben                 11\n",
       "\n",
       "[3441 rows x 5 columns]"
      ]
     },
     "execution_count": 174,
     "metadata": {},
     "output_type": "execute_result"
    }
   ],
   "source": [
    "df.groupby(['City', 'year', 'label']).ausstattung.value_counts().reset_index(name='ausstattung_count')"
   ]
  },
  {
   "cell_type": "code",
   "execution_count": 204,
   "metadata": {},
   "outputs": [],
   "source": [
    "summary =miete_mean.merge(wohnflaeche, left_on=['City', 'year', 'label'], right_on=['City', 'year', 'label']) \\\n",
    ".merge(baujahr, left_on=['City', 'year', 'label'], right_on=['City', 'year', 'label']) \\\n",
    ".merge(rent_sqm, left_on=['City', 'year', 'label'], right_on=['City', 'year', 'label']) \\\n",
    ".merge(laufzeittage, left_on=['City', 'year', 'label'], right_on=['City', 'year', 'label']) \\\n",
    ".merge(anzahletagen, left_on=['City', 'year', 'label'], right_on=['City', 'year', 'label']) \\\n",
    ".merge(zimmeranzahl, left_on=['City', 'year', 'label'], right_on=['City', 'year', 'label']) \\\n",
    ".merge(city_count, left_on=['City', 'year', 'label'], right_on=['City', 'year', 'label'])"
   ]
  },
  {
   "cell_type": "code",
   "execution_count": 205,
   "metadata": {},
   "outputs": [
    {
     "data": {
      "text/html": [
       "<div>\n",
       "<style scoped>\n",
       "    .dataframe tbody tr th:only-of-type {\n",
       "        vertical-align: middle;\n",
       "    }\n",
       "\n",
       "    .dataframe tbody tr th {\n",
       "        vertical-align: top;\n",
       "    }\n",
       "\n",
       "    .dataframe thead th {\n",
       "        text-align: right;\n",
       "    }\n",
       "</style>\n",
       "<table border=\"1\" class=\"dataframe\">\n",
       "  <thead>\n",
       "    <tr style=\"text-align: right;\">\n",
       "      <th></th>\n",
       "      <th>City</th>\n",
       "      <th>year</th>\n",
       "      <th>label</th>\n",
       "      <th>mietekalt_mean</th>\n",
       "      <th>wohnflaeche_mean</th>\n",
       "      <th>baujahr_mean</th>\n",
       "      <th>rent_sqm_mean</th>\n",
       "      <th>laufzeittage_mean</th>\n",
       "      <th>anzahletagen_mean</th>\n",
       "      <th>zimmeranzahl_mean</th>\n",
       "      <th>label_ratio</th>\n",
       "    </tr>\n",
       "  </thead>\n",
       "  <tbody>\n",
       "    <tr>\n",
       "      <th>0</th>\n",
       "      <td>Berlin</td>\n",
       "      <td>2007</td>\n",
       "      <td>high priced</td>\n",
       "      <td>1038.719409</td>\n",
       "      <td>122.749451</td>\n",
       "      <td>1942.850525</td>\n",
       "      <td>8.611152</td>\n",
       "      <td>34.882601</td>\n",
       "      <td>-30.050676</td>\n",
       "      <td>3.597128</td>\n",
       "      <td>0.023754</td>\n",
       "    </tr>\n",
       "    <tr>\n",
       "      <th>1</th>\n",
       "      <td>Berlin</td>\n",
       "      <td>2007</td>\n",
       "      <td>low priced</td>\n",
       "      <td>495.304425</td>\n",
       "      <td>84.827695</td>\n",
       "      <td>1950.193002</td>\n",
       "      <td>6.023987</td>\n",
       "      <td>37.428379</td>\n",
       "      <td>-31.517261</td>\n",
       "      <td>2.887434</td>\n",
       "      <td>0.252804</td>\n",
       "    </tr>\n",
       "    <tr>\n",
       "      <th>2</th>\n",
       "      <td>Berlin</td>\n",
       "      <td>2007</td>\n",
       "      <td>normal priced</td>\n",
       "      <td>725.293180</td>\n",
       "      <td>104.759380</td>\n",
       "      <td>1943.819006</td>\n",
       "      <td>7.138539</td>\n",
       "      <td>35.244957</td>\n",
       "      <td>-27.439721</td>\n",
       "      <td>3.321326</td>\n",
       "      <td>0.083539</td>\n",
       "    </tr>\n",
       "    <tr>\n",
       "      <th>3</th>\n",
       "      <td>Berlin</td>\n",
       "      <td>2007</td>\n",
       "      <td>very high priced</td>\n",
       "      <td>1383.848407</td>\n",
       "      <td>134.177967</td>\n",
       "      <td>1945.309543</td>\n",
       "      <td>10.404585</td>\n",
       "      <td>40.175824</td>\n",
       "      <td>-30.494505</td>\n",
       "      <td>3.796703</td>\n",
       "      <td>0.003651</td>\n",
       "    </tr>\n",
       "    <tr>\n",
       "      <th>4</th>\n",
       "      <td>Berlin</td>\n",
       "      <td>2007</td>\n",
       "      <td>very low priced</td>\n",
       "      <td>305.871845</td>\n",
       "      <td>59.923220</td>\n",
       "      <td>1950.797217</td>\n",
       "      <td>5.246541</td>\n",
       "      <td>32.301823</td>\n",
       "      <td>-45.483194</td>\n",
       "      <td>2.133636</td>\n",
       "      <td>0.636252</td>\n",
       "    </tr>\n",
       "    <tr>\n",
       "      <th>...</th>\n",
       "      <td>...</td>\n",
       "      <td>...</td>\n",
       "      <td>...</td>\n",
       "      <td>...</td>\n",
       "      <td>...</td>\n",
       "      <td>...</td>\n",
       "      <td>...</td>\n",
       "      <td>...</td>\n",
       "      <td>...</td>\n",
       "      <td>...</td>\n",
       "      <td>...</td>\n",
       "    </tr>\n",
       "    <tr>\n",
       "      <th>965</th>\n",
       "      <td>Stuttgart</td>\n",
       "      <td>2019</td>\n",
       "      <td>high priced</td>\n",
       "      <td>1098.714431</td>\n",
       "      <td>74.748174</td>\n",
       "      <td>1962.402935</td>\n",
       "      <td>15.349910</td>\n",
       "      <td>23.286835</td>\n",
       "      <td>-24.063866</td>\n",
       "      <td>2.772269</td>\n",
       "      <td>0.255621</td>\n",
       "    </tr>\n",
       "    <tr>\n",
       "      <th>966</th>\n",
       "      <td>Stuttgart</td>\n",
       "      <td>2019</td>\n",
       "      <td>low priced</td>\n",
       "      <td>534.735623</td>\n",
       "      <td>39.272910</td>\n",
       "      <td>1959.408782</td>\n",
       "      <td>15.063898</td>\n",
       "      <td>29.770654</td>\n",
       "      <td>-26.475956</td>\n",
       "      <td>1.429100</td>\n",
       "      <td>0.116139</td>\n",
       "    </tr>\n",
       "    <tr>\n",
       "      <th>967</th>\n",
       "      <td>Stuttgart</td>\n",
       "      <td>2019</td>\n",
       "      <td>normal priced</td>\n",
       "      <td>772.495645</td>\n",
       "      <td>55.993863</td>\n",
       "      <td>1962.245445</td>\n",
       "      <td>14.899830</td>\n",
       "      <td>18.169402</td>\n",
       "      <td>-30.673505</td>\n",
       "      <td>2.160903</td>\n",
       "      <td>0.244308</td>\n",
       "    </tr>\n",
       "    <tr>\n",
       "      <th>968</th>\n",
       "      <td>Stuttgart</td>\n",
       "      <td>2019</td>\n",
       "      <td>very high priced</td>\n",
       "      <td>1694.641055</td>\n",
       "      <td>93.425580</td>\n",
       "      <td>1961.132995</td>\n",
       "      <td>19.020424</td>\n",
       "      <td>23.522382</td>\n",
       "      <td>-54.011990</td>\n",
       "      <td>3.154676</td>\n",
       "      <td>0.358299</td>\n",
       "    </tr>\n",
       "    <tr>\n",
       "      <th>969</th>\n",
       "      <td>Stuttgart</td>\n",
       "      <td>2019</td>\n",
       "      <td>very low priced</td>\n",
       "      <td>353.755978</td>\n",
       "      <td>31.230279</td>\n",
       "      <td>1960.336400</td>\n",
       "      <td>12.286079</td>\n",
       "      <td>14.094972</td>\n",
       "      <td>-39.268156</td>\n",
       "      <td>1.170391</td>\n",
       "      <td>0.025634</td>\n",
       "    </tr>\n",
       "  </tbody>\n",
       "</table>\n",
       "<p>970 rows × 11 columns</p>\n",
       "</div>"
      ],
      "text/plain": [
       "          City  year             label  mietekalt_mean  wohnflaeche_mean  \\\n",
       "0       Berlin  2007       high priced     1038.719409        122.749451   \n",
       "1       Berlin  2007        low priced      495.304425         84.827695   \n",
       "2       Berlin  2007     normal priced      725.293180        104.759380   \n",
       "3       Berlin  2007  very high priced     1383.848407        134.177967   \n",
       "4       Berlin  2007   very low priced      305.871845         59.923220   \n",
       "..         ...   ...               ...             ...               ...   \n",
       "965  Stuttgart  2019       high priced     1098.714431         74.748174   \n",
       "966  Stuttgart  2019        low priced      534.735623         39.272910   \n",
       "967  Stuttgart  2019     normal priced      772.495645         55.993863   \n",
       "968  Stuttgart  2019  very high priced     1694.641055         93.425580   \n",
       "969  Stuttgart  2019   very low priced      353.755978         31.230279   \n",
       "\n",
       "     baujahr_mean  rent_sqm_mean  laufzeittage_mean  anzahletagen_mean  \\\n",
       "0     1942.850525       8.611152          34.882601         -30.050676   \n",
       "1     1950.193002       6.023987          37.428379         -31.517261   \n",
       "2     1943.819006       7.138539          35.244957         -27.439721   \n",
       "3     1945.309543      10.404585          40.175824         -30.494505   \n",
       "4     1950.797217       5.246541          32.301823         -45.483194   \n",
       "..            ...            ...                ...                ...   \n",
       "965   1962.402935      15.349910          23.286835         -24.063866   \n",
       "966   1959.408782      15.063898          29.770654         -26.475956   \n",
       "967   1962.245445      14.899830          18.169402         -30.673505   \n",
       "968   1961.132995      19.020424          23.522382         -54.011990   \n",
       "969   1960.336400      12.286079          14.094972         -39.268156   \n",
       "\n",
       "     zimmeranzahl_mean  label_ratio  \n",
       "0             3.597128     0.023754  \n",
       "1             2.887434     0.252804  \n",
       "2             3.321326     0.083539  \n",
       "3             3.796703     0.003651  \n",
       "4             2.133636     0.636252  \n",
       "..                 ...          ...  \n",
       "965           2.772269     0.255621  \n",
       "966           1.429100     0.116139  \n",
       "967           2.160903     0.244308  \n",
       "968           3.154676     0.358299  \n",
       "969           1.170391     0.025634  \n",
       "\n",
       "[970 rows x 11 columns]"
      ]
     },
     "execution_count": 205,
     "metadata": {},
     "output_type": "execute_result"
    }
   ],
   "source": [
    "summary"
   ]
  },
  {
   "cell_type": "code",
   "execution_count": 206,
   "metadata": {},
   "outputs": [
    {
     "data": {
      "text/plain": [
       "<AxesSubplot:xlabel='mietekalt_mean', ylabel='wohnflaeche_mean'>"
      ]
     },
     "execution_count": 206,
     "metadata": {},
     "output_type": "execute_result"
    },
    {
     "data": {
      "image/png": "[encoded data removed]",
      "text/plain": [
       "<Figure size 864x648 with 1 Axes>"
      ]
     },
     "metadata": {
      "needs_background": "light"
     },
     "output_type": "display_data"
    }
   ],
   "source": [
    "plt.figure(figsize=(12,9))\n",
    "\n",
    "\n",
    "sns.scatterplot(data=summary.query('City == \"München\" '), x='mietekalt_mean', y='wohnflaeche_mean', hue='year', palette='husl')"
   ]
  },
  {
   "cell_type": "code",
   "execution_count": 178,
   "metadata": {},
   "outputs": [],
   "source": [
    "berlin = summary.query('City == \"Berlin\"')"
   ]
  },
  {
   "cell_type": "code",
   "execution_count": 179,
   "metadata": {},
   "outputs": [
    {
     "data": {
      "text/html": [
       "<div>\n",
       "<style scoped>\n",
       "    .dataframe tbody tr th:only-of-type {\n",
       "        vertical-align: middle;\n",
       "    }\n",
       "\n",
       "    .dataframe tbody tr th {\n",
       "        vertical-align: top;\n",
       "    }\n",
       "\n",
       "    .dataframe thead th {\n",
       "        text-align: right;\n",
       "    }\n",
       "</style>\n",
       "<table border=\"1\" class=\"dataframe\">\n",
       "  <thead>\n",
       "    <tr style=\"text-align: right;\">\n",
       "      <th></th>\n",
       "      <th></th>\n",
       "      <th>mietekalt_mean</th>\n",
       "      <th>wohnflaeche_mean</th>\n",
       "      <th>baujahr_mean</th>\n",
       "      <th>rent_sqm_mean</th>\n",
       "      <th>laufzeittage_mean</th>\n",
       "      <th>label_ratio</th>\n",
       "    </tr>\n",
       "    <tr>\n",
       "      <th>year</th>\n",
       "      <th>label</th>\n",
       "      <th></th>\n",
       "      <th></th>\n",
       "      <th></th>\n",
       "      <th></th>\n",
       "      <th></th>\n",
       "      <th></th>\n",
       "    </tr>\n",
       "  </thead>\n",
       "  <tbody>\n",
       "    <tr>\n",
       "      <th rowspan=\"5\" valign=\"top\">2007</th>\n",
       "      <th>high priced</th>\n",
       "      <td>1038.719409</td>\n",
       "      <td>122.749451</td>\n",
       "      <td>1942.850525</td>\n",
       "      <td>8.611152</td>\n",
       "      <td>34.882601</td>\n",
       "      <td>0.023754</td>\n",
       "    </tr>\n",
       "    <tr>\n",
       "      <th>low priced</th>\n",
       "      <td>495.304425</td>\n",
       "      <td>84.827695</td>\n",
       "      <td>1950.193002</td>\n",
       "      <td>6.023987</td>\n",
       "      <td>37.428379</td>\n",
       "      <td>0.252804</td>\n",
       "    </tr>\n",
       "    <tr>\n",
       "      <th>normal priced</th>\n",
       "      <td>725.293180</td>\n",
       "      <td>104.759380</td>\n",
       "      <td>1943.819006</td>\n",
       "      <td>7.138539</td>\n",
       "      <td>35.244957</td>\n",
       "      <td>0.083539</td>\n",
       "    </tr>\n",
       "    <tr>\n",
       "      <th>very high priced</th>\n",
       "      <td>1383.848407</td>\n",
       "      <td>134.177967</td>\n",
       "      <td>1945.309543</td>\n",
       "      <td>10.404585</td>\n",
       "      <td>40.175824</td>\n",
       "      <td>0.003651</td>\n",
       "    </tr>\n",
       "    <tr>\n",
       "      <th>very low priced</th>\n",
       "      <td>305.871845</td>\n",
       "      <td>59.923220</td>\n",
       "      <td>1950.797217</td>\n",
       "      <td>5.246541</td>\n",
       "      <td>32.301823</td>\n",
       "      <td>0.636252</td>\n",
       "    </tr>\n",
       "    <tr>\n",
       "      <th>...</th>\n",
       "      <th>...</th>\n",
       "      <td>...</td>\n",
       "      <td>...</td>\n",
       "      <td>...</td>\n",
       "      <td>...</td>\n",
       "      <td>...</td>\n",
       "      <td>...</td>\n",
       "    </tr>\n",
       "    <tr>\n",
       "      <th rowspan=\"5\" valign=\"top\">2019</th>\n",
       "      <th>high priced</th>\n",
       "      <td>1084.248508</td>\n",
       "      <td>79.770352</td>\n",
       "      <td>1962.275865</td>\n",
       "      <td>14.359058</td>\n",
       "      <td>25.911840</td>\n",
       "      <td>0.196846</td>\n",
       "    </tr>\n",
       "    <tr>\n",
       "      <th>low priced</th>\n",
       "      <td>521.962113</td>\n",
       "      <td>55.621573</td>\n",
       "      <td>1961.429146</td>\n",
       "      <td>10.229983</td>\n",
       "      <td>18.778993</td>\n",
       "      <td>0.261953</td>\n",
       "    </tr>\n",
       "    <tr>\n",
       "      <th>normal priced</th>\n",
       "      <td>751.730493</td>\n",
       "      <td>65.766297</td>\n",
       "      <td>1960.392148</td>\n",
       "      <td>12.112193</td>\n",
       "      <td>22.018659</td>\n",
       "      <td>0.253457</td>\n",
       "    </tr>\n",
       "    <tr>\n",
       "      <th>very high priced</th>\n",
       "      <td>1624.233389</td>\n",
       "      <td>105.375391</td>\n",
       "      <td>1964.662988</td>\n",
       "      <td>15.968334</td>\n",
       "      <td>37.147484</td>\n",
       "      <td>0.149733</td>\n",
       "    </tr>\n",
       "    <tr>\n",
       "      <th>very low priced</th>\n",
       "      <td>351.383129</td>\n",
       "      <td>46.072773</td>\n",
       "      <td>1972.286594</td>\n",
       "      <td>8.004702</td>\n",
       "      <td>7.505009</td>\n",
       "      <td>0.138011</td>\n",
       "    </tr>\n",
       "  </tbody>\n",
       "</table>\n",
       "<p>65 rows × 6 columns</p>\n",
       "</div>"
      ],
      "text/plain": [
       "                       mietekalt_mean  wohnflaeche_mean  baujahr_mean  \\\n",
       "year label                                                              \n",
       "2007 high priced          1038.719409        122.749451   1942.850525   \n",
       "     low priced            495.304425         84.827695   1950.193002   \n",
       "     normal priced         725.293180        104.759380   1943.819006   \n",
       "     very high priced     1383.848407        134.177967   1945.309543   \n",
       "     very low priced       305.871845         59.923220   1950.797217   \n",
       "...                               ...               ...           ...   \n",
       "2019 high priced          1084.248508         79.770352   1962.275865   \n",
       "     low priced            521.962113         55.621573   1961.429146   \n",
       "     normal priced         751.730493         65.766297   1960.392148   \n",
       "     very high priced     1624.233389        105.375391   1964.662988   \n",
       "     very low priced       351.383129         46.072773   1972.286594   \n",
       "\n",
       "                       rent_sqm_mean  laufzeittage_mean  label_ratio  \n",
       "year label                                                            \n",
       "2007 high priced            8.611152          34.882601     0.023754  \n",
       "     low priced             6.023987          37.428379     0.252804  \n",
       "     normal priced          7.138539          35.244957     0.083539  \n",
       "     very high priced      10.404585          40.175824     0.003651  \n",
       "     very low priced        5.246541          32.301823     0.636252  \n",
       "...                              ...                ...          ...  \n",
       "2019 high priced           14.359058          25.911840     0.196846  \n",
       "     low priced            10.229983          18.778993     0.261953  \n",
       "     normal priced         12.112193          22.018659     0.253457  \n",
       "     very high priced      15.968334          37.147484     0.149733  \n",
       "     very low priced        8.004702           7.505009     0.138011  \n",
       "\n",
       "[65 rows x 6 columns]"
      ]
     },
     "execution_count": 179,
     "metadata": {},
     "output_type": "execute_result"
    }
   ],
   "source": [
    "berlin.groupby(['year', 'label']).sum()"
   ]
  },
  {
   "cell_type": "code",
   "execution_count": 180,
   "metadata": {},
   "outputs": [],
   "source": [
    "label_ratio = df.groupby(['City', 'year']).label.value_counts(normalize=True).reset_index(name='label_ratio')\n",
    "city_count = df.groupby(['City', 'year']).label.value_counts(normalize=True).reset_index(name='label_ratio')"
   ]
  },
  {
   "cell_type": "code",
   "execution_count": 181,
   "metadata": {},
   "outputs": [
    {
     "data": {
      "text/html": [
       "<div>\n",
       "<style scoped>\n",
       "    .dataframe tbody tr th:only-of-type {\n",
       "        vertical-align: middle;\n",
       "    }\n",
       "\n",
       "    .dataframe tbody tr th {\n",
       "        vertical-align: top;\n",
       "    }\n",
       "\n",
       "    .dataframe thead th {\n",
       "        text-align: right;\n",
       "    }\n",
       "</style>\n",
       "<table border=\"1\" class=\"dataframe\">\n",
       "  <thead>\n",
       "    <tr style=\"text-align: right;\">\n",
       "      <th></th>\n",
       "      <th></th>\n",
       "      <th>label_ratio</th>\n",
       "    </tr>\n",
       "    <tr>\n",
       "      <th>City</th>\n",
       "      <th>year</th>\n",
       "      <th></th>\n",
       "    </tr>\n",
       "  </thead>\n",
       "  <tbody>\n",
       "    <tr>\n",
       "      <th rowspan=\"5\" valign=\"top\">Berlin</th>\n",
       "      <th>2007</th>\n",
       "      <td>1.0</td>\n",
       "    </tr>\n",
       "    <tr>\n",
       "      <th>2008</th>\n",
       "      <td>1.0</td>\n",
       "    </tr>\n",
       "    <tr>\n",
       "      <th>2009</th>\n",
       "      <td>1.0</td>\n",
       "    </tr>\n",
       "    <tr>\n",
       "      <th>2010</th>\n",
       "      <td>1.0</td>\n",
       "    </tr>\n",
       "    <tr>\n",
       "      <th>2011</th>\n",
       "      <td>1.0</td>\n",
       "    </tr>\n",
       "    <tr>\n",
       "      <th>...</th>\n",
       "      <th>...</th>\n",
       "      <td>...</td>\n",
       "    </tr>\n",
       "    <tr>\n",
       "      <th rowspan=\"5\" valign=\"top\">Stuttgart</th>\n",
       "      <th>2015</th>\n",
       "      <td>1.0</td>\n",
       "    </tr>\n",
       "    <tr>\n",
       "      <th>2016</th>\n",
       "      <td>1.0</td>\n",
       "    </tr>\n",
       "    <tr>\n",
       "      <th>2017</th>\n",
       "      <td>1.0</td>\n",
       "    </tr>\n",
       "    <tr>\n",
       "      <th>2018</th>\n",
       "      <td>1.0</td>\n",
       "    </tr>\n",
       "    <tr>\n",
       "      <th>2019</th>\n",
       "      <td>1.0</td>\n",
       "    </tr>\n",
       "  </tbody>\n",
       "</table>\n",
       "<p>195 rows × 1 columns</p>\n",
       "</div>"
      ],
      "text/plain": [
       "                label_ratio\n",
       "City      year             \n",
       "Berlin    2007          1.0\n",
       "          2008          1.0\n",
       "          2009          1.0\n",
       "          2010          1.0\n",
       "          2011          1.0\n",
       "...                     ...\n",
       "Stuttgart 2015          1.0\n",
       "          2016          1.0\n",
       "          2017          1.0\n",
       "          2018          1.0\n",
       "          2019          1.0\n",
       "\n",
       "[195 rows x 1 columns]"
      ]
     },
     "execution_count": 181,
     "metadata": {},
     "output_type": "execute_result"
    }
   ],
   "source": [
    "city_count.groupby(['City', 'year']).sum()"
   ]
  },
  {
   "cell_type": "code",
   "execution_count": 186,
   "metadata": {},
   "outputs": [],
   "source": [
    "berlin = label_ratio.query('City == \"Berlin\"')"
   ]
  },
  {
   "cell_type": "code",
   "execution_count": 190,
   "metadata": {},
   "outputs": [
    {
     "data": {
      "text/plain": [
       "<matplotlib.legend.Legend at 0x7fef80689d30>"
      ]
     },
     "execution_count": 190,
     "metadata": {},
     "output_type": "execute_result"
    },
    {
     "data": {
      "image/png": "[encoded data removed]",
      "text/plain": [
       "<Figure size 864x648 with 1 Axes>"
      ]
     },
     "metadata": {
      "needs_background": "light"
     },
     "output_type": "display_data"
    }
   ],
   "source": [
    "plt.figure(figsize=(12,9))\n",
    "sns.lineplot(data=label_ratio.query('City == \"München\"'), x='year', y='label_ratio', hue='label', palette='husl')\n",
    "plt.legend(labels=['very high priced', 'high priced', 'normal priced', 'low priced', 'very low priced'])"
   ]
  },
  {
   "cell_type": "code",
   "execution_count": 193,
   "metadata": {},
   "outputs": [
    {
     "data": {
      "text/html": [
       "<div>\n",
       "<style scoped>\n",
       "    .dataframe tbody tr th:only-of-type {\n",
       "        vertical-align: middle;\n",
       "    }\n",
       "\n",
       "    .dataframe tbody tr th {\n",
       "        vertical-align: top;\n",
       "    }\n",
       "\n",
       "    .dataframe thead th {\n",
       "        text-align: right;\n",
       "    }\n",
       "</style>\n",
       "<table border=\"1\" class=\"dataframe\">\n",
       "  <thead>\n",
       "    <tr style=\"text-align: right;\">\n",
       "      <th></th>\n",
       "      <th>City</th>\n",
       "      <th>year</th>\n",
       "      <th>label</th>\n",
       "      <th>mietekalt_mean</th>\n",
       "      <th>wohnflaeche_mean</th>\n",
       "      <th>baujahr_mean</th>\n",
       "      <th>rent_sqm_mean</th>\n",
       "      <th>laufzeittage_mean</th>\n",
       "      <th>label_ratio</th>\n",
       "    </tr>\n",
       "  </thead>\n",
       "  <tbody>\n",
       "    <tr>\n",
       "      <th>0</th>\n",
       "      <td>Berlin</td>\n",
       "      <td>2007</td>\n",
       "      <td>high priced</td>\n",
       "      <td>1038.719409</td>\n",
       "      <td>122.749451</td>\n",
       "      <td>1942.850525</td>\n",
       "      <td>8.611152</td>\n",
       "      <td>34.882601</td>\n",
       "      <td>0.023754</td>\n",
       "    </tr>\n",
       "    <tr>\n",
       "      <th>1</th>\n",
       "      <td>Berlin</td>\n",
       "      <td>2007</td>\n",
       "      <td>low priced</td>\n",
       "      <td>495.304425</td>\n",
       "      <td>84.827695</td>\n",
       "      <td>1950.193002</td>\n",
       "      <td>6.023987</td>\n",
       "      <td>37.428379</td>\n",
       "      <td>0.252804</td>\n",
       "    </tr>\n",
       "    <tr>\n",
       "      <th>2</th>\n",
       "      <td>Berlin</td>\n",
       "      <td>2007</td>\n",
       "      <td>normal priced</td>\n",
       "      <td>725.293180</td>\n",
       "      <td>104.759380</td>\n",
       "      <td>1943.819006</td>\n",
       "      <td>7.138539</td>\n",
       "      <td>35.244957</td>\n",
       "      <td>0.083539</td>\n",
       "    </tr>\n",
       "    <tr>\n",
       "      <th>3</th>\n",
       "      <td>Berlin</td>\n",
       "      <td>2007</td>\n",
       "      <td>very high priced</td>\n",
       "      <td>1383.848407</td>\n",
       "      <td>134.177967</td>\n",
       "      <td>1945.309543</td>\n",
       "      <td>10.404585</td>\n",
       "      <td>40.175824</td>\n",
       "      <td>0.003651</td>\n",
       "    </tr>\n",
       "    <tr>\n",
       "      <th>4</th>\n",
       "      <td>Berlin</td>\n",
       "      <td>2007</td>\n",
       "      <td>very low priced</td>\n",
       "      <td>305.871845</td>\n",
       "      <td>59.923220</td>\n",
       "      <td>1950.797217</td>\n",
       "      <td>5.246541</td>\n",
       "      <td>32.301823</td>\n",
       "      <td>0.636252</td>\n",
       "    </tr>\n",
       "  </tbody>\n",
       "</table>\n",
       "</div>"
      ],
      "text/plain": [
       "     City  year             label  mietekalt_mean  wohnflaeche_mean  \\\n",
       "0  Berlin  2007       high priced     1038.719409        122.749451   \n",
       "1  Berlin  2007        low priced      495.304425         84.827695   \n",
       "2  Berlin  2007     normal priced      725.293180        104.759380   \n",
       "3  Berlin  2007  very high priced     1383.848407        134.177967   \n",
       "4  Berlin  2007   very low priced      305.871845         59.923220   \n",
       "\n",
       "   baujahr_mean  rent_sqm_mean  laufzeittage_mean  label_ratio  \n",
       "0   1942.850525       8.611152          34.882601     0.023754  \n",
       "1   1950.193002       6.023987          37.428379     0.252804  \n",
       "2   1943.819006       7.138539          35.244957     0.083539  \n",
       "3   1945.309543      10.404585          40.175824     0.003651  \n",
       "4   1950.797217       5.246541          32.301823     0.636252  "
      ]
     },
     "execution_count": 193,
     "metadata": {},
     "output_type": "execute_result"
    }
   ],
   "source": [
    "summary.head()"
   ]
  },
  {
   "cell_type": "code",
   "execution_count": 201,
   "metadata": {},
   "outputs": [
    {
     "data": {
      "image/png": "[encoded data removed]",
      "text/plain": [
       "<Figure size 864x648 with 1 Axes>"
      ]
     },
     "metadata": {
      "needs_background": "light"
     },
     "output_type": "display_data"
    }
   ],
   "source": [
    "plt.figure(figsize=(12, 9))\n",
    "sns.barplot(data=summary, x='label', y='mietekalt_mean', \\\n",
    "            order=['very high priced', 'high priced', 'normal priced', 'low priced', 'very low priced'], color=blue);\n"
   ]
  },
  {
   "cell_type": "code",
   "execution_count": 209,
   "metadata": {},
   "outputs": [
    {
     "data": {
      "image/png": "[encoded data removed]",
      "text/plain": [
       "<Figure size 864x648 with 1 Axes>"
      ]
     },
     "metadata": {
      "needs_background": "light"
     },
     "output_type": "display_data"
    }
   ],
   "source": [
    "plt.figure(figsize=(12, 9))\n",
    "sns.barplot(data=summary, x='label', y='zimmeranzahl_mean', \\\n",
    "            order=['very high priced', 'high priced', 'normal priced', 'low priced', 'very low priced'], color=blue);\n",
    "\n"
   ]
  },
  {
   "cell_type": "code",
   "execution_count": 211,
   "metadata": {},
   "outputs": [
    {
     "data": {
      "image/png": "[encoded data removed]",
      "text/plain": [
       "<Figure size 864x648 with 1 Axes>"
      ]
     },
     "metadata": {
      "needs_background": "light"
     },
     "output_type": "display_data"
    }
   ],
   "source": [
    "plt.figure(figsize=(12, 9))\n",
    "sns.barplot(data=summary, x='label', y='wohnflaeche_mean', \\\n",
    "            order=['very high priced', 'high priced', 'normal priced', 'low priced', 'very low priced'], color=blue);\n",
    "\n"
   ]
  },
  {
   "cell_type": "code",
   "execution_count": 212,
   "metadata": {},
   "outputs": [
    {
     "data": {
      "image/png": "[encoded data removed]",
      "text/plain": [
       "<Figure size 864x648 with 1 Axes>"
      ]
     },
     "metadata": {
      "needs_background": "light"
     },
     "output_type": "display_data"
    }
   ],
   "source": [
    "plt.figure(figsize=(12, 9))\n",
    "sns.barplot(data=summary, x='label', y='anzahletagen_mean', \\\n",
    "            order=['very high priced', 'high priced', 'normal priced', 'low priced', 'very low priced'], color=blue);\n",
    "\n"
   ]
  },
  {
   "cell_type": "code",
   "execution_count": 200,
   "metadata": {},
   "outputs": [],
   "source": [
    "df.to_pickle('data/rent_clustering_done.pkl')"
   ]
  },
  {
   "cell_type": "code",
   "execution_count": null,
   "metadata": {},
   "outputs": [],
   "source": []
  }
 ],
 "metadata": {
  "kernelspec": {
   "display_name": "Python 3",
   "language": "python",
   "name": "python3"
  },
  "language_info": {
   "codemirror_mode": {
    "name": "ipython",
    "version": 3
   },
   "file_extension": ".py",
   "mimetype": "text/x-python",
   "name": "python",
   "nbconvert_exporter": "python",
   "pygments_lexer": "ipython3",
   "version": "3.8.5"
  }
 },
 "nbformat": 4,
 "nbformat_minor": 4
}
