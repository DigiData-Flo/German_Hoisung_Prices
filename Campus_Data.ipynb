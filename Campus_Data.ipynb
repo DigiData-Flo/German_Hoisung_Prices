{
 "cells": [
  {
   "cell_type": "code",
   "execution_count": 1,
   "metadata": {},
   "outputs": [],
   "source": [
    "import numpy as np\n",
    "import pandas as pd\n",
    "from collections import defaultdict\n",
    "import matplotlib.pyplot as plt\n",
    "import seaborn as sns\n",
    "from IPython import display\n",
    "import functions as f \n",
    "\n",
    "%matplotlib inline\n",
    "\n",
    "\n"
   ]
  },
  {
   "cell_type": "code",
   "execution_count": 2,
   "metadata": {},
   "outputs": [],
   "source": [
    "rent = pd.read_csv('data/csv/Campus_city/Campus_WMcitieslabels.csv', low_memory=False)"
   ]
  },
  {
   "cell_type": "code",
   "execution_count": 3,
   "metadata": {},
   "outputs": [
    {
     "data": {
      "text/plain": [
       "(2651885, 59)"
      ]
     },
     "execution_count": 3,
     "metadata": {},
     "output_type": "execute_result"
    }
   ],
   "source": [
    "rent.shape"
   ]
  },
  {
   "cell_type": "markdown",
   "metadata": {},
   "source": [
    "## Find the dtype = object columns"
   ]
  },
  {
   "cell_type": "code",
   "execution_count": 4,
   "metadata": {},
   "outputs": [
    {
     "data": {
      "text/plain": [
       "Index(['nebenkosten', 'heizkosten', 'letzte_modernisierung', 'nutzflaeche',\n",
       "       'etage', 'anzahletagen', 'zimmeranzahl', 'nebenraeume', 'schlafzimmer',\n",
       "       'badezimmer', 'ev_kennwert', 'click_customer', 'immobilientyp',\n",
       "       'aufzug', 'balkon', 'einbaukueche', 'ev_wwenthalten', 'foerderung',\n",
       "       'gaestewc', 'garten', 'heizkosten_in_wm_enthalten', 'keller',\n",
       "       'parkplatz', 'rollstuhlgerecht', 'bauphase', 'ausstattung',\n",
       "       'energieeffizienzklasse', 'energieausweistyp', 'haustier_erlaubt',\n",
       "       'heizungsart', 'kategorie_Wohnung', 'objektzustand', 'lieferung',\n",
       "       'bef1', 'bef2', 'bef5', 'bef4', 'bef3', 'anbieter', 'adat', 'edat'],\n",
       "      dtype='object')"
      ]
     },
     "execution_count": 4,
     "metadata": {},
     "output_type": "execute_result"
    }
   ],
   "source": [
    "rent.select_dtypes('object').columns"
   ]
  },
  {
   "cell_type": "code",
   "execution_count": 5,
   "metadata": {},
   "outputs": [
    {
     "name": "stdout",
     "output_type": "stream",
     "text": [
      "<class 'pandas.core.frame.DataFrame'>\n",
      "RangeIndex: 2651885 entries, 0 to 2651884\n",
      "Data columns (total 59 columns):\n",
      " #   Column                      Non-Null Count    Dtype  \n",
      "---  ------                      --------------    -----  \n",
      " 0   obid                        2651885 non-null  int64  \n",
      " 1   mietekalt                   2651885 non-null  float64\n",
      " 2   nebenkosten                 2651885 non-null  object \n",
      " 3   heizkosten                  2651885 non-null  object \n",
      " 4   baujahr                     1682820 non-null  float64\n",
      " 5   letzte_modernisierung       2651885 non-null  object \n",
      " 6   wohnflaeche                 2651885 non-null  float64\n",
      " 7   nutzflaeche                 2651885 non-null  object \n",
      " 8   etage                       2651885 non-null  object \n",
      " 9   anzahletagen                2651885 non-null  object \n",
      " 10  zimmeranzahl                2651885 non-null  object \n",
      " 11  nebenraeume                 2651885 non-null  object \n",
      " 12  schlafzimmer                2651885 non-null  object \n",
      " 13  badezimmer                  2651885 non-null  object \n",
      " 14  ev_kennwert                 2651885 non-null  object \n",
      " 15  laufzeittage                2651885 non-null  int64  \n",
      " 16  hits                        2651885 non-null  int64  \n",
      " 17  click_schnellkontakte       2651885 non-null  int64  \n",
      " 18  click_customer              2651885 non-null  object \n",
      " 19  click_weitersagen           2651885 non-null  int64  \n",
      " 20  click_url                   2651885 non-null  int64  \n",
      " 21  immobilientyp               2651885 non-null  object \n",
      " 22  aufzug                      2651885 non-null  object \n",
      " 23  balkon                      2651885 non-null  object \n",
      " 24  einbaukueche                2651885 non-null  object \n",
      " 25  ev_wwenthalten              2651885 non-null  object \n",
      " 26  foerderung                  2651885 non-null  object \n",
      " 27  gaestewc                    2651885 non-null  object \n",
      " 28  garten                      2651885 non-null  object \n",
      " 29  heizkosten_in_wm_enthalten  2651885 non-null  object \n",
      " 30  keller                      2651885 non-null  object \n",
      " 31  parkplatz                   2651885 non-null  object \n",
      " 32  rollstuhlgerecht            2651885 non-null  object \n",
      " 33  bauphase                    2651885 non-null  object \n",
      " 34  ausstattung                 2651885 non-null  object \n",
      " 35  energieeffizienzklasse      2651885 non-null  object \n",
      " 36  energieausweistyp           2651885 non-null  object \n",
      " 37  haustier_erlaubt            2651885 non-null  object \n",
      " 38  heizungsart                 2651885 non-null  object \n",
      " 39  kategorie_Wohnung           2651885 non-null  object \n",
      " 40  objektzustand               2651885 non-null  object \n",
      " 41  lieferung                   2651885 non-null  object \n",
      " 42  kid2019                     2651885 non-null  int64  \n",
      " 43  ags2019                     2651885 non-null  int64  \n",
      " 44  bef1                        2651885 non-null  object \n",
      " 45  bef2                        2651885 non-null  object \n",
      " 46  bef10                       2651885 non-null  int64  \n",
      " 47  bef9                        2651885 non-null  int64  \n",
      " 48  bef8                        2651885 non-null  int64  \n",
      " 49  bef7                        2651885 non-null  int64  \n",
      " 50  bef6                        2651885 non-null  int64  \n",
      " 51  bef5                        2651885 non-null  object \n",
      " 52  bef4                        2651885 non-null  object \n",
      " 53  bef3                        2651885 non-null  object \n",
      " 54  anbieter                    2651885 non-null  object \n",
      " 55  spell                       2651885 non-null  int64  \n",
      " 56  adat                        2651885 non-null  object \n",
      " 57  edat                        2651885 non-null  object \n",
      " 58  rent_sqm                    2651885 non-null  float64\n",
      "dtypes: float64(4), int64(14), object(41)\n",
      "memory usage: 1.2+ GB\n"
     ]
    }
   ],
   "source": [
    "rent.info(null_counts=True)"
   ]
  },
  {
   "cell_type": "markdown",
   "metadata": {},
   "source": [
    "### Createnull_counts=copy of orginal dataframe for cleaning process"
   ]
  },
  {
   "cell_type": "code",
   "execution_count": 6,
   "metadata": {},
   "outputs": [],
   "source": [
    "rent_cleaned = rent.copy()"
   ]
  },
  {
   "cell_type": "markdown",
   "metadata": {},
   "source": [
    "### Map city names to ags_2019 column"
   ]
  },
  {
   "cell_type": "code",
   "execution_count": 7,
   "metadata": {},
   "outputs": [],
   "source": [
    "ags_map = {11000000: 'Berlin', 6412000: 'Frankfurt', 2000000: 'Hamburg',\n",
    " 5111000: 'Düsseldorf', 14612000: 'Dresden', 9162000: 'München',\n",
    " 5315000: 'Köln', 5112000: 'Duisburg', 5913000: 'Dortmund',\n",
    " 5113000: 'Essen', 4011000: 'Bremen', 3241001: 'Hannover', \n",
    " 8111000: 'Stuttgart', 14713000: 'Leipzig', 9564000: 'Nürnberg'\n",
    "}"
   ]
  },
  {
   "cell_type": "code",
   "execution_count": 8,
   "metadata": {},
   "outputs": [],
   "source": [
    "rent_cleaned.loc[:,'City'] = rent_cleaned.ags2019.map(ags_map)"
   ]
  },
  {
   "cell_type": "code",
   "execution_count": 9,
   "metadata": {},
   "outputs": [
    {
     "data": {
      "text/plain": [
       "11000000    650962\n",
       "14713000    195199\n",
       "6412000     195165\n",
       "2000000     195060\n",
       "5111000     194902\n",
       "14612000    194830\n",
       "9162000     194800\n",
       "5315000     194779\n",
       "5112000      91067\n",
       "5913000      90988\n",
       "5113000      90912\n",
       "4011000      90892\n",
       "3241001      90890\n",
       "8111000      90725\n",
       "9564000      90714\n",
       "Name: ags2019, dtype: int64"
      ]
     },
     "execution_count": 9,
     "metadata": {},
     "output_type": "execute_result"
    }
   ],
   "source": [
    "rent_cleaned.ags2019.value_counts()"
   ]
  },
  {
   "cell_type": "markdown",
   "metadata": {},
   "source": [
    "### Remove strings from object columns which should be np.nan"
   ]
  },
  {
   "cell_type": "code",
   "execution_count": 10,
   "metadata": {},
   "outputs": [],
   "source": [
    "nan_values = ['Sonstiges Missing', 'keine Angabe', 'unplausibler Wert geloescht', 'Variable nicht mehr in Einagbemaske vorhanden' ]\n",
    "rent_cleaned = rent_cleaned.replace(nan_values, np.nan)\n"
   ]
  },
  {
   "cell_type": "markdown",
   "metadata": {},
   "source": [
    "### Convert object columns to numeric"
   ]
  },
  {
   "cell_type": "code",
   "execution_count": 11,
   "metadata": {},
   "outputs": [],
   "source": [
    "float_columns = ['nebenkosten', 'heizkosten', 'letzte_modernisierung', 'nutzflaeche',\n",
    "       'etage', 'anzahletagen', 'zimmeranzahl', 'nebenraeume', 'schlafzimmer',\n",
    "       'badezimmer', 'ev_kennwert', 'click_customer']\n",
    "rent_cleaned[float_columns] = rent_cleaned[float_columns].astype(float)\n"
   ]
  },
  {
   "cell_type": "markdown",
   "metadata": {},
   "source": [
    "### Convert object columns to bool"
   ]
  },
  {
   "cell_type": "code",
   "execution_count": 12,
   "metadata": {},
   "outputs": [
    {
     "data": {
      "text/plain": [
       "Index(['immobilientyp', 'aufzug', 'balkon', 'einbaukueche', 'ev_wwenthalten',\n",
       "       'foerderung', 'gaestewc', 'garten', 'heizkosten_in_wm_enthalten',\n",
       "       'keller', 'parkplatz', 'rollstuhlgerecht', 'bauphase', 'ausstattung',\n",
       "       'energieeffizienzklasse', 'energieausweistyp', 'haustier_erlaubt',\n",
       "       'heizungsart', 'kategorie_Wohnung', 'objektzustand', 'lieferung',\n",
       "       'bef1', 'bef2', 'bef5', 'bef4', 'bef3', 'anbieter', 'adat', 'edat',\n",
       "       'City'],\n",
       "      dtype='object')"
      ]
     },
     "execution_count": 12,
     "metadata": {},
     "output_type": "execute_result"
    }
   ],
   "source": [
    "rent_cleaned.select_dtypes('object').columns"
   ]
  },
  {
   "cell_type": "code",
   "execution_count": 13,
   "metadata": {},
   "outputs": [],
   "source": [
    "bool_columns = ['aufzug', 'balkon', 'einbaukueche', 'ev_wwenthalten',\n",
    "       'foerderung', 'gaestewc', 'garten', 'heizkosten_in_wm_enthalten',\n",
    "       'keller', 'parkplatz', 'rollstuhlgerecht', \n",
    "       'haustier_erlaubt']\n",
    "\n",
    "rent_cleaned[bool_columns] = rent_cleaned[bool_columns].apply(lambda x: x.map({'Ja':True, 'Nein':False}).astype(bool))"
   ]
  },
  {
   "cell_type": "markdown",
   "metadata": {},
   "source": [
    "### Convert object columns to date time"
   ]
  },
  {
   "cell_type": "code",
   "execution_count": 14,
   "metadata": {},
   "outputs": [],
   "source": [
    "rent_cleaned.adat = pd.to_datetime(rent_cleaned.adat, format='%Ym%m')\n",
    "rent_cleaned.edat = pd.to_datetime(rent_cleaned.edat, format='%Ym%m')"
   ]
  },
  {
   "cell_type": "code",
   "execution_count": 15,
   "metadata": {},
   "outputs": [
    {
     "data": {
      "text/plain": [
       "Index(['immobilientyp', 'bauphase', 'ausstattung', 'energieeffizienzklasse',\n",
       "       'energieausweistyp', 'heizungsart', 'kategorie_Wohnung',\n",
       "       'objektzustand', 'lieferung', 'bef1', 'bef2', 'bef5', 'bef4', 'bef3',\n",
       "       'anbieter', 'City'],\n",
       "      dtype='object')"
      ]
     },
     "execution_count": 15,
     "metadata": {},
     "output_type": "execute_result"
    }
   ],
   "source": [
    "rent_cleaned.select_dtypes('object').columns"
   ]
  },
  {
   "cell_type": "markdown",
   "metadata": {},
   "source": [
    "### Drop columns without information"
   ]
  },
  {
   "cell_type": "code",
   "execution_count": 16,
   "metadata": {},
   "outputs": [],
   "source": [
    "drop_columns = ['bauphase', 'bef6', 'bef7', 'bef8', 'bef9', 'bef10']\n",
    "rent_cleaned = rent_cleaned.drop(columns=drop_columns)\n"
   ]
  },
  {
   "cell_type": "markdown",
   "metadata": {},
   "source": [
    "### Replace -9 in obejct columns to np.nan"
   ]
  },
  {
   "cell_type": "code",
   "execution_count": 17,
   "metadata": {},
   "outputs": [],
   "source": [
    "firing_columns=['bef1', 'bef2', 'bef3', 'bef4', 'bef5']"
   ]
  },
  {
   "cell_type": "code",
   "execution_count": 18,
   "metadata": {},
   "outputs": [],
   "source": [
    "rent_cleaned[firing_columns] = rent_cleaned[firing_columns].replace('-9', np.nan)"
   ]
  },
  {
   "cell_type": "markdown",
   "metadata": {},
   "source": [
    "### Create dummy columns from Firing Type columns"
   ]
  },
  {
   "cell_type": "code",
   "execution_count": 19,
   "metadata": {},
   "outputs": [
    {
     "data": {
      "text/plain": [
       "{'Bioenergie',\n",
       " 'Elektro',\n",
       " 'Erdgas leicht',\n",
       " 'Erdgas schwer',\n",
       " 'Erdwärme',\n",
       " 'Fernwärme',\n",
       " 'Flüssiggas',\n",
       " 'Gas',\n",
       " 'Heizdampf-Fernwärme',\n",
       " 'Holz',\n",
       " 'Holzschnitzel',\n",
       " 'Kohle',\n",
       " 'Koks',\n",
       " 'Nahwärme',\n",
       " 'Pellets',\n",
       " 'Solarenergie',\n",
       " 'Wasserenergie',\n",
       " 'Windenergie',\n",
       " 'Wärmezufuhr',\n",
       " 'keine Information',\n",
       " 'kombinierte Bio Energie',\n",
       " 'kombinierte Fossilkraftstoffe',\n",
       " 'kombinierte erneuerbare Energie',\n",
       " 'kombinierte regenerative Energie',\n",
       " 'thermische Umweltenergie',\n",
       " 'Öl'}"
      ]
     },
     "execution_count": 19,
     "metadata": {},
     "output_type": "execute_result"
    }
   ],
   "source": [
    "# Define Set for unique firing types\n",
    "firingTypes = set()\n",
    "\n",
    "# loop over bef1 - bef5 columns\n",
    "for col in firing_columns:\n",
    "    # loop over firing types in bef\n",
    "    for firing in rent_cleaned[col].value_counts().index:\n",
    "        firingTypes.add(firing)\n",
    "# Output of firing types\n",
    "firingTypes\n"
   ]
  },
  {
   "cell_type": "code",
   "execution_count": 20,
   "metadata": {},
   "outputs": [],
   "source": [
    "# Create a bef df for each beff column with firing types dummies\n",
    "# reindex bef df that each df has same columns\n",
    "# fillna each dummy column with 0 and set astype int\n",
    "bef = []\n",
    "for col in firing_columns:\n",
    "    bef.append(pd.get_dummies(rent_cleaned[col]).reindex(columns=firingTypes).fillna(0).astype(int))\n"
   ]
  },
  {
   "cell_type": "code",
   "execution_count": 21,
   "metadata": {},
   "outputs": [],
   "source": [
    "# Sum all bef df and join this to rent_cleaned df\n",
    "rent_cleaned = rent_cleaned.join(sum(bef))"
   ]
  },
  {
   "cell_type": "code",
   "execution_count": 22,
   "metadata": {},
   "outputs": [],
   "source": [
    "# Drop no longer used bef columns\n",
    "rent_cleaned = rent_cleaned.drop(columns=firing_columns)"
   ]
  },
  {
   "cell_type": "code",
   "execution_count": 23,
   "metadata": {},
   "outputs": [
    {
     "data": {
      "text/html": [
       "<div>\n",
       "<style scoped>\n",
       "    .dataframe tbody tr th:only-of-type {\n",
       "        vertical-align: middle;\n",
       "    }\n",
       "\n",
       "    .dataframe tbody tr th {\n",
       "        vertical-align: top;\n",
       "    }\n",
       "\n",
       "    .dataframe thead th {\n",
       "        text-align: right;\n",
       "    }\n",
       "</style>\n",
       "<table border=\"1\" class=\"dataframe\">\n",
       "  <thead>\n",
       "    <tr style=\"text-align: right;\">\n",
       "      <th></th>\n",
       "      <th>immobilientyp</th>\n",
       "      <th>ausstattung</th>\n",
       "      <th>energieeffizienzklasse</th>\n",
       "      <th>energieausweistyp</th>\n",
       "      <th>heizungsart</th>\n",
       "      <th>kategorie_Wohnung</th>\n",
       "      <th>objektzustand</th>\n",
       "      <th>lieferung</th>\n",
       "      <th>anbieter</th>\n",
       "      <th>City</th>\n",
       "    </tr>\n",
       "  </thead>\n",
       "  <tbody>\n",
       "    <tr>\n",
       "      <th>0</th>\n",
       "      <td>Wohnung-Miete</td>\n",
       "      <td>Gehoben</td>\n",
       "      <td>NaN</td>\n",
       "      <td>NaN</td>\n",
       "      <td>Zentralheizung</td>\n",
       "      <td>Terassenwohnung</td>\n",
       "      <td>Neuwertig</td>\n",
       "      <td>Dez 2015</td>\n",
       "      <td>-9</td>\n",
       "      <td>Dresden</td>\n",
       "    </tr>\n",
       "    <tr>\n",
       "      <th>1</th>\n",
       "      <td>Wohnung-Miete</td>\n",
       "      <td>Gehoben</td>\n",
       "      <td>NaN</td>\n",
       "      <td>NaN</td>\n",
       "      <td>Zentralheizung</td>\n",
       "      <td>NaN</td>\n",
       "      <td>Neuwertig</td>\n",
       "      <td>Dez 2015</td>\n",
       "      <td>-9</td>\n",
       "      <td>Dresden</td>\n",
       "    </tr>\n",
       "    <tr>\n",
       "      <th>2</th>\n",
       "      <td>Wohnung-Miete</td>\n",
       "      <td>Gehoben</td>\n",
       "      <td>NaN</td>\n",
       "      <td>NaN</td>\n",
       "      <td>Zentralheizung</td>\n",
       "      <td>Dachgeschosswohnung</td>\n",
       "      <td>Neuwertig</td>\n",
       "      <td>Dez 2015</td>\n",
       "      <td>-9</td>\n",
       "      <td>Dresden</td>\n",
       "    </tr>\n",
       "    <tr>\n",
       "      <th>3</th>\n",
       "      <td>Wohnung-Miete</td>\n",
       "      <td>Gehoben</td>\n",
       "      <td>NaN</td>\n",
       "      <td>NaN</td>\n",
       "      <td>Zentralheizung</td>\n",
       "      <td>Dachgeschosswohnung</td>\n",
       "      <td>Neuwertig</td>\n",
       "      <td>Dez 2015</td>\n",
       "      <td>-9</td>\n",
       "      <td>Dresden</td>\n",
       "    </tr>\n",
       "    <tr>\n",
       "      <th>4</th>\n",
       "      <td>Wohnung-Miete</td>\n",
       "      <td>Gehoben</td>\n",
       "      <td>NaN</td>\n",
       "      <td>NaN</td>\n",
       "      <td>Zentralheizung</td>\n",
       "      <td>Dachgeschosswohnung</td>\n",
       "      <td>Neuwertig</td>\n",
       "      <td>Dez 2015</td>\n",
       "      <td>-9</td>\n",
       "      <td>Dresden</td>\n",
       "    </tr>\n",
       "    <tr>\n",
       "      <th>...</th>\n",
       "      <td>...</td>\n",
       "      <td>...</td>\n",
       "      <td>...</td>\n",
       "      <td>...</td>\n",
       "      <td>...</td>\n",
       "      <td>...</td>\n",
       "      <td>...</td>\n",
       "      <td>...</td>\n",
       "      <td>...</td>\n",
       "      <td>...</td>\n",
       "    </tr>\n",
       "    <tr>\n",
       "      <th>2651880</th>\n",
       "      <td>Wohnung-Miete</td>\n",
       "      <td>NaN</td>\n",
       "      <td>NaN</td>\n",
       "      <td>NaN</td>\n",
       "      <td>NaN</td>\n",
       "      <td>NaN</td>\n",
       "      <td>NaN</td>\n",
       "      <td>Feb 2020</td>\n",
       "      <td>Makler</td>\n",
       "      <td>Dortmund</td>\n",
       "    </tr>\n",
       "    <tr>\n",
       "      <th>2651881</th>\n",
       "      <td>Wohnung-Miete</td>\n",
       "      <td>NaN</td>\n",
       "      <td>NaN</td>\n",
       "      <td>NaN</td>\n",
       "      <td>NaN</td>\n",
       "      <td>Etagenwohnung</td>\n",
       "      <td>NaN</td>\n",
       "      <td>Feb 2020</td>\n",
       "      <td>Makler</td>\n",
       "      <td>Frankfurt</td>\n",
       "    </tr>\n",
       "    <tr>\n",
       "      <th>2651882</th>\n",
       "      <td>Wohnung-Miete</td>\n",
       "      <td>NaN</td>\n",
       "      <td>NaN</td>\n",
       "      <td>NaN</td>\n",
       "      <td>NaN</td>\n",
       "      <td>Etagenwohnung</td>\n",
       "      <td>NaN</td>\n",
       "      <td>Feb 2020</td>\n",
       "      <td>Makler</td>\n",
       "      <td>Frankfurt</td>\n",
       "    </tr>\n",
       "    <tr>\n",
       "      <th>2651883</th>\n",
       "      <td>Wohnung-Miete</td>\n",
       "      <td>Luxus</td>\n",
       "      <td>NaN</td>\n",
       "      <td>Endenergiebedarf</td>\n",
       "      <td>NaN</td>\n",
       "      <td>Etagenwohnung</td>\n",
       "      <td>Erstbezug</td>\n",
       "      <td>Jun 2020</td>\n",
       "      <td>Makler</td>\n",
       "      <td>Frankfurt</td>\n",
       "    </tr>\n",
       "    <tr>\n",
       "      <th>2651884</th>\n",
       "      <td>Wohnung-Miete</td>\n",
       "      <td>NaN</td>\n",
       "      <td>NaN</td>\n",
       "      <td>Energieverbrauchskennwert</td>\n",
       "      <td>Zentralheizung</td>\n",
       "      <td>Etagenwohnung</td>\n",
       "      <td>Gepflegt</td>\n",
       "      <td>Feb 2020</td>\n",
       "      <td>Privatanbieter</td>\n",
       "      <td>München</td>\n",
       "    </tr>\n",
       "  </tbody>\n",
       "</table>\n",
       "<p>2651885 rows × 10 columns</p>\n",
       "</div>"
      ],
      "text/plain": [
       "         immobilientyp ausstattung energieeffizienzklasse  \\\n",
       "0        Wohnung-Miete     Gehoben                    NaN   \n",
       "1        Wohnung-Miete     Gehoben                    NaN   \n",
       "2        Wohnung-Miete     Gehoben                    NaN   \n",
       "3        Wohnung-Miete     Gehoben                    NaN   \n",
       "4        Wohnung-Miete     Gehoben                    NaN   \n",
       "...                ...         ...                    ...   \n",
       "2651880  Wohnung-Miete         NaN                    NaN   \n",
       "2651881  Wohnung-Miete         NaN                    NaN   \n",
       "2651882  Wohnung-Miete         NaN                    NaN   \n",
       "2651883  Wohnung-Miete       Luxus                    NaN   \n",
       "2651884  Wohnung-Miete         NaN                    NaN   \n",
       "\n",
       "                 energieausweistyp     heizungsart    kategorie_Wohnung  \\\n",
       "0                              NaN  Zentralheizung      Terassenwohnung   \n",
       "1                              NaN  Zentralheizung                  NaN   \n",
       "2                              NaN  Zentralheizung  Dachgeschosswohnung   \n",
       "3                              NaN  Zentralheizung  Dachgeschosswohnung   \n",
       "4                              NaN  Zentralheizung  Dachgeschosswohnung   \n",
       "...                            ...             ...                  ...   \n",
       "2651880                        NaN             NaN                  NaN   \n",
       "2651881                        NaN             NaN        Etagenwohnung   \n",
       "2651882                        NaN             NaN        Etagenwohnung   \n",
       "2651883           Endenergiebedarf             NaN        Etagenwohnung   \n",
       "2651884  Energieverbrauchskennwert  Zentralheizung        Etagenwohnung   \n",
       "\n",
       "        objektzustand lieferung        anbieter       City  \n",
       "0           Neuwertig  Dez 2015              -9    Dresden  \n",
       "1           Neuwertig  Dez 2015              -9    Dresden  \n",
       "2           Neuwertig  Dez 2015              -9    Dresden  \n",
       "3           Neuwertig  Dez 2015              -9    Dresden  \n",
       "4           Neuwertig  Dez 2015              -9    Dresden  \n",
       "...               ...       ...             ...        ...  \n",
       "2651880           NaN  Feb 2020          Makler   Dortmund  \n",
       "2651881           NaN  Feb 2020          Makler  Frankfurt  \n",
       "2651882           NaN  Feb 2020          Makler  Frankfurt  \n",
       "2651883     Erstbezug  Jun 2020          Makler  Frankfurt  \n",
       "2651884      Gepflegt  Feb 2020  Privatanbieter    München  \n",
       "\n",
       "[2651885 rows x 10 columns]"
      ]
     },
     "execution_count": 23,
     "metadata": {},
     "output_type": "execute_result"
    }
   ],
   "source": [
    "rent_cleaned.select_dtypes('object')"
   ]
  },
  {
   "cell_type": "code",
   "execution_count": 24,
   "metadata": {},
   "outputs": [
    {
     "data": {
      "text/plain": [
       "Wohnung-Miete    2651885\n",
       "Name: immobilientyp, dtype: int64"
      ]
     },
     "execution_count": 24,
     "metadata": {},
     "output_type": "execute_result"
    }
   ],
   "source": [
    "rent_cleaned.immobilientyp.value_counts()"
   ]
  },
  {
   "cell_type": "markdown",
   "metadata": {},
   "source": [
    "### Drop immonbilientyp column it is only one value and lieferung column it is only delivery data from Immoscout to rwi-essen\n"
   ]
  },
  {
   "cell_type": "code",
   "execution_count": 25,
   "metadata": {},
   "outputs": [],
   "source": [
    "rent_cleaned = rent_cleaned.drop(columns=['immobilientyp', 'lieferung'])"
   ]
  },
  {
   "cell_type": "markdown",
   "metadata": {},
   "source": [
    "### Replace -9 in anbieter column to np.nan"
   ]
  },
  {
   "cell_type": "code",
   "execution_count": 26,
   "metadata": {},
   "outputs": [],
   "source": [
    "rent_cleaned.anbieter = rent_cleaned.anbieter.replace('-9', np.nan)\n"
   ]
  },
  {
   "cell_type": "code",
   "execution_count": 27,
   "metadata": {},
   "outputs": [
    {
     "data": {
      "text/plain": [
       "Index(['ausstattung', 'energieeffizienzklasse', 'energieausweistyp',\n",
       "       'heizungsart', 'kategorie_Wohnung', 'objektzustand', 'anbieter',\n",
       "       'City'],\n",
       "      dtype='object')"
      ]
     },
     "execution_count": 27,
     "metadata": {},
     "output_type": "execute_result"
    }
   ],
   "source": [
    "object_columns = rent_cleaned.select_dtypes('object').columns\n",
    "object_columns"
   ]
  },
  {
   "cell_type": "markdown",
   "metadata": {},
   "source": [
    "### Drop columns nebenraeume because there are only 182 non-null values"
   ]
  },
  {
   "cell_type": "code",
   "execution_count": 28,
   "metadata": {},
   "outputs": [],
   "source": [
    "rent_cleaned = rent_cleaned.drop(columns=['nebenraeume'])"
   ]
  },
  {
   "cell_type": "markdown",
   "metadata": {},
   "source": [
    "### How to deal with the rest of missing values?\n",
    "\n",
    "The columns `['etage', 'anzahletagen', 'zimmeranzahl', 'schlafzimmer', 'badezimmer', 'click_customer']` are set to -100 to seperate the nan values clearly from the rest of the values. \n",
    "For the other missing value columns the decission what is to do follows to the specific use."
   ]
  },
  {
   "cell_type": "code",
   "execution_count": 67,
   "metadata": {},
   "outputs": [
    {
     "data": {
      "text/html": [
       "<div>\n",
       "<style scoped>\n",
       "    .dataframe tbody tr th:only-of-type {\n",
       "        vertical-align: middle;\n",
       "    }\n",
       "\n",
       "    .dataframe tbody tr th {\n",
       "        vertical-align: top;\n",
       "    }\n",
       "\n",
       "    .dataframe thead th {\n",
       "        text-align: right;\n",
       "    }\n",
       "</style>\n",
       "<table border=\"1\" class=\"dataframe\">\n",
       "  <thead>\n",
       "    <tr style=\"text-align: right;\">\n",
       "      <th></th>\n",
       "      <th>nebenkosten</th>\n",
       "      <th>heizkosten</th>\n",
       "      <th>baujahr</th>\n",
       "      <th>letzte_modernisierung</th>\n",
       "      <th>nutzflaeche</th>\n",
       "      <th>etage</th>\n",
       "      <th>anzahletagen</th>\n",
       "      <th>zimmeranzahl</th>\n",
       "      <th>schlafzimmer</th>\n",
       "      <th>badezimmer</th>\n",
       "      <th>ev_kennwert</th>\n",
       "      <th>click_customer</th>\n",
       "    </tr>\n",
       "  </thead>\n",
       "  <tbody>\n",
       "    <tr>\n",
       "      <th>0</th>\n",
       "      <td>140.0</td>\n",
       "      <td>NaN</td>\n",
       "      <td>1994.0</td>\n",
       "      <td>NaN</td>\n",
       "      <td>NaN</td>\n",
       "      <td>2.0</td>\n",
       "      <td>4.0</td>\n",
       "      <td>2.0</td>\n",
       "      <td>1.0</td>\n",
       "      <td>1.0</td>\n",
       "      <td>NaN</td>\n",
       "      <td>0.0</td>\n",
       "    </tr>\n",
       "    <tr>\n",
       "      <th>1</th>\n",
       "      <td>140.0</td>\n",
       "      <td>NaN</td>\n",
       "      <td>1994.0</td>\n",
       "      <td>NaN</td>\n",
       "      <td>NaN</td>\n",
       "      <td>2.0</td>\n",
       "      <td>4.0</td>\n",
       "      <td>2.0</td>\n",
       "      <td>1.0</td>\n",
       "      <td>1.0</td>\n",
       "      <td>NaN</td>\n",
       "      <td>0.0</td>\n",
       "    </tr>\n",
       "    <tr>\n",
       "      <th>2</th>\n",
       "      <td>140.0</td>\n",
       "      <td>NaN</td>\n",
       "      <td>1994.0</td>\n",
       "      <td>NaN</td>\n",
       "      <td>NaN</td>\n",
       "      <td>2.0</td>\n",
       "      <td>4.0</td>\n",
       "      <td>2.0</td>\n",
       "      <td>1.0</td>\n",
       "      <td>1.0</td>\n",
       "      <td>NaN</td>\n",
       "      <td>0.0</td>\n",
       "    </tr>\n",
       "    <tr>\n",
       "      <th>3</th>\n",
       "      <td>140.0</td>\n",
       "      <td>NaN</td>\n",
       "      <td>1994.0</td>\n",
       "      <td>NaN</td>\n",
       "      <td>NaN</td>\n",
       "      <td>2.0</td>\n",
       "      <td>4.0</td>\n",
       "      <td>2.0</td>\n",
       "      <td>1.0</td>\n",
       "      <td>1.0</td>\n",
       "      <td>NaN</td>\n",
       "      <td>0.0</td>\n",
       "    </tr>\n",
       "    <tr>\n",
       "      <th>4</th>\n",
       "      <td>140.0</td>\n",
       "      <td>NaN</td>\n",
       "      <td>1994.0</td>\n",
       "      <td>NaN</td>\n",
       "      <td>NaN</td>\n",
       "      <td>2.0</td>\n",
       "      <td>4.0</td>\n",
       "      <td>2.0</td>\n",
       "      <td>1.0</td>\n",
       "      <td>1.0</td>\n",
       "      <td>NaN</td>\n",
       "      <td>0.0</td>\n",
       "    </tr>\n",
       "    <tr>\n",
       "      <th>...</th>\n",
       "      <td>...</td>\n",
       "      <td>...</td>\n",
       "      <td>...</td>\n",
       "      <td>...</td>\n",
       "      <td>...</td>\n",
       "      <td>...</td>\n",
       "      <td>...</td>\n",
       "      <td>...</td>\n",
       "      <td>...</td>\n",
       "      <td>...</td>\n",
       "      <td>...</td>\n",
       "      <td>...</td>\n",
       "    </tr>\n",
       "    <tr>\n",
       "      <th>2651880</th>\n",
       "      <td>90.0</td>\n",
       "      <td>NaN</td>\n",
       "      <td>1956.0</td>\n",
       "      <td>NaN</td>\n",
       "      <td>NaN</td>\n",
       "      <td>NaN</td>\n",
       "      <td>3.0</td>\n",
       "      <td>2.0</td>\n",
       "      <td>NaN</td>\n",
       "      <td>NaN</td>\n",
       "      <td>NaN</td>\n",
       "      <td>NaN</td>\n",
       "    </tr>\n",
       "    <tr>\n",
       "      <th>2651881</th>\n",
       "      <td>330.0</td>\n",
       "      <td>NaN</td>\n",
       "      <td>2019.0</td>\n",
       "      <td>NaN</td>\n",
       "      <td>NaN</td>\n",
       "      <td>NaN</td>\n",
       "      <td>3.0</td>\n",
       "      <td>3.0</td>\n",
       "      <td>2.0</td>\n",
       "      <td>1.0</td>\n",
       "      <td>NaN</td>\n",
       "      <td>NaN</td>\n",
       "    </tr>\n",
       "    <tr>\n",
       "      <th>2651882</th>\n",
       "      <td>320.0</td>\n",
       "      <td>NaN</td>\n",
       "      <td>2019.0</td>\n",
       "      <td>NaN</td>\n",
       "      <td>NaN</td>\n",
       "      <td>1.0</td>\n",
       "      <td>3.0</td>\n",
       "      <td>3.0</td>\n",
       "      <td>2.0</td>\n",
       "      <td>1.0</td>\n",
       "      <td>NaN</td>\n",
       "      <td>NaN</td>\n",
       "    </tr>\n",
       "    <tr>\n",
       "      <th>2651883</th>\n",
       "      <td>330.0</td>\n",
       "      <td>NaN</td>\n",
       "      <td>2019.0</td>\n",
       "      <td>NaN</td>\n",
       "      <td>NaN</td>\n",
       "      <td>1.0</td>\n",
       "      <td>3.0</td>\n",
       "      <td>3.0</td>\n",
       "      <td>2.0</td>\n",
       "      <td>1.0</td>\n",
       "      <td>27.0</td>\n",
       "      <td>NaN</td>\n",
       "    </tr>\n",
       "    <tr>\n",
       "      <th>2651884</th>\n",
       "      <td>400.0</td>\n",
       "      <td>NaN</td>\n",
       "      <td>1966.0</td>\n",
       "      <td>NaN</td>\n",
       "      <td>NaN</td>\n",
       "      <td>3.0</td>\n",
       "      <td>3.0</td>\n",
       "      <td>4.0</td>\n",
       "      <td>NaN</td>\n",
       "      <td>1.0</td>\n",
       "      <td>104.0</td>\n",
       "      <td>NaN</td>\n",
       "    </tr>\n",
       "  </tbody>\n",
       "</table>\n",
       "<p>2651885 rows × 12 columns</p>\n",
       "</div>"
      ],
      "text/plain": [
       "         nebenkosten  heizkosten  baujahr  letzte_modernisierung  nutzflaeche  \\\n",
       "0              140.0         NaN   1994.0                    NaN          NaN   \n",
       "1              140.0         NaN   1994.0                    NaN          NaN   \n",
       "2              140.0         NaN   1994.0                    NaN          NaN   \n",
       "3              140.0         NaN   1994.0                    NaN          NaN   \n",
       "4              140.0         NaN   1994.0                    NaN          NaN   \n",
       "...              ...         ...      ...                    ...          ...   \n",
       "2651880         90.0         NaN   1956.0                    NaN          NaN   \n",
       "2651881        330.0         NaN   2019.0                    NaN          NaN   \n",
       "2651882        320.0         NaN   2019.0                    NaN          NaN   \n",
       "2651883        330.0         NaN   2019.0                    NaN          NaN   \n",
       "2651884        400.0         NaN   1966.0                    NaN          NaN   \n",
       "\n",
       "         etage  anzahletagen  zimmeranzahl  schlafzimmer  badezimmer  \\\n",
       "0          2.0           4.0           2.0           1.0         1.0   \n",
       "1          2.0           4.0           2.0           1.0         1.0   \n",
       "2          2.0           4.0           2.0           1.0         1.0   \n",
       "3          2.0           4.0           2.0           1.0         1.0   \n",
       "4          2.0           4.0           2.0           1.0         1.0   \n",
       "...        ...           ...           ...           ...         ...   \n",
       "2651880    NaN           3.0           2.0           NaN         NaN   \n",
       "2651881    NaN           3.0           3.0           2.0         1.0   \n",
       "2651882    1.0           3.0           3.0           2.0         1.0   \n",
       "2651883    1.0           3.0           3.0           2.0         1.0   \n",
       "2651884    3.0           3.0           4.0           NaN         1.0   \n",
       "\n",
       "         ev_kennwert  click_customer  \n",
       "0                NaN             0.0  \n",
       "1                NaN             0.0  \n",
       "2                NaN             0.0  \n",
       "3                NaN             0.0  \n",
       "4                NaN             0.0  \n",
       "...              ...             ...  \n",
       "2651880          NaN             NaN  \n",
       "2651881          NaN             NaN  \n",
       "2651882          NaN             NaN  \n",
       "2651883         27.0             NaN  \n",
       "2651884        104.0             NaN  \n",
       "\n",
       "[2651885 rows x 12 columns]"
      ]
     },
     "execution_count": 67,
     "metadata": {},
     "output_type": "execute_result"
    }
   ],
   "source": [
    "rent_cleaned[['nebenkosten', 'heizkosten', 'baujahr', 'letzte_modernisierung', \n",
    "              'nutzflaeche', 'etage', 'anzahletagen', 'zimmeranzahl', \n",
    "              'schlafzimmer', 'badezimmer', 'ev_kennwert', 'click_customer']]"
   ]
  },
  {
   "cell_type": "code",
   "execution_count": 73,
   "metadata": {},
   "outputs": [],
   "source": [
    "fillna_columns = ['etage', 'anzahletagen', 'zimmeranzahl', 'schlafzimmer', \n",
    "                  'badezimmer', 'ev_kennwert', 'click_customer']\n",
    "rent_cleaned[fillna_columns] = rent_cleaned[fillna_columns].fillna(-100)"
   ]
  },
  {
   "cell_type": "code",
   "execution_count": 29,
   "metadata": {},
   "outputs": [
    {
     "data": {
      "text/html": [
       "<div>\n",
       "<style scoped>\n",
       "    .dataframe tbody tr th:only-of-type {\n",
       "        vertical-align: middle;\n",
       "    }\n",
       "\n",
       "    .dataframe tbody tr th {\n",
       "        vertical-align: top;\n",
       "    }\n",
       "\n",
       "    .dataframe thead th {\n",
       "        text-align: right;\n",
       "    }\n",
       "</style>\n",
       "<table border=\"1\" class=\"dataframe\">\n",
       "  <thead>\n",
       "    <tr style=\"text-align: right;\">\n",
       "      <th></th>\n",
       "      <th>nebenkosten</th>\n",
       "      <th>heizkosten</th>\n",
       "      <th>baujahr</th>\n",
       "      <th>letzte_modernisierung</th>\n",
       "      <th>nutzflaeche</th>\n",
       "      <th>etage</th>\n",
       "      <th>anzahletagen</th>\n",
       "      <th>zimmeranzahl</th>\n",
       "      <th>schlafzimmer</th>\n",
       "      <th>badezimmer</th>\n",
       "      <th>ev_kennwert</th>\n",
       "      <th>click_customer</th>\n",
       "    </tr>\n",
       "  </thead>\n",
       "  <tbody>\n",
       "    <tr>\n",
       "      <th>count</th>\n",
       "      <td>2.490467e+06</td>\n",
       "      <td>824489.000000</td>\n",
       "      <td>1.682820e+06</td>\n",
       "      <td>556602.000000</td>\n",
       "      <td>630468.000000</td>\n",
       "      <td>2.167254e+06</td>\n",
       "      <td>1.605995e+06</td>\n",
       "      <td>2.651445e+06</td>\n",
       "      <td>1.372067e+06</td>\n",
       "      <td>1.756338e+06</td>\n",
       "      <td>800264.000000</td>\n",
       "      <td>1.446675e+06</td>\n",
       "    </tr>\n",
       "    <tr>\n",
       "      <th>mean</th>\n",
       "      <td>1.454803e+02</td>\n",
       "      <td>72.841451</td>\n",
       "      <td>1.961778e+03</td>\n",
       "      <td>2010.758740</td>\n",
       "      <td>53.777122</td>\n",
       "      <td>2.363223e+00</td>\n",
       "      <td>4.144950e+00</td>\n",
       "      <td>2.483287e+00</td>\n",
       "      <td>1.535922e+00</td>\n",
       "      <td>1.085546e+00</td>\n",
       "      <td>122.571003</td>\n",
       "      <td>2.725250e+00</td>\n",
       "    </tr>\n",
       "    <tr>\n",
       "      <th>std</th>\n",
       "      <td>7.291253e+01</td>\n",
       "      <td>38.893883</td>\n",
       "      <td>3.739589e+01</td>\n",
       "      <td>6.197949</td>\n",
       "      <td>37.678995</td>\n",
       "      <td>1.948279e+00</td>\n",
       "      <td>2.385651e+00</td>\n",
       "      <td>8.917304e-01</td>\n",
       "      <td>7.218355e-01</td>\n",
       "      <td>2.900060e-01</td>\n",
       "      <td>52.630934</td>\n",
       "      <td>1.193625e+01</td>\n",
       "    </tr>\n",
       "    <tr>\n",
       "      <th>min</th>\n",
       "      <td>0.000000e+00</td>\n",
       "      <td>0.000000</td>\n",
       "      <td>1.500000e+03</td>\n",
       "      <td>1814.000000</td>\n",
       "      <td>0.000000</td>\n",
       "      <td>-1.000000e+00</td>\n",
       "      <td>-2.000000e+00</td>\n",
       "      <td>0.000000e+00</td>\n",
       "      <td>0.000000e+00</td>\n",
       "      <td>0.000000e+00</td>\n",
       "      <td>0.000000</td>\n",
       "      <td>0.000000e+00</td>\n",
       "    </tr>\n",
       "    <tr>\n",
       "      <th>25%</th>\n",
       "      <td>9.500000e+01</td>\n",
       "      <td>50.000000</td>\n",
       "      <td>1.932000e+03</td>\n",
       "      <td>2009.000000</td>\n",
       "      <td>15.000000</td>\n",
       "      <td>1.000000e+00</td>\n",
       "      <td>3.000000e+00</td>\n",
       "      <td>2.000000e+00</td>\n",
       "      <td>1.000000e+00</td>\n",
       "      <td>1.000000e+00</td>\n",
       "      <td>85.099998</td>\n",
       "      <td>0.000000e+00</td>\n",
       "    </tr>\n",
       "    <tr>\n",
       "      <th>50%</th>\n",
       "      <td>1.300000e+02</td>\n",
       "      <td>68.000000</td>\n",
       "      <td>1.966000e+03</td>\n",
       "      <td>2012.000000</td>\n",
       "      <td>56.000000</td>\n",
       "      <td>2.000000e+00</td>\n",
       "      <td>4.000000e+00</td>\n",
       "      <td>2.000000e+00</td>\n",
       "      <td>1.000000e+00</td>\n",
       "      <td>1.000000e+00</td>\n",
       "      <td>118.000000</td>\n",
       "      <td>0.000000e+00</td>\n",
       "    </tr>\n",
       "    <tr>\n",
       "      <th>75%</th>\n",
       "      <td>1.800000e+02</td>\n",
       "      <td>90.000000</td>\n",
       "      <td>1.993000e+03</td>\n",
       "      <td>2015.000000</td>\n",
       "      <td>76.070000</td>\n",
       "      <td>3.000000e+00</td>\n",
       "      <td>5.000000e+00</td>\n",
       "      <td>3.000000e+00</td>\n",
       "      <td>2.000000e+00</td>\n",
       "      <td>1.000000e+00</td>\n",
       "      <td>152.399994</td>\n",
       "      <td>0.000000e+00</td>\n",
       "    </tr>\n",
       "    <tr>\n",
       "      <th>max</th>\n",
       "      <td>1.500000e+03</td>\n",
       "      <td>1500.000000</td>\n",
       "      <td>2.020000e+03</td>\n",
       "      <td>2018.000000</td>\n",
       "      <td>1000.000000</td>\n",
       "      <td>4.500000e+01</td>\n",
       "      <td>4.500000e+01</td>\n",
       "      <td>1.000000e+01</td>\n",
       "      <td>8.000000e+00</td>\n",
       "      <td>5.000000e+00</td>\n",
       "      <td>600.000000</td>\n",
       "      <td>2.645000e+03</td>\n",
       "    </tr>\n",
       "  </tbody>\n",
       "</table>\n",
       "</div>"
      ],
      "text/plain": [
       "        nebenkosten     heizkosten       baujahr  letzte_modernisierung  \\\n",
       "count  2.490467e+06  824489.000000  1.682820e+06          556602.000000   \n",
       "mean   1.454803e+02      72.841451  1.961778e+03            2010.758740   \n",
       "std    7.291253e+01      38.893883  3.739589e+01               6.197949   \n",
       "min    0.000000e+00       0.000000  1.500000e+03            1814.000000   \n",
       "25%    9.500000e+01      50.000000  1.932000e+03            2009.000000   \n",
       "50%    1.300000e+02      68.000000  1.966000e+03            2012.000000   \n",
       "75%    1.800000e+02      90.000000  1.993000e+03            2015.000000   \n",
       "max    1.500000e+03    1500.000000  2.020000e+03            2018.000000   \n",
       "\n",
       "         nutzflaeche         etage  anzahletagen  zimmeranzahl  schlafzimmer  \\\n",
       "count  630468.000000  2.167254e+06  1.605995e+06  2.651445e+06  1.372067e+06   \n",
       "mean       53.777122  2.363223e+00  4.144950e+00  2.483287e+00  1.535922e+00   \n",
       "std        37.678995  1.948279e+00  2.385651e+00  8.917304e-01  7.218355e-01   \n",
       "min         0.000000 -1.000000e+00 -2.000000e+00  0.000000e+00  0.000000e+00   \n",
       "25%        15.000000  1.000000e+00  3.000000e+00  2.000000e+00  1.000000e+00   \n",
       "50%        56.000000  2.000000e+00  4.000000e+00  2.000000e+00  1.000000e+00   \n",
       "75%        76.070000  3.000000e+00  5.000000e+00  3.000000e+00  2.000000e+00   \n",
       "max      1000.000000  4.500000e+01  4.500000e+01  1.000000e+01  8.000000e+00   \n",
       "\n",
       "         badezimmer    ev_kennwert  click_customer  \n",
       "count  1.756338e+06  800264.000000    1.446675e+06  \n",
       "mean   1.085546e+00     122.571003    2.725250e+00  \n",
       "std    2.900060e-01      52.630934    1.193625e+01  \n",
       "min    0.000000e+00       0.000000    0.000000e+00  \n",
       "25%    1.000000e+00      85.099998    0.000000e+00  \n",
       "50%    1.000000e+00     118.000000    0.000000e+00  \n",
       "75%    1.000000e+00     152.399994    0.000000e+00  \n",
       "max    5.000000e+00     600.000000    2.645000e+03  "
      ]
     },
     "execution_count": 29,
     "metadata": {},
     "output_type": "execute_result"
    }
   ],
   "source": [
    "missing_value_columns = ['nebenkosten', 'heizkosten', 'baujahr', \n",
    "                         'letzte_modernisierung', 'nutzflaeche', \n",
    "                         'etage', 'anzahletagen', 'zimmeranzahl', \n",
    "                         'schlafzimmer', 'badezimmer', 'ev_kennwert', \n",
    "                         'click_customer']\n",
    "rent_cleaned[missing_value_columns].describe()"
   ]
  },
  {
   "cell_type": "markdown",
   "metadata": {},
   "source": [
    "#### Create year column"
   ]
  },
  {
   "cell_type": "code",
   "execution_count": 30,
   "metadata": {},
   "outputs": [],
   "source": [
    "rent_cleaned['year'] = rent_cleaned.edat.dt.year\n",
    "\n"
   ]
  },
  {
   "cell_type": "code",
   "execution_count": 31,
   "metadata": {},
   "outputs": [
    {
     "name": "stdout",
     "output_type": "stream",
     "text": [
      "<class 'pandas.core.frame.DataFrame'>\n",
      "RangeIndex: 2651885 entries, 0 to 2651884\n",
      "Data columns (total 73 columns):\n",
      " #   Column                            Non-Null Count    Dtype         \n",
      "---  ------                            --------------    -----         \n",
      " 0   obid                              2651885 non-null  int64         \n",
      " 1   mietekalt                         2651885 non-null  float64       \n",
      " 2   nebenkosten                       2490467 non-null  float64       \n",
      " 3   heizkosten                        824489 non-null   float64       \n",
      " 4   baujahr                           1682820 non-null  float64       \n",
      " 5   letzte_modernisierung             556602 non-null   float64       \n",
      " 6   wohnflaeche                       2651885 non-null  float64       \n",
      " 7   nutzflaeche                       630468 non-null   float64       \n",
      " 8   etage                             2167254 non-null  float64       \n",
      " 9   anzahletagen                      1605995 non-null  float64       \n",
      " 10  zimmeranzahl                      2651445 non-null  float64       \n",
      " 11  schlafzimmer                      1372067 non-null  float64       \n",
      " 12  badezimmer                        1756338 non-null  float64       \n",
      " 13  ev_kennwert                       800264 non-null   float64       \n",
      " 14  laufzeittage                      2651885 non-null  int64         \n",
      " 15  hits                              2651885 non-null  int64         \n",
      " 16  click_schnellkontakte             2651885 non-null  int64         \n",
      " 17  click_customer                    1446675 non-null  float64       \n",
      " 18  click_weitersagen                 2651885 non-null  int64         \n",
      " 19  click_url                         2651885 non-null  int64         \n",
      " 20  aufzug                            2651885 non-null  bool          \n",
      " 21  balkon                            2651885 non-null  bool          \n",
      " 22  einbaukueche                      2651885 non-null  bool          \n",
      " 23  ev_wwenthalten                    2651885 non-null  bool          \n",
      " 24  foerderung                        2651885 non-null  bool          \n",
      " 25  gaestewc                          2651885 non-null  bool          \n",
      " 26  garten                            2651885 non-null  bool          \n",
      " 27  heizkosten_in_wm_enthalten        2651885 non-null  bool          \n",
      " 28  keller                            2651885 non-null  bool          \n",
      " 29  parkplatz                         2651885 non-null  bool          \n",
      " 30  rollstuhlgerecht                  2651885 non-null  bool          \n",
      " 31  ausstattung                       1101416 non-null  object        \n",
      " 32  energieeffizienzklasse            91234 non-null    object        \n",
      " 33  energieausweistyp                 823862 non-null   object        \n",
      " 34  haustier_erlaubt                  2651885 non-null  bool          \n",
      " 35  heizungsart                       2062547 non-null  object        \n",
      " 36  kategorie_Wohnung                 1845154 non-null  object        \n",
      " 37  objektzustand                     1815866 non-null  object        \n",
      " 38  kid2019                           2651885 non-null  int64         \n",
      " 39  ags2019                           2651885 non-null  int64         \n",
      " 40  anbieter                          150546 non-null   object        \n",
      " 41  spell                             2651885 non-null  int64         \n",
      " 42  adat                              2651885 non-null  datetime64[ns]\n",
      " 43  edat                              2651885 non-null  datetime64[ns]\n",
      " 44  rent_sqm                          2651885 non-null  float64       \n",
      " 45  City                              2651885 non-null  object        \n",
      " 46  Fernwärme                         2651885 non-null  int64         \n",
      " 47  kombinierte Bio Energie           2651885 non-null  int64         \n",
      " 48  Wärmezufuhr                       2651885 non-null  int64         \n",
      " 49  Öl                                2651885 non-null  int64         \n",
      " 50  Heizdampf-Fernwärme               2651885 non-null  int64         \n",
      " 51  Erdgas schwer                     2651885 non-null  int64         \n",
      " 52  thermische Umweltenergie          2651885 non-null  int64         \n",
      " 53  Holz                              2651885 non-null  int64         \n",
      " 54  kombinierte regenerative Energie  2651885 non-null  int64         \n",
      " 55  Wasserenergie                     2651885 non-null  int64         \n",
      " 56  kombinierte Fossilkraftstoffe     2651885 non-null  int64         \n",
      " 57  Elektro                           2651885 non-null  int64         \n",
      " 58  kombinierte erneuerbare Energie   2651885 non-null  int64         \n",
      " 59  Flüssiggas                        2651885 non-null  int64         \n",
      " 60  Holzschnitzel                     2651885 non-null  int64         \n",
      " 61  Erdgas leicht                     2651885 non-null  int64         \n",
      " 62  Pellets                           2651885 non-null  int64         \n",
      " 63  Koks                              2651885 non-null  int64         \n",
      " 64  Bioenergie                        2651885 non-null  int64         \n",
      " 65  Erdwärme                          2651885 non-null  int64         \n",
      " 66  Gas                               2651885 non-null  int64         \n",
      " 67  keine Information                 2651885 non-null  int64         \n",
      " 68  Nahwärme                          2651885 non-null  int64         \n",
      " 69  Solarenergie                      2651885 non-null  int64         \n",
      " 70  Kohle                             2651885 non-null  int64         \n",
      " 71  Windenergie                       2651885 non-null  int64         \n",
      " 72  year                              2651885 non-null  int64         \n",
      "dtypes: bool(12), datetime64[ns](2), float64(15), int64(36), object(8)\n",
      "memory usage: 1.2+ GB\n"
     ]
    }
   ],
   "source": [
    "rent_cleaned.info(null_counts=True)"
   ]
  },
  {
   "cell_type": "markdown",
   "metadata": {},
   "source": [
    "### Pickle the dataframe\n"
   ]
  },
  {
   "cell_type": "code",
   "execution_count": 32,
   "metadata": {},
   "outputs": [],
   "source": [
    "\n",
    "rent_cleaned.to_pickle('data/rent_cleaned.pkl')"
   ]
  }
 ],
 "metadata": {
  "kernelspec": {
   "display_name": "Python 3",
   "language": "python",
   "name": "python3"
  },
  "language_info": {
   "codemirror_mode": {
    "name": "ipython",
    "version": 3
   },
   "file_extension": ".py",
   "mimetype": "text/x-python",
   "name": "python",
   "nbconvert_exporter": "python",
   "pygments_lexer": "ipython3",
   "version": "3.8.5"
  }
 },
 "nbformat": 4,
 "nbformat_minor": 4
}
