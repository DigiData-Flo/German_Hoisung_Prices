{
 "cells": [
  {
   "cell_type": "code",
   "execution_count": 126,
   "metadata": {},
   "outputs": [],
   "source": [
    "import numpy as np\n",
    "import pandas as pd\n",
    "from collections import defaultdict\n",
    "import matplotlib.pyplot as plt\n",
    "import seaborn as sns\n",
    "from IPython import display\n",
    "%matplotlib inline\n",
    "\n"
   ]
  },
  {
   "cell_type": "code",
   "execution_count": 162,
   "metadata": {},
   "outputs": [
    {
     "data": {
      "text/html": [
       "<div>\n",
       "<style scoped>\n",
       "    .dataframe tbody tr th:only-of-type {\n",
       "        vertical-align: middle;\n",
       "    }\n",
       "\n",
       "    .dataframe tbody tr th {\n",
       "        vertical-align: top;\n",
       "    }\n",
       "\n",
       "    .dataframe thead th {\n",
       "        text-align: right;\n",
       "    }\n",
       "</style>\n",
       "<table border=\"1\" class=\"dataframe\">\n",
       "  <thead>\n",
       "    <tr style=\"text-align: right;\">\n",
       "      <th></th>\n",
       "      <th>regio1</th>\n",
       "      <th>serviceCharge</th>\n",
       "      <th>heatingType</th>\n",
       "      <th>telekomTvOffer</th>\n",
       "      <th>telekomHybridUploadSpeed</th>\n",
       "      <th>newlyConst</th>\n",
       "      <th>balcony</th>\n",
       "      <th>picturecount</th>\n",
       "      <th>pricetrend</th>\n",
       "      <th>telekomUploadSpeed</th>\n",
       "      <th>...</th>\n",
       "      <th>regio2</th>\n",
       "      <th>regio3</th>\n",
       "      <th>description</th>\n",
       "      <th>facilities</th>\n",
       "      <th>heatingCosts</th>\n",
       "      <th>energyEfficiencyClass</th>\n",
       "      <th>lastRefurbish</th>\n",
       "      <th>electricityBasePrice</th>\n",
       "      <th>electricityKwhPrice</th>\n",
       "      <th>date</th>\n",
       "    </tr>\n",
       "  </thead>\n",
       "  <tbody>\n",
       "    <tr>\n",
       "      <th>0</th>\n",
       "      <td>Nordrhein_Westfalen</td>\n",
       "      <td>245.00</td>\n",
       "      <td>central_heating</td>\n",
       "      <td>ONE_YEAR_FREE</td>\n",
       "      <td>NaN</td>\n",
       "      <td>False</td>\n",
       "      <td>False</td>\n",
       "      <td>6</td>\n",
       "      <td>4.62</td>\n",
       "      <td>10.0</td>\n",
       "      <td>...</td>\n",
       "      <td>Dortmund</td>\n",
       "      <td>Schüren</td>\n",
       "      <td>Die ebenerdig zu erreichende Erdgeschosswohnun...</td>\n",
       "      <td>Die Wohnung ist mit Laminat ausgelegt. Das Bad...</td>\n",
       "      <td>NaN</td>\n",
       "      <td>NaN</td>\n",
       "      <td>NaN</td>\n",
       "      <td>NaN</td>\n",
       "      <td>NaN</td>\n",
       "      <td>May19</td>\n",
       "    </tr>\n",
       "    <tr>\n",
       "      <th>1</th>\n",
       "      <td>Rheinland_Pfalz</td>\n",
       "      <td>134.00</td>\n",
       "      <td>self_contained_central_heating</td>\n",
       "      <td>ONE_YEAR_FREE</td>\n",
       "      <td>NaN</td>\n",
       "      <td>False</td>\n",
       "      <td>True</td>\n",
       "      <td>8</td>\n",
       "      <td>3.47</td>\n",
       "      <td>10.0</td>\n",
       "      <td>...</td>\n",
       "      <td>Rhein_Pfalz_Kreis</td>\n",
       "      <td>Böhl_Iggelheim</td>\n",
       "      <td>Alles neu macht der Mai – so kann es auch für ...</td>\n",
       "      <td>NaN</td>\n",
       "      <td>NaN</td>\n",
       "      <td>NaN</td>\n",
       "      <td>2019.0</td>\n",
       "      <td>NaN</td>\n",
       "      <td>NaN</td>\n",
       "      <td>May19</td>\n",
       "    </tr>\n",
       "    <tr>\n",
       "      <th>2</th>\n",
       "      <td>Sachsen</td>\n",
       "      <td>255.00</td>\n",
       "      <td>floor_heating</td>\n",
       "      <td>ONE_YEAR_FREE</td>\n",
       "      <td>10.0</td>\n",
       "      <td>True</td>\n",
       "      <td>True</td>\n",
       "      <td>8</td>\n",
       "      <td>2.72</td>\n",
       "      <td>2.4</td>\n",
       "      <td>...</td>\n",
       "      <td>Dresden</td>\n",
       "      <td>Äußere_Neustadt_Antonstadt</td>\n",
       "      <td>Der Neubau entsteht im Herzen der Dresdner Neu...</td>\n",
       "      <td>* 9 m² Balkon\\n* Bad mit bodengleicher Dusche,...</td>\n",
       "      <td>NaN</td>\n",
       "      <td>NaN</td>\n",
       "      <td>NaN</td>\n",
       "      <td>NaN</td>\n",
       "      <td>NaN</td>\n",
       "      <td>Oct19</td>\n",
       "    </tr>\n",
       "    <tr>\n",
       "      <th>3</th>\n",
       "      <td>Sachsen</td>\n",
       "      <td>58.15</td>\n",
       "      <td>district_heating</td>\n",
       "      <td>ONE_YEAR_FREE</td>\n",
       "      <td>NaN</td>\n",
       "      <td>False</td>\n",
       "      <td>True</td>\n",
       "      <td>9</td>\n",
       "      <td>1.53</td>\n",
       "      <td>40.0</td>\n",
       "      <td>...</td>\n",
       "      <td>Mittelsachsen_Kreis</td>\n",
       "      <td>Freiberg</td>\n",
       "      <td>Abseits von Lärm und Abgasen in Ihre neue Wohn...</td>\n",
       "      <td>NaN</td>\n",
       "      <td>87.23</td>\n",
       "      <td>NaN</td>\n",
       "      <td>NaN</td>\n",
       "      <td>NaN</td>\n",
       "      <td>NaN</td>\n",
       "      <td>May19</td>\n",
       "    </tr>\n",
       "    <tr>\n",
       "      <th>4</th>\n",
       "      <td>Bremen</td>\n",
       "      <td>138.00</td>\n",
       "      <td>self_contained_central_heating</td>\n",
       "      <td>NaN</td>\n",
       "      <td>NaN</td>\n",
       "      <td>False</td>\n",
       "      <td>True</td>\n",
       "      <td>19</td>\n",
       "      <td>2.46</td>\n",
       "      <td>NaN</td>\n",
       "      <td>...</td>\n",
       "      <td>Bremen</td>\n",
       "      <td>Neu_Schwachhausen</td>\n",
       "      <td>Es handelt sich hier um ein saniertes Mehrfami...</td>\n",
       "      <td>Diese Wohnung wurde neu saniert und ist wie fo...</td>\n",
       "      <td>NaN</td>\n",
       "      <td>NaN</td>\n",
       "      <td>NaN</td>\n",
       "      <td>NaN</td>\n",
       "      <td>NaN</td>\n",
       "      <td>Feb20</td>\n",
       "    </tr>\n",
       "  </tbody>\n",
       "</table>\n",
       "<p>5 rows × 49 columns</p>\n",
       "</div>"
      ],
      "text/plain": [
       "                regio1  serviceCharge                     heatingType  \\\n",
       "0  Nordrhein_Westfalen         245.00                 central_heating   \n",
       "1      Rheinland_Pfalz         134.00  self_contained_central_heating   \n",
       "2              Sachsen         255.00                   floor_heating   \n",
       "3              Sachsen          58.15                district_heating   \n",
       "4               Bremen         138.00  self_contained_central_heating   \n",
       "\n",
       "  telekomTvOffer  telekomHybridUploadSpeed  newlyConst  balcony  picturecount  \\\n",
       "0  ONE_YEAR_FREE                       NaN       False    False             6   \n",
       "1  ONE_YEAR_FREE                       NaN       False     True             8   \n",
       "2  ONE_YEAR_FREE                      10.0        True     True             8   \n",
       "3  ONE_YEAR_FREE                       NaN       False     True             9   \n",
       "4            NaN                       NaN       False     True            19   \n",
       "\n",
       "   pricetrend  telekomUploadSpeed  ...               regio2  \\\n",
       "0        4.62                10.0  ...             Dortmund   \n",
       "1        3.47                10.0  ...    Rhein_Pfalz_Kreis   \n",
       "2        2.72                 2.4  ...              Dresden   \n",
       "3        1.53                40.0  ...  Mittelsachsen_Kreis   \n",
       "4        2.46                 NaN  ...               Bremen   \n",
       "\n",
       "                       regio3  \\\n",
       "0                     Schüren   \n",
       "1              Böhl_Iggelheim   \n",
       "2  Äußere_Neustadt_Antonstadt   \n",
       "3                    Freiberg   \n",
       "4           Neu_Schwachhausen   \n",
       "\n",
       "                                         description  \\\n",
       "0  Die ebenerdig zu erreichende Erdgeschosswohnun...   \n",
       "1  Alles neu macht der Mai – so kann es auch für ...   \n",
       "2  Der Neubau entsteht im Herzen der Dresdner Neu...   \n",
       "3  Abseits von Lärm und Abgasen in Ihre neue Wohn...   \n",
       "4  Es handelt sich hier um ein saniertes Mehrfami...   \n",
       "\n",
       "                                          facilities heatingCosts  \\\n",
       "0  Die Wohnung ist mit Laminat ausgelegt. Das Bad...          NaN   \n",
       "1                                                NaN          NaN   \n",
       "2  * 9 m² Balkon\\n* Bad mit bodengleicher Dusche,...          NaN   \n",
       "3                                                NaN        87.23   \n",
       "4  Diese Wohnung wurde neu saniert und ist wie fo...          NaN   \n",
       "\n",
       "   energyEfficiencyClass lastRefurbish  electricityBasePrice  \\\n",
       "0                    NaN           NaN                   NaN   \n",
       "1                    NaN        2019.0                   NaN   \n",
       "2                    NaN           NaN                   NaN   \n",
       "3                    NaN           NaN                   NaN   \n",
       "4                    NaN           NaN                   NaN   \n",
       "\n",
       "   electricityKwhPrice   date  \n",
       "0                  NaN  May19  \n",
       "1                  NaN  May19  \n",
       "2                  NaN  Oct19  \n",
       "3                  NaN  May19  \n",
       "4                  NaN  Feb20  \n",
       "\n",
       "[5 rows x 49 columns]"
      ]
     },
     "execution_count": 162,
     "metadata": {},
     "output_type": "execute_result"
    }
   ],
   "source": [
    "df = pd.read_csv('./data/immo_data.csv')\n",
    "df.head()"
   ]
  },
  {
   "cell_type": "markdown",
   "metadata": {},
   "source": [
    "### Define columns of interest"
   ]
  },
  {
   "cell_type": "code",
   "execution_count": 163,
   "metadata": {},
   "outputs": [],
   "source": [
    "object_columns = ['regio1', 'regio2', 'firingTypes', 'condition',\n",
    "           'interiorQual', 'typeOfFlat', 'energyEfficiencyClass' ]\n",
    "\n",
    "float_int_columns = ['serviceCharge', 'totalRent', 'yearConstructed', 'baseRent',\n",
    "                     'livingSpace', 'noRooms', 'thermalChar', 'floor', 'heatingCosts',\n",
    "                     'lastRefurbish']\n",
    "bool_columns = ['balcony', 'hasKitchen', 'cellar', 'lift', 'garden' ]"
   ]
  },
  {
   "cell_type": "markdown",
   "metadata": {},
   "source": [
    "### Remove rows woth nan values for totalRent and livingSpace columns"
   ]
  },
  {
   "cell_type": "code",
   "execution_count": 228,
   "metadata": {},
   "outputs": [],
   "source": [
    "cleaned = df.dropna(subset=['totalRent', 'livingSpace'])"
   ]
  },
  {
   "cell_type": "markdown",
   "metadata": {},
   "source": [
    "### Remove livingSpace which is zero"
   ]
  },
  {
   "cell_type": "code",
   "execution_count": 229,
   "metadata": {},
   "outputs": [],
   "source": [
    "cleaned = cleaned[cleaned.livingSpace != 0.]"
   ]
  },
  {
   "cell_type": "markdown",
   "metadata": {},
   "source": [
    "# Useful functions\n"
   ]
  },
  {
   "cell_type": "code",
   "execution_count": 230,
   "metadata": {},
   "outputs": [],
   "source": [
    "\n",
    "def add_iqr(describe):\n",
    "    '''\n",
    "    INPUT:\n",
    "    df_describe - dataframe from df.describe()\n",
    "\n",
    "    OUTPUT:\n",
    "    new_df_describe - a dataframe with added IQR to index\n",
    "    \n",
    "    calculates the IQR with 75% - 25% quantile\n",
    "    '''\n",
    "    describe.loc['IQR'] = describe.loc['75%'] - describe.loc['25%']\n",
    "    \n",
    "    return describe\n",
    "\n",
    "\n"
   ]
  },
  {
   "cell_type": "code",
   "execution_count": 231,
   "metadata": {},
   "outputs": [],
   "source": [
    "def remove_outlier(df, columns):\n",
    "    '''\n",
    "    INPUT:\n",
    "    df - the pandas dataframe you want to remove outliers\n",
    "    columns - the columns you want to remove outliers, dtype=list\n",
    "\n",
    "    OUTPUT:\n",
    "    new_df - a dataframe with removed outliers for specified columns\n",
    "    '''\n",
    "    describe = add_iqr(df.describe())\n",
    "    index = df.index\n",
    "    for col in columns:\n",
    "        iqr = describe.loc['IQR', col]\n",
    "        lower = describe.loc['25%', col]\n",
    "        upper = describe.loc['75%', col]\n",
    "        new_index = df[df[col].between(lower - 1.5*iqr, upper + 1.5*iqr)].index\n",
    "        index=np.intersect1d(index, new_index)\n",
    "        \n",
    "    return df[df.index.isin(index)]"
   ]
  },
  {
   "cell_type": "markdown",
   "metadata": {},
   "source": [
    "### Draw Statistics to totalRent, livingSpace, Squaremeterprice"
   ]
  },
  {
   "cell_type": "code",
   "execution_count": 232,
   "metadata": {},
   "outputs": [],
   "source": [
    "cleaned = remove_outlier(df, ['totalRent', 'livingSpace'])"
   ]
  },
  {
   "cell_type": "code",
   "execution_count": 233,
   "metadata": {},
   "outputs": [
    {
     "data": {
      "text/html": [
       "<div>\n",
       "<style scoped>\n",
       "    .dataframe tbody tr th:only-of-type {\n",
       "        vertical-align: middle;\n",
       "    }\n",
       "\n",
       "    .dataframe tbody tr th {\n",
       "        vertical-align: top;\n",
       "    }\n",
       "\n",
       "    .dataframe thead th {\n",
       "        text-align: right;\n",
       "    }\n",
       "</style>\n",
       "<table border=\"1\" class=\"dataframe\">\n",
       "  <thead>\n",
       "    <tr style=\"text-align: right;\">\n",
       "      <th></th>\n",
       "      <th>totalRent</th>\n",
       "      <th>livingSpace</th>\n",
       "    </tr>\n",
       "  </thead>\n",
       "  <tbody>\n",
       "    <tr>\n",
       "      <th>count</th>\n",
       "      <td>212250.000000</td>\n",
       "      <td>212250.000000</td>\n",
       "    </tr>\n",
       "    <tr>\n",
       "      <th>mean</th>\n",
       "      <td>709.857452</td>\n",
       "      <td>67.658629</td>\n",
       "    </tr>\n",
       "    <tr>\n",
       "      <th>std</th>\n",
       "      <td>334.430005</td>\n",
       "      <td>23.092435</td>\n",
       "    </tr>\n",
       "    <tr>\n",
       "      <th>min</th>\n",
       "      <td>0.000000</td>\n",
       "      <td>5.500000</td>\n",
       "    </tr>\n",
       "    <tr>\n",
       "      <th>25%</th>\n",
       "      <td>458.462500</td>\n",
       "      <td>52.500000</td>\n",
       "    </tr>\n",
       "    <tr>\n",
       "      <th>50%</th>\n",
       "      <td>615.000000</td>\n",
       "      <td>65.000000</td>\n",
       "    </tr>\n",
       "    <tr>\n",
       "      <th>75%</th>\n",
       "      <td>895.000000</td>\n",
       "      <td>81.000000</td>\n",
       "    </tr>\n",
       "    <tr>\n",
       "      <th>max</th>\n",
       "      <td>1757.530000</td>\n",
       "      <td>136.500000</td>\n",
       "    </tr>\n",
       "  </tbody>\n",
       "</table>\n",
       "</div>"
      ],
      "text/plain": [
       "           totalRent    livingSpace\n",
       "count  212250.000000  212250.000000\n",
       "mean      709.857452      67.658629\n",
       "std       334.430005      23.092435\n",
       "min         0.000000       5.500000\n",
       "25%       458.462500      52.500000\n",
       "50%       615.000000      65.000000\n",
       "75%       895.000000      81.000000\n",
       "max      1757.530000     136.500000"
      ]
     },
     "execution_count": 233,
     "metadata": {},
     "output_type": "execute_result"
    }
   ],
   "source": [
    "cleaned.loc[:, ['totalRent', 'livingSpace']].describe()"
   ]
  },
  {
   "cell_type": "code",
   "execution_count": 234,
   "metadata": {},
   "outputs": [
    {
     "data": {
      "text/plain": [
       "<seaborn.axisgrid.FacetGrid at 0x7f8fc2a2b790>"
      ]
     },
     "execution_count": 234,
     "metadata": {},
     "output_type": "execute_result"
    },
    {
     "data": {
      "image/png": "[encoded data removed]",
      "text/plain": [
       "<Figure size 360x360 with 1 Axes>"
      ]
     },
     "metadata": {
      "needs_background": "light"
     },
     "output_type": "display_data"
    }
   ],
   "source": [
    "sns.displot(data=cleaned, x='totalRent', bins=30)"
   ]
  },
  {
   "cell_type": "code",
   "execution_count": 235,
   "metadata": {},
   "outputs": [
    {
     "data": {
      "text/plain": [
       "<seaborn.axisgrid.FacetGrid at 0x7f90e7d9f430>"
      ]
     },
     "execution_count": 235,
     "metadata": {},
     "output_type": "execute_result"
    },
    {
     "data": {
      "image/png": "[encoded data removed]",
      "text/plain": [
       "<Figure size 360x360 with 1 Axes>"
      ]
     },
     "metadata": {
      "needs_background": "light"
     },
     "output_type": "display_data"
    }
   ],
   "source": [
    "sns.displot(data=cleaned, x='livingSpace', bins=30)"
   ]
  },
  {
   "cell_type": "markdown",
   "metadata": {},
   "source": [
    "#### Calculate Price per square meter"
   ]
  },
  {
   "cell_type": "code",
   "execution_count": 236,
   "metadata": {},
   "outputs": [
    {
     "name": "stderr",
     "output_type": "stream",
     "text": [
      "/Users/florian/opt/anaconda3/lib/python3.8/site-packages/pandas/core/indexing.py:1596: SettingWithCopyWarning: \n",
      "A value is trying to be set on a copy of a slice from a DataFrame.\n",
      "Try using .loc[row_indexer,col_indexer] = value instead\n",
      "\n",
      "See the caveats in the documentation: https://pandas.pydata.org/pandas-docs/stable/user_guide/indexing.html#returning-a-view-versus-a-copy\n",
      "  self.obj[key] = _infer_fill_value(value)\n",
      "/Users/florian/opt/anaconda3/lib/python3.8/site-packages/pandas/core/indexing.py:1745: SettingWithCopyWarning: \n",
      "A value is trying to be set on a copy of a slice from a DataFrame.\n",
      "Try using .loc[row_indexer,col_indexer] = value instead\n",
      "\n",
      "See the caveats in the documentation: https://pandas.pydata.org/pandas-docs/stable/user_guide/indexing.html#returning-a-view-versus-a-copy\n",
      "  isetter(ilocs[0], value)\n"
     ]
    }
   ],
   "source": [
    "cleaned.loc[:,'squaremeterprice'] = cleaned['totalRent'] / cleaned['livingSpace']\n",
    "cleaned = remove_outlier(cleaned, ['squaremeterprice'])"
   ]
  },
  {
   "cell_type": "code",
   "execution_count": 237,
   "metadata": {},
   "outputs": [
    {
     "data": {
      "text/plain": [
       "<seaborn.axisgrid.FacetGrid at 0x7f9062260d30>"
      ]
     },
     "execution_count": 237,
     "metadata": {},
     "output_type": "execute_result"
    },
    {
     "data": {
      "image/png": "[encoded data removed]",
      "text/plain": [
       "<Figure size 360x360 with 1 Axes>"
      ]
     },
     "metadata": {
      "needs_background": "light"
     },
     "output_type": "display_data"
    }
   ],
   "source": [
    "sns.displot(data=cleaned, x='squaremeterprice', bins=30)"
   ]
  },
  {
   "cell_type": "markdown",
   "metadata": {},
   "source": [
    "### Create Price over time table\n",
    "\n",
    "Create a table "
   ]
  },
  {
   "cell_type": "code",
   "execution_count": 238,
   "metadata": {},
   "outputs": [],
   "source": [
    "\n",
    "price_over_time = cleaned.groupby(['date', 'regio2']).squaremeterprice.mean().reset_index(name='Mean_Squaremeterprice').pivot(index='regio2', columns='date', values='Mean_Squaremeterprice')"
   ]
  },
  {
   "cell_type": "code",
   "execution_count": 239,
   "metadata": {},
   "outputs": [],
   "source": [
    "price_over_time = price_over_time.dropna()\n",
    "price_over_time = price_over_time[['Sep18', 'May19', 'Oct19', 'Feb20']]"
   ]
  },
  {
   "cell_type": "code",
   "execution_count": 240,
   "metadata": {},
   "outputs": [
    {
     "data": {
      "text/html": [
       "<div>\n",
       "<style scoped>\n",
       "    .dataframe tbody tr th:only-of-type {\n",
       "        vertical-align: middle;\n",
       "    }\n",
       "\n",
       "    .dataframe tbody tr th {\n",
       "        vertical-align: top;\n",
       "    }\n",
       "\n",
       "    .dataframe thead th {\n",
       "        text-align: right;\n",
       "    }\n",
       "</style>\n",
       "<table border=\"1\" class=\"dataframe\">\n",
       "  <thead>\n",
       "    <tr style=\"text-align: right;\">\n",
       "      <th>date</th>\n",
       "      <th>Sep18</th>\n",
       "      <th>May19</th>\n",
       "      <th>Oct19</th>\n",
       "      <th>Feb20</th>\n",
       "    </tr>\n",
       "    <tr>\n",
       "      <th>regio2</th>\n",
       "      <th></th>\n",
       "      <th></th>\n",
       "      <th></th>\n",
       "      <th></th>\n",
       "    </tr>\n",
       "  </thead>\n",
       "  <tbody>\n",
       "    <tr>\n",
       "      <th>Aachen</th>\n",
       "      <td>11.949394</td>\n",
       "      <td>12.124795</td>\n",
       "      <td>12.055116</td>\n",
       "      <td>12.136585</td>\n",
       "    </tr>\n",
       "    <tr>\n",
       "      <th>Aachen_Kreis</th>\n",
       "      <td>9.820544</td>\n",
       "      <td>10.033893</td>\n",
       "      <td>9.756573</td>\n",
       "      <td>10.043100</td>\n",
       "    </tr>\n",
       "    <tr>\n",
       "      <th>Ahrweiler_Kreis</th>\n",
       "      <td>9.557576</td>\n",
       "      <td>9.499012</td>\n",
       "      <td>10.089386</td>\n",
       "      <td>10.538145</td>\n",
       "    </tr>\n",
       "    <tr>\n",
       "      <th>Aichach_Friedberg_Kreis</th>\n",
       "      <td>12.299791</td>\n",
       "      <td>12.106054</td>\n",
       "      <td>12.307967</td>\n",
       "      <td>12.434551</td>\n",
       "    </tr>\n",
       "    <tr>\n",
       "      <th>Alb_Donau_Kreis</th>\n",
       "      <td>10.254021</td>\n",
       "      <td>10.733930</td>\n",
       "      <td>10.856839</td>\n",
       "      <td>11.475499</td>\n",
       "    </tr>\n",
       "  </tbody>\n",
       "</table>\n",
       "</div>"
      ],
      "text/plain": [
       "date                         Sep18      May19      Oct19      Feb20\n",
       "regio2                                                             \n",
       "Aachen                   11.949394  12.124795  12.055116  12.136585\n",
       "Aachen_Kreis              9.820544  10.033893   9.756573  10.043100\n",
       "Ahrweiler_Kreis           9.557576   9.499012  10.089386  10.538145\n",
       "Aichach_Friedberg_Kreis  12.299791  12.106054  12.307967  12.434551\n",
       "Alb_Donau_Kreis          10.254021  10.733930  10.856839  11.475499"
      ]
     },
     "execution_count": 240,
     "metadata": {},
     "output_type": "execute_result"
    }
   ],
   "source": [
    "price_over_time.head()"
   ]
  },
  {
   "cell_type": "code",
   "execution_count": 241,
   "metadata": {},
   "outputs": [
    {
     "name": "stdout",
     "output_type": "stream",
     "text": [
      "München\n",
      "München_Kreis\n"
     ]
    }
   ],
   "source": [
    "region = 'München'\n",
    "for value in price_over_time.index:\n",
    "    if region in value:\n",
    "        print(value)"
   ]
  },
  {
   "cell_type": "code",
   "execution_count": 242,
   "metadata": {},
   "outputs": [],
   "source": [
    "dates = price_over_time.columns[:-1]\n",
    "dates\n",
    "\n",
    "price_over_time.loc[:, 'change_18_19'] = price_over_time['Oct19'] / price_over_time['Sep18'] * 100 - 100\n",
    "price_over_time.loc[:, 'change_19_19'] = price_over_time['May19'] / price_over_time['Oct19'] * 100 - 100\n",
    "price_over_time.loc[:, 'change_19_20'] = price_over_time['Oct19'] / price_over_time['Feb20'] * 100 - 100"
   ]
  },
  {
   "cell_type": "code",
   "execution_count": 243,
   "metadata": {},
   "outputs": [
    {
     "data": {
      "text/html": [
       "<div>\n",
       "<style scoped>\n",
       "    .dataframe tbody tr th:only-of-type {\n",
       "        vertical-align: middle;\n",
       "    }\n",
       "\n",
       "    .dataframe tbody tr th {\n",
       "        vertical-align: top;\n",
       "    }\n",
       "\n",
       "    .dataframe thead th {\n",
       "        text-align: right;\n",
       "    }\n",
       "</style>\n",
       "<table border=\"1\" class=\"dataframe\">\n",
       "  <thead>\n",
       "    <tr style=\"text-align: right;\">\n",
       "      <th>date</th>\n",
       "      <th>Sep18</th>\n",
       "      <th>May19</th>\n",
       "      <th>Oct19</th>\n",
       "      <th>Feb20</th>\n",
       "      <th>change_18_19</th>\n",
       "      <th>change_19_19</th>\n",
       "      <th>change_19_20</th>\n",
       "    </tr>\n",
       "    <tr>\n",
       "      <th>regio2</th>\n",
       "      <th></th>\n",
       "      <th></th>\n",
       "      <th></th>\n",
       "      <th></th>\n",
       "      <th></th>\n",
       "      <th></th>\n",
       "      <th></th>\n",
       "    </tr>\n",
       "  </thead>\n",
       "  <tbody>\n",
       "    <tr>\n",
       "      <th>Aachen</th>\n",
       "      <td>11.949394</td>\n",
       "      <td>12.124795</td>\n",
       "      <td>12.055116</td>\n",
       "      <td>12.136585</td>\n",
       "      <td>0.884753</td>\n",
       "      <td>0.578003</td>\n",
       "      <td>-0.671262</td>\n",
       "    </tr>\n",
       "    <tr>\n",
       "      <th>Aachen_Kreis</th>\n",
       "      <td>9.820544</td>\n",
       "      <td>10.033893</td>\n",
       "      <td>9.756573</td>\n",
       "      <td>10.043100</td>\n",
       "      <td>-0.651395</td>\n",
       "      <td>2.842390</td>\n",
       "      <td>-2.852972</td>\n",
       "    </tr>\n",
       "    <tr>\n",
       "      <th>Ahrweiler_Kreis</th>\n",
       "      <td>9.557576</td>\n",
       "      <td>9.499012</td>\n",
       "      <td>10.089386</td>\n",
       "      <td>10.538145</td>\n",
       "      <td>5.564279</td>\n",
       "      <td>-5.851438</td>\n",
       "      <td>-4.258425</td>\n",
       "    </tr>\n",
       "    <tr>\n",
       "      <th>Aichach_Friedberg_Kreis</th>\n",
       "      <td>12.299791</td>\n",
       "      <td>12.106054</td>\n",
       "      <td>12.307967</td>\n",
       "      <td>12.434551</td>\n",
       "      <td>0.066474</td>\n",
       "      <td>-1.640509</td>\n",
       "      <td>-1.017997</td>\n",
       "    </tr>\n",
       "    <tr>\n",
       "      <th>Alb_Donau_Kreis</th>\n",
       "      <td>10.254021</td>\n",
       "      <td>10.733930</td>\n",
       "      <td>10.856839</td>\n",
       "      <td>11.475499</td>\n",
       "      <td>5.878845</td>\n",
       "      <td>-1.132081</td>\n",
       "      <td>-5.391145</td>\n",
       "    </tr>\n",
       "    <tr>\n",
       "      <th>...</th>\n",
       "      <td>...</td>\n",
       "      <td>...</td>\n",
       "      <td>...</td>\n",
       "      <td>...</td>\n",
       "      <td>...</td>\n",
       "      <td>...</td>\n",
       "      <td>...</td>\n",
       "    </tr>\n",
       "    <tr>\n",
       "      <th>Würzburg_Kreis</th>\n",
       "      <td>11.027261</td>\n",
       "      <td>11.441814</td>\n",
       "      <td>11.247416</td>\n",
       "      <td>11.491910</td>\n",
       "      <td>1.996464</td>\n",
       "      <td>1.728377</td>\n",
       "      <td>-2.127530</td>\n",
       "    </tr>\n",
       "    <tr>\n",
       "      <th>Zollernalbkreis</th>\n",
       "      <td>11.446345</td>\n",
       "      <td>9.896757</td>\n",
       "      <td>10.331396</td>\n",
       "      <td>10.634591</td>\n",
       "      <td>-9.740655</td>\n",
       "      <td>-4.206966</td>\n",
       "      <td>-2.851027</td>\n",
       "    </tr>\n",
       "    <tr>\n",
       "      <th>Zweibrücken</th>\n",
       "      <td>7.688038</td>\n",
       "      <td>8.723632</td>\n",
       "      <td>7.676068</td>\n",
       "      <td>9.218884</td>\n",
       "      <td>-0.155688</td>\n",
       "      <td>13.647136</td>\n",
       "      <td>-16.735383</td>\n",
       "    </tr>\n",
       "    <tr>\n",
       "      <th>Zwickau</th>\n",
       "      <td>7.788652</td>\n",
       "      <td>7.879755</td>\n",
       "      <td>7.819021</td>\n",
       "      <td>7.790959</td>\n",
       "      <td>0.389910</td>\n",
       "      <td>0.776743</td>\n",
       "      <td>0.360184</td>\n",
       "    </tr>\n",
       "    <tr>\n",
       "      <th>Zwickau_Kreis</th>\n",
       "      <td>7.275778</td>\n",
       "      <td>7.273707</td>\n",
       "      <td>7.300394</td>\n",
       "      <td>7.363335</td>\n",
       "      <td>0.338331</td>\n",
       "      <td>-0.365565</td>\n",
       "      <td>-0.854788</td>\n",
       "    </tr>\n",
       "  </tbody>\n",
       "</table>\n",
       "<p>415 rows × 7 columns</p>\n",
       "</div>"
      ],
      "text/plain": [
       "date                         Sep18      May19      Oct19      Feb20  \\\n",
       "regio2                                                                \n",
       "Aachen                   11.949394  12.124795  12.055116  12.136585   \n",
       "Aachen_Kreis              9.820544  10.033893   9.756573  10.043100   \n",
       "Ahrweiler_Kreis           9.557576   9.499012  10.089386  10.538145   \n",
       "Aichach_Friedberg_Kreis  12.299791  12.106054  12.307967  12.434551   \n",
       "Alb_Donau_Kreis          10.254021  10.733930  10.856839  11.475499   \n",
       "...                            ...        ...        ...        ...   \n",
       "Würzburg_Kreis           11.027261  11.441814  11.247416  11.491910   \n",
       "Zollernalbkreis          11.446345   9.896757  10.331396  10.634591   \n",
       "Zweibrücken               7.688038   8.723632   7.676068   9.218884   \n",
       "Zwickau                   7.788652   7.879755   7.819021   7.790959   \n",
       "Zwickau_Kreis             7.275778   7.273707   7.300394   7.363335   \n",
       "\n",
       "date                     change_18_19  change_19_19  change_19_20  \n",
       "regio2                                                             \n",
       "Aachen                       0.884753      0.578003     -0.671262  \n",
       "Aachen_Kreis                -0.651395      2.842390     -2.852972  \n",
       "Ahrweiler_Kreis              5.564279     -5.851438     -4.258425  \n",
       "Aichach_Friedberg_Kreis      0.066474     -1.640509     -1.017997  \n",
       "Alb_Donau_Kreis              5.878845     -1.132081     -5.391145  \n",
       "...                               ...           ...           ...  \n",
       "Würzburg_Kreis               1.996464      1.728377     -2.127530  \n",
       "Zollernalbkreis             -9.740655     -4.206966     -2.851027  \n",
       "Zweibrücken                 -0.155688     13.647136    -16.735383  \n",
       "Zwickau                      0.389910      0.776743      0.360184  \n",
       "Zwickau_Kreis                0.338331     -0.365565     -0.854788  \n",
       "\n",
       "[415 rows x 7 columns]"
      ]
     },
     "execution_count": 243,
     "metadata": {},
     "output_type": "execute_result"
    }
   ],
   "source": [
    "price_over_time"
   ]
  },
  {
   "cell_type": "code",
   "execution_count": 244,
   "metadata": {},
   "outputs": [],
   "source": [
    "price_over_time_melt = price_over_time.melt(id_vars=['Sep18', 'May19', 'Oct19', 'Feb20'])\n"
   ]
  },
  {
   "cell_type": "code",
   "execution_count": 245,
   "metadata": {},
   "outputs": [
    {
     "data": {
      "text/plain": [
       "<seaborn.axisgrid.FacetGrid at 0x7f90566f5100>"
      ]
     },
     "execution_count": 245,
     "metadata": {},
     "output_type": "execute_result"
    },
    {
     "data": {
      "image/png": "[encoded data removed]",
      "text/plain": [
       "<Figure size 468.375x360 with 1 Axes>"
      ]
     },
     "metadata": {
      "needs_background": "light"
     },
     "output_type": "display_data"
    }
   ],
   "source": [
    "sns.displot(data=price_over_time_melt, x='value', hue='date', kind='kde')"
   ]
  },
  {
   "cell_type": "code",
   "execution_count": 246,
   "metadata": {},
   "outputs": [
    {
     "data": {
      "text/html": [
       "<div>\n",
       "<style scoped>\n",
       "    .dataframe tbody tr th:only-of-type {\n",
       "        vertical-align: middle;\n",
       "    }\n",
       "\n",
       "    .dataframe tbody tr th {\n",
       "        vertical-align: top;\n",
       "    }\n",
       "\n",
       "    .dataframe thead th {\n",
       "        text-align: right;\n",
       "    }\n",
       "</style>\n",
       "<table border=\"1\" class=\"dataframe\">\n",
       "  <thead>\n",
       "    <tr style=\"text-align: right;\">\n",
       "      <th></th>\n",
       "      <th>regio1</th>\n",
       "      <th>regio2</th>\n",
       "      <th>firingTypes</th>\n",
       "      <th>condition</th>\n",
       "      <th>interiorQual</th>\n",
       "      <th>typeOfFlat</th>\n",
       "      <th>energyEfficiencyClass</th>\n",
       "      <th>serviceCharge</th>\n",
       "      <th>totalRent</th>\n",
       "      <th>yearConstructed</th>\n",
       "      <th>...</th>\n",
       "      <th>thermalChar</th>\n",
       "      <th>floor</th>\n",
       "      <th>heatingCosts</th>\n",
       "      <th>lastRefurbish</th>\n",
       "      <th>balcony</th>\n",
       "      <th>hasKitchen</th>\n",
       "      <th>cellar</th>\n",
       "      <th>lift</th>\n",
       "      <th>garden</th>\n",
       "      <th>squaremeterprice</th>\n",
       "    </tr>\n",
       "  </thead>\n",
       "  <tbody>\n",
       "    <tr>\n",
       "      <th>0</th>\n",
       "      <td>Nordrhein_Westfalen</td>\n",
       "      <td>Dortmund</td>\n",
       "      <td>oil</td>\n",
       "      <td>well_kept</td>\n",
       "      <td>normal</td>\n",
       "      <td>ground_floor</td>\n",
       "      <td>NaN</td>\n",
       "      <td>245.0</td>\n",
       "      <td>840.00</td>\n",
       "      <td>1965.0</td>\n",
       "      <td>...</td>\n",
       "      <td>181.40</td>\n",
       "      <td>1.0</td>\n",
       "      <td>NaN</td>\n",
       "      <td>1965.0</td>\n",
       "      <td>False</td>\n",
       "      <td>False</td>\n",
       "      <td>True</td>\n",
       "      <td>False</td>\n",
       "      <td>True</td>\n",
       "      <td>9.767442</td>\n",
       "    </tr>\n",
       "    <tr>\n",
       "      <th>2</th>\n",
       "      <td>Sachsen</td>\n",
       "      <td>Dresden</td>\n",
       "      <td>NaN</td>\n",
       "      <td>first_time_use</td>\n",
       "      <td>sophisticated</td>\n",
       "      <td>apartment</td>\n",
       "      <td>NaN</td>\n",
       "      <td>255.0</td>\n",
       "      <td>1300.00</td>\n",
       "      <td>2019.0</td>\n",
       "      <td>...</td>\n",
       "      <td>NaN</td>\n",
       "      <td>3.0</td>\n",
       "      <td>NaN</td>\n",
       "      <td>2019.0</td>\n",
       "      <td>True</td>\n",
       "      <td>False</td>\n",
       "      <td>True</td>\n",
       "      <td>True</td>\n",
       "      <td>False</td>\n",
       "      <td>15.513126</td>\n",
       "    </tr>\n",
       "    <tr>\n",
       "      <th>4</th>\n",
       "      <td>Bremen</td>\n",
       "      <td>Bremen</td>\n",
       "      <td>gas</td>\n",
       "      <td>refurbished</td>\n",
       "      <td>NaN</td>\n",
       "      <td>apartment</td>\n",
       "      <td>NaN</td>\n",
       "      <td>138.0</td>\n",
       "      <td>903.00</td>\n",
       "      <td>1950.0</td>\n",
       "      <td>...</td>\n",
       "      <td>188.90</td>\n",
       "      <td>1.0</td>\n",
       "      <td>NaN</td>\n",
       "      <td>1950.0</td>\n",
       "      <td>True</td>\n",
       "      <td>False</td>\n",
       "      <td>False</td>\n",
       "      <td>False</td>\n",
       "      <td>False</td>\n",
       "      <td>10.627280</td>\n",
       "    </tr>\n",
       "    <tr>\n",
       "      <th>6</th>\n",
       "      <td>Sachsen</td>\n",
       "      <td>Mittelsachsen_Kreis</td>\n",
       "      <td>NaN</td>\n",
       "      <td>fully_renovated</td>\n",
       "      <td>NaN</td>\n",
       "      <td>NaN</td>\n",
       "      <td>NaN</td>\n",
       "      <td>70.0</td>\n",
       "      <td>380.00</td>\n",
       "      <td>0.0</td>\n",
       "      <td>...</td>\n",
       "      <td>NaN</td>\n",
       "      <td>1.0</td>\n",
       "      <td>NaN</td>\n",
       "      <td>0.0</td>\n",
       "      <td>False</td>\n",
       "      <td>False</td>\n",
       "      <td>True</td>\n",
       "      <td>False</td>\n",
       "      <td>True</td>\n",
       "      <td>6.129032</td>\n",
       "    </tr>\n",
       "    <tr>\n",
       "      <th>7</th>\n",
       "      <td>Bremen</td>\n",
       "      <td>Bremen</td>\n",
       "      <td>gas:electricity</td>\n",
       "      <td>NaN</td>\n",
       "      <td>NaN</td>\n",
       "      <td>ground_floor</td>\n",
       "      <td>B</td>\n",
       "      <td>88.0</td>\n",
       "      <td>584.25</td>\n",
       "      <td>1959.0</td>\n",
       "      <td>...</td>\n",
       "      <td>63.00</td>\n",
       "      <td>NaN</td>\n",
       "      <td>44.0</td>\n",
       "      <td>1959.0</td>\n",
       "      <td>True</td>\n",
       "      <td>False</td>\n",
       "      <td>True</td>\n",
       "      <td>False</td>\n",
       "      <td>False</td>\n",
       "      <td>9.689055</td>\n",
       "    </tr>\n",
       "    <tr>\n",
       "      <th>...</th>\n",
       "      <td>...</td>\n",
       "      <td>...</td>\n",
       "      <td>...</td>\n",
       "      <td>...</td>\n",
       "      <td>...</td>\n",
       "      <td>...</td>\n",
       "      <td>...</td>\n",
       "      <td>...</td>\n",
       "      <td>...</td>\n",
       "      <td>...</td>\n",
       "      <td>...</td>\n",
       "      <td>...</td>\n",
       "      <td>...</td>\n",
       "      <td>...</td>\n",
       "      <td>...</td>\n",
       "      <td>...</td>\n",
       "      <td>...</td>\n",
       "      <td>...</td>\n",
       "      <td>...</td>\n",
       "      <td>...</td>\n",
       "      <td>...</td>\n",
       "    </tr>\n",
       "    <tr>\n",
       "      <th>268844</th>\n",
       "      <td>Nordrhein_Westfalen</td>\n",
       "      <td>Essen</td>\n",
       "      <td>gas</td>\n",
       "      <td>first_time_use_after_refurbishment</td>\n",
       "      <td>sophisticated</td>\n",
       "      <td>roof_storey</td>\n",
       "      <td>NaN</td>\n",
       "      <td>80.0</td>\n",
       "      <td>670.00</td>\n",
       "      <td>0.0</td>\n",
       "      <td>...</td>\n",
       "      <td>NaN</td>\n",
       "      <td>3.0</td>\n",
       "      <td>NaN</td>\n",
       "      <td>2019.0</td>\n",
       "      <td>False</td>\n",
       "      <td>False</td>\n",
       "      <td>False</td>\n",
       "      <td>False</td>\n",
       "      <td>False</td>\n",
       "      <td>7.882353</td>\n",
       "    </tr>\n",
       "    <tr>\n",
       "      <th>268845</th>\n",
       "      <td>Bayern</td>\n",
       "      <td>Weilheim_Schongau_Kreis</td>\n",
       "      <td>geothermal</td>\n",
       "      <td>mint_condition</td>\n",
       "      <td>sophisticated</td>\n",
       "      <td>roof_storey</td>\n",
       "      <td>NaN</td>\n",
       "      <td>90.0</td>\n",
       "      <td>910.00</td>\n",
       "      <td>2016.0</td>\n",
       "      <td>...</td>\n",
       "      <td>NaN</td>\n",
       "      <td>NaN</td>\n",
       "      <td>NaN</td>\n",
       "      <td>2016.0</td>\n",
       "      <td>True</td>\n",
       "      <td>False</td>\n",
       "      <td>True</td>\n",
       "      <td>False</td>\n",
       "      <td>False</td>\n",
       "      <td>10.111111</td>\n",
       "    </tr>\n",
       "    <tr>\n",
       "      <th>268846</th>\n",
       "      <td>Hessen</td>\n",
       "      <td>Bergstraße_Kreis</td>\n",
       "      <td>gas</td>\n",
       "      <td>well_kept</td>\n",
       "      <td>sophisticated</td>\n",
       "      <td>apartment</td>\n",
       "      <td>NaN</td>\n",
       "      <td>220.0</td>\n",
       "      <td>1150.00</td>\n",
       "      <td>1983.0</td>\n",
       "      <td>...</td>\n",
       "      <td>NaN</td>\n",
       "      <td>1.0</td>\n",
       "      <td>NaN</td>\n",
       "      <td>2015.0</td>\n",
       "      <td>True</td>\n",
       "      <td>True</td>\n",
       "      <td>False</td>\n",
       "      <td>False</td>\n",
       "      <td>False</td>\n",
       "      <td>10.000000</td>\n",
       "    </tr>\n",
       "    <tr>\n",
       "      <th>268847</th>\n",
       "      <td>Hessen</td>\n",
       "      <td>Limburg_Weilburg_Kreis</td>\n",
       "      <td>gas</td>\n",
       "      <td>well_kept</td>\n",
       "      <td>NaN</td>\n",
       "      <td>apartment</td>\n",
       "      <td>NaN</td>\n",
       "      <td>220.0</td>\n",
       "      <td>930.00</td>\n",
       "      <td>1965.0</td>\n",
       "      <td>...</td>\n",
       "      <td>160.77</td>\n",
       "      <td>1.0</td>\n",
       "      <td>NaN</td>\n",
       "      <td>2019.0</td>\n",
       "      <td>True</td>\n",
       "      <td>False</td>\n",
       "      <td>True</td>\n",
       "      <td>False</td>\n",
       "      <td>True</td>\n",
       "      <td>9.789474</td>\n",
       "    </tr>\n",
       "    <tr>\n",
       "      <th>268848</th>\n",
       "      <td>Nordrhein_Westfalen</td>\n",
       "      <td>Köln</td>\n",
       "      <td>gas</td>\n",
       "      <td>first_time_use</td>\n",
       "      <td>sophisticated</td>\n",
       "      <td>apartment</td>\n",
       "      <td>NO_INFORMATION</td>\n",
       "      <td>175.0</td>\n",
       "      <td>1015.00</td>\n",
       "      <td>2019.0</td>\n",
       "      <td>...</td>\n",
       "      <td>24.70</td>\n",
       "      <td>NaN</td>\n",
       "      <td>40.0</td>\n",
       "      <td>2019.0</td>\n",
       "      <td>True</td>\n",
       "      <td>False</td>\n",
       "      <td>True</td>\n",
       "      <td>True</td>\n",
       "      <td>False</td>\n",
       "      <td>14.500000</td>\n",
       "    </tr>\n",
       "  </tbody>\n",
       "</table>\n",
       "<p>201948 rows × 23 columns</p>\n",
       "</div>"
      ],
      "text/plain": [
       "                     regio1                   regio2      firingTypes  \\\n",
       "0       Nordrhein_Westfalen                 Dortmund              oil   \n",
       "2                   Sachsen                  Dresden              NaN   \n",
       "4                    Bremen                   Bremen              gas   \n",
       "6                   Sachsen      Mittelsachsen_Kreis              NaN   \n",
       "7                    Bremen                   Bremen  gas:electricity   \n",
       "...                     ...                      ...              ...   \n",
       "268844  Nordrhein_Westfalen                    Essen              gas   \n",
       "268845               Bayern  Weilheim_Schongau_Kreis       geothermal   \n",
       "268846               Hessen         Bergstraße_Kreis              gas   \n",
       "268847               Hessen   Limburg_Weilburg_Kreis              gas   \n",
       "268848  Nordrhein_Westfalen                     Köln              gas   \n",
       "\n",
       "                                 condition   interiorQual    typeOfFlat  \\\n",
       "0                                well_kept         normal  ground_floor   \n",
       "2                           first_time_use  sophisticated     apartment   \n",
       "4                              refurbished            NaN     apartment   \n",
       "6                          fully_renovated            NaN           NaN   \n",
       "7                                      NaN            NaN  ground_floor   \n",
       "...                                    ...            ...           ...   \n",
       "268844  first_time_use_after_refurbishment  sophisticated   roof_storey   \n",
       "268845                      mint_condition  sophisticated   roof_storey   \n",
       "268846                           well_kept  sophisticated     apartment   \n",
       "268847                           well_kept            NaN     apartment   \n",
       "268848                      first_time_use  sophisticated     apartment   \n",
       "\n",
       "       energyEfficiencyClass  serviceCharge  totalRent  yearConstructed  ...  \\\n",
       "0                        NaN          245.0     840.00           1965.0  ...   \n",
       "2                        NaN          255.0    1300.00           2019.0  ...   \n",
       "4                        NaN          138.0     903.00           1950.0  ...   \n",
       "6                        NaN           70.0     380.00              0.0  ...   \n",
       "7                          B           88.0     584.25           1959.0  ...   \n",
       "...                      ...            ...        ...              ...  ...   \n",
       "268844                   NaN           80.0     670.00              0.0  ...   \n",
       "268845                   NaN           90.0     910.00           2016.0  ...   \n",
       "268846                   NaN          220.0    1150.00           1983.0  ...   \n",
       "268847                   NaN          220.0     930.00           1965.0  ...   \n",
       "268848        NO_INFORMATION          175.0    1015.00           2019.0  ...   \n",
       "\n",
       "        thermalChar  floor  heatingCosts  lastRefurbish  balcony  hasKitchen  \\\n",
       "0            181.40    1.0           NaN         1965.0    False       False   \n",
       "2               NaN    3.0           NaN         2019.0     True       False   \n",
       "4            188.90    1.0           NaN         1950.0     True       False   \n",
       "6               NaN    1.0           NaN            0.0    False       False   \n",
       "7             63.00    NaN          44.0         1959.0     True       False   \n",
       "...             ...    ...           ...            ...      ...         ...   \n",
       "268844          NaN    3.0           NaN         2019.0    False       False   \n",
       "268845          NaN    NaN           NaN         2016.0     True       False   \n",
       "268846          NaN    1.0           NaN         2015.0     True        True   \n",
       "268847       160.77    1.0           NaN         2019.0     True       False   \n",
       "268848        24.70    NaN          40.0         2019.0     True       False   \n",
       "\n",
       "        cellar   lift  garden  squaremeterprice  \n",
       "0         True  False    True          9.767442  \n",
       "2         True   True   False         15.513126  \n",
       "4        False  False   False         10.627280  \n",
       "6         True  False    True          6.129032  \n",
       "7         True  False   False          9.689055  \n",
       "...        ...    ...     ...               ...  \n",
       "268844   False  False   False          7.882353  \n",
       "268845    True  False   False         10.111111  \n",
       "268846   False  False   False         10.000000  \n",
       "268847    True  False    True          9.789474  \n",
       "268848    True   True   False         14.500000  \n",
       "\n",
       "[201948 rows x 23 columns]"
      ]
     },
     "execution_count": 246,
     "metadata": {},
     "output_type": "execute_result"
    }
   ],
   "source": [
    "cleaned = cleaned.loc[:, object_columns + float_int_columns + bool_columns + ['squaremeterprice']]\n",
    "cleaned"
   ]
  },
  {
   "cell_type": "markdown",
   "metadata": {},
   "source": [
    "### Get Dummies for Firing Types\n",
    "\n",
    "The firing types are strings. it is possible that more thean one firing type is give, seperated by :\n",
    "Split the strings into list objects and use a MultiLabelBinarizer to create a one hot encoding.\n",
    "\n",
    "\n"
   ]
  },
  {
   "cell_type": "code",
   "execution_count": null,
   "metadata": {},
   "outputs": [],
   "source": []
  },
  {
   "cell_type": "code",
   "execution_count": 247,
   "metadata": {},
   "outputs": [],
   "source": [
    "# One hot encoding channels\n",
    "from sklearn.preprocessing import MultiLabelBinarizer\n",
    "\n",
    "# Fill the nan values in firing Type with string to make it fit for MLB\n",
    "cleaned.firingTypes = cleaned.firingTypes.fillna('Unknown_firingType')\n",
    "cleaned['firingTypes_mod'] = cleaned.firingTypes.str.split(':')\n",
    "\n",
    "\n",
    "\n",
    "mlb = MultiLabelBinarizer(sparse_output=True)\n",
    "\n",
    "cleaned = cleaned.join(\n",
    "            pd.DataFrame.sparse.from_spmatrix(\n",
    "                mlb.fit_transform(cleaned.pop('firingTypes_mod')),\n",
    "                index=cleaned.index,\n",
    "                columns=mlb.classes_))\n",
    "\n"
   ]
  },
  {
   "cell_type": "code",
   "execution_count": 255,
   "metadata": {},
   "outputs": [
    {
     "data": {
      "text/plain": [
       "['heat_supply',\n",
       " 'gas',\n",
       " 'geothermal',\n",
       " 'pellet_heating',\n",
       " 'electricity',\n",
       " 'combined_heat_and_power_renewable_energy',\n",
       " 'bio_energy',\n",
       " 'district_heating',\n",
       " 'combined_heat_and_power_regenerative_energy',\n",
       " 'wood',\n",
       " 'wood_chips',\n",
       " 'natural_gas_light',\n",
       " 'combined_heat_and_power_fossil_fuels',\n",
       " 'natural_gas_heavy',\n",
       " 'liquid_gas',\n",
       " 'solar_heating',\n",
       " 'local_heating',\n",
       " 'Unknown_firingType',\n",
       " 'wind_energy',\n",
       " 'combined_heat_and_power_bio_energy',\n",
       " 'hydro_energy',\n",
       " 'coal_coke',\n",
       " 'oil',\n",
       " 'coal',\n",
       " 'environmental_thermal_energy',\n",
       " 'steam_district_heating']"
      ]
     },
     "execution_count": 255,
     "metadata": {},
     "output_type": "execute_result"
    }
   ],
   "source": [
    "possible_vals = set()\n",
    "\n",
    "cleaned.firingTypes = cleaned.firingTypes.str.replace(r': ', ':')\n",
    "for list_ in cleaned.firingTypes.str.split(':').dropna():\n",
    "    for value in list_:\n",
    "        possible_vals.add(value)\n",
    "possible_vals = list(possible_vals)\n",
    "possible_vals"
   ]
  },
  {
   "cell_type": "code",
   "execution_count": 256,
   "metadata": {},
   "outputs": [
    {
     "data": {
      "text/plain": [
       "gas                                                84809\n",
       "Unknown_firingType                                 41381\n",
       "district_heating                                   37237\n",
       "oil                                                13591\n",
       "natural_gas_light                                   8008\n",
       "                                                   ...  \n",
       "geothermal:solar_heating:pellet_heating                1\n",
       "gas:oil:electricity                                    1\n",
       "district_heating:natural_gas_heavy                     1\n",
       "geothermal:electricity                                 1\n",
       "solar_heating:wood:environmental_thermal_energy        1\n",
       "Name: firingTypes, Length: 107, dtype: int64"
      ]
     },
     "execution_count": 256,
     "metadata": {},
     "output_type": "execute_result"
    }
   ],
   "source": [
    "cleaned.firingTypes.value_counts()"
   ]
  },
  {
   "cell_type": "code",
   "execution_count": 257,
   "metadata": {},
   "outputs": [],
   "source": [
    "def total_count(df, col1, col2, look_for):\n",
    "    '''\n",
    "    INPUT:\n",
    "    df - the pandas dataframe you want to search\n",
    "    col1 - the column name you want to look through\n",
    "    col2 - the column you want to count values from\n",
    "    look_for - a list of strings you want to search for in each row of df[col]\n",
    "\n",
    "    OUTPUT:\n",
    "    new_df - a dataframe of each look_for with the count of how often it shows up\n",
    "    '''\n",
    "    new_df = defaultdict(int)\n",
    "    #loop through list of ed types\n",
    "    for val in look_for:\n",
    "        #loop through rows\n",
    "        for idx in range(df.shape[0]):\n",
    "            #if the ed type is in the row add 1\n",
    "            if val in df[col1][idx]:\n",
    "                new_df[val] += int(df[col2][idx])\n",
    "    new_df = pd.DataFrame(pd.Series(new_df)).reset_index()\n",
    "    new_df.columns = [col1, col2]\n",
    "    new_df.sort_values('count', ascending=False, inplace=True)\n",
    "    return new_df\n",
    "\n"
   ]
  },
  {
   "cell_type": "code",
   "execution_count": 258,
   "metadata": {},
   "outputs": [
    {
     "data": {
      "image/png": "[encoded data removed]",
      "text/plain": [
       "<Figure size 432x288 with 1 Axes>"
      ]
     },
     "metadata": {
      "needs_background": "light"
     },
     "output_type": "display_data"
    }
   ],
   "source": [
    "\n",
    "def clean_and_plot(df, title='Firing Type', plot=True):\n",
    "    '''\n",
    "    INPUT \n",
    "        df - a dataframe holding the Firing Type column\n",
    "        title - string tche title of your plot\n",
    "        axis - axis object\n",
    "        plot - bool providing whether or not you want a plot back\n",
    "        \n",
    "    OUTPUT\n",
    "        study_df - a dataframe with the count of how many individuals\n",
    "        Displays a plot of pretty things related to the CousinEducation column.\n",
    "    '''\n",
    "    study = df['firingTypes'].value_counts().reset_index()\n",
    "    study.rename(columns={'index': 'firingTypes', 'firingTypes': 'count'}, inplace=True)\n",
    "    study_df = total_count(study, 'firingTypes', 'count', possible_vals)\n",
    "\n",
    "    study_df.set_index('firingTypes', inplace=True)\n",
    "    if plot:\n",
    "        (study_df/study_df.sum()).plot(kind='bar', legend=None);\n",
    "        plt.title(title);\n",
    "        plt.show()\n",
    "    props_study_df = study_df/study_df.sum()\n",
    "    return props_study_df\n",
    "    \n",
    "props_df = clean_and_plot(cleaned)"
   ]
  },
  {
   "cell_type": "markdown",
   "metadata": {},
   "source": [
    "### Create Dummy Variables for object columns"
   ]
  },
  {
   "cell_type": "code",
   "execution_count": 259,
   "metadata": {},
   "outputs": [
    {
     "data": {
      "text/plain": [
       "(201948, 49)"
      ]
     },
     "execution_count": 259,
     "metadata": {},
     "output_type": "execute_result"
    }
   ],
   "source": [
    "cleaned.shape"
   ]
  },
  {
   "cell_type": "code",
   "execution_count": 260,
   "metadata": {},
   "outputs": [
    {
     "name": "stdout",
     "output_type": "stream",
     "text": [
      "<class 'pandas.core.frame.DataFrame'>\n",
      "Int64Index: 201948 entries, 0 to 268848\n",
      "Data columns (total 49 columns):\n",
      " #   Column                                       Non-Null Count   Dtype           \n",
      "---  ------                                       --------------   -----           \n",
      " 0   regio1                                       201948 non-null  object          \n",
      " 1   regio2                                       201948 non-null  object          \n",
      " 2   firingTypes                                  201948 non-null  object          \n",
      " 3   condition                                    150924 non-null  object          \n",
      " 4   interiorQual                                 121684 non-null  object          \n",
      " 5   typeOfFlat                                   175007 non-null  object          \n",
      " 6   energyEfficiencyClass                        57054 non-null   object          \n",
      " 7   serviceCharge                                198719 non-null  float64         \n",
      " 8   totalRent                                    201948 non-null  float64         \n",
      " 9   yearConstructed                              201948 non-null  float64         \n",
      " 10  baseRent                                     201948 non-null  float64         \n",
      " 11  livingSpace                                  201948 non-null  float64         \n",
      " 12  noRooms                                      201948 non-null  float64         \n",
      " 13  thermalChar                                  121715 non-null  float64         \n",
      " 14  floor                                        167017 non-null  float64         \n",
      " 15  heatingCosts                                 68263 non-null   float64         \n",
      " 16  lastRefurbish                                201948 non-null  float64         \n",
      " 17  balcony                                      201948 non-null  bool            \n",
      " 18  hasKitchen                                   201948 non-null  bool            \n",
      " 19  cellar                                       201948 non-null  bool            \n",
      " 20  lift                                         201948 non-null  bool            \n",
      " 21  garden                                       201948 non-null  bool            \n",
      " 22  squaremeterprice                             201948 non-null  float64         \n",
      " 23  Unknown_firingType                           201948 non-null  Sparse[int64, 0]\n",
      " 24  bio_energy                                   201948 non-null  Sparse[int64, 0]\n",
      " 25  coal                                         201948 non-null  Sparse[int64, 0]\n",
      " 26  coal_coke                                    201948 non-null  Sparse[int64, 0]\n",
      " 27  combined_heat_and_power_bio_energy           201948 non-null  Sparse[int64, 0]\n",
      " 28  combined_heat_and_power_fossil_fuels         201948 non-null  Sparse[int64, 0]\n",
      " 29  combined_heat_and_power_regenerative_energy  201948 non-null  Sparse[int64, 0]\n",
      " 30  combined_heat_and_power_renewable_energy     201948 non-null  Sparse[int64, 0]\n",
      " 31  district_heating                             201948 non-null  Sparse[int64, 0]\n",
      " 32  electricity                                  201948 non-null  Sparse[int64, 0]\n",
      " 33  environmental_thermal_energy                 201948 non-null  Sparse[int64, 0]\n",
      " 34  gas                                          201948 non-null  Sparse[int64, 0]\n",
      " 35  geothermal                                   201948 non-null  Sparse[int64, 0]\n",
      " 36  heat_supply                                  201948 non-null  Sparse[int64, 0]\n",
      " 37  hydro_energy                                 201948 non-null  Sparse[int64, 0]\n",
      " 38  liquid_gas                                   201948 non-null  Sparse[int64, 0]\n",
      " 39  local_heating                                201948 non-null  Sparse[int64, 0]\n",
      " 40  natural_gas_heavy                            201948 non-null  Sparse[int64, 0]\n",
      " 41  natural_gas_light                            201948 non-null  Sparse[int64, 0]\n",
      " 42  oil                                          201948 non-null  Sparse[int64, 0]\n",
      " 43  pellet_heating                               201948 non-null  Sparse[int64, 0]\n",
      " 44  solar_heating                                201948 non-null  Sparse[int64, 0]\n",
      " 45  steam_district_heating                       201948 non-null  Sparse[int64, 0]\n",
      " 46  wind_energy                                  201948 non-null  Sparse[int64, 0]\n",
      " 47  wood                                         201948 non-null  Sparse[int64, 0]\n",
      " 48  wood_chips                                   201948 non-null  Sparse[int64, 0]\n",
      "dtypes: Sparse[int64, 0](26), bool(5), float64(11), object(7)\n",
      "memory usage: 42.6+ MB\n"
     ]
    }
   ],
   "source": [
    "cleaned.info()"
   ]
  },
  {
   "cell_type": "code",
   "execution_count": 261,
   "metadata": {},
   "outputs": [
    {
     "data": {
      "text/plain": [
       "['regio1',\n",
       " 'regio2',\n",
       " 'condition',\n",
       " 'interiorQual',\n",
       " 'typeOfFlat',\n",
       " 'energyEfficiencyClass']"
      ]
     },
     "execution_count": 261,
     "metadata": {},
     "output_type": "execute_result"
    }
   ],
   "source": [
    "dummy_columns = object_columns.copy()\n",
    "dummy_columns.remove('firingTypes')\n",
    "dummy_columns"
   ]
  },
  {
   "cell_type": "markdown",
   "metadata": {},
   "source": [
    "### Create Dummies for object columns"
   ]
  },
  {
   "cell_type": "code",
   "execution_count": 262,
   "metadata": {},
   "outputs": [],
   "source": [
    "cleaned_dummy = pd.get_dummies(cleaned, columns=dummy_columns, prefix=dummy_columns, prefix_sep='_', dummy_na=True)\n"
   ]
  },
  {
   "cell_type": "markdown",
   "metadata": {},
   "source": [
    "### Fill missing values for last refurbish\n",
    "* Use year constructed column to fill last refurbish columns nan values\n",
    "* Further missing values fill with zero to keep a difference and not to drop this rows.\n",
    "* Missing values for year constructed fill with zero.\n",
    " "
   ]
  },
  {
   "cell_type": "markdown",
   "metadata": {},
   "source": []
  },
  {
   "cell_type": "code",
   "execution_count": 264,
   "metadata": {},
   "outputs": [],
   "source": [
    "cleaned_dummy.lastRefurbish = cleaned_dummy.lastRefurbish.fillna(df.yearConstructed)\n",
    "cleaned_dummy.lastRefurbish = cleaned_dummy.lastRefurbish.fillna(0.)\n",
    "cleaned_dummy.yearConstructed = cleaned_dummy.yearConstructed.fillna(0.)\n"
   ]
  },
  {
   "cell_type": "code",
   "execution_count": 271,
   "metadata": {},
   "outputs": [
    {
     "name": "stdout",
     "output_type": "stream",
     "text": [
      "<class 'pandas.core.frame.DataFrame'>\n",
      "Int64Index: 201948 entries, 0 to 268848\n",
      "Data columns (total 10 columns):\n",
      " #   Column           Non-Null Count   Dtype  \n",
      "---  ------           --------------   -----  \n",
      " 0   serviceCharge    198719 non-null  float64\n",
      " 1   totalRent        201948 non-null  float64\n",
      " 2   yearConstructed  201948 non-null  float64\n",
      " 3   baseRent         201948 non-null  float64\n",
      " 4   livingSpace      201948 non-null  float64\n",
      " 5   noRooms          201948 non-null  float64\n",
      " 6   thermalChar      121715 non-null  float64\n",
      " 7   floor            167017 non-null  float64\n",
      " 8   heatingCosts     68263 non-null   float64\n",
      " 9   lastRefurbish    201948 non-null  float64\n",
      "dtypes: float64(10)\n",
      "memory usage: 26.9 MB\n"
     ]
    }
   ],
   "source": [
    "cleaned_dummy[float_int_columns].info()"
   ]
  },
  {
   "cell_type": "code",
   "execution_count": 272,
   "metadata": {},
   "outputs": [],
   "source": [
    "cleaned_dummy = remove_outlier(cleaned_dummy[float_int_columns], columns=['noRooms'])"
   ]
  },
  {
   "cell_type": "code",
   "execution_count": 273,
   "metadata": {},
   "outputs": [
    {
     "name": "stdout",
     "output_type": "stream",
     "text": [
      "<class 'pandas.core.frame.DataFrame'>\n",
      "Int64Index: 199430 entries, 0 to 268848\n",
      "Data columns (total 10 columns):\n",
      " #   Column           Non-Null Count   Dtype  \n",
      "---  ------           --------------   -----  \n",
      " 0   serviceCharge    196276 non-null  float64\n",
      " 1   totalRent        199430 non-null  float64\n",
      " 2   yearConstructed  199430 non-null  float64\n",
      " 3   baseRent         199430 non-null  float64\n",
      " 4   livingSpace      199430 non-null  float64\n",
      " 5   noRooms          199430 non-null  float64\n",
      " 6   thermalChar      120511 non-null  float64\n",
      " 7   floor            164994 non-null  float64\n",
      " 8   heatingCosts     67630 non-null   float64\n",
      " 9   lastRefurbish    199430 non-null  float64\n",
      "dtypes: float64(10)\n",
      "memory usage: 16.7 MB\n"
     ]
    }
   ],
   "source": [
    "cleaned_dummy.info()"
   ]
  },
  {
   "cell_type": "code",
   "execution_count": null,
   "metadata": {},
   "outputs": [],
   "source": []
  }
 ],
 "metadata": {
  "kernelspec": {
   "display_name": "Python 3",
   "language": "python",
   "name": "python3"
  },
  "language_info": {
   "codemirror_mode": {
    "name": "ipython",
    "version": 3
   },
   "file_extension": ".py",
   "mimetype": "text/x-python",
   "name": "python",
   "nbconvert_exporter": "python",
   "pygments_lexer": "ipython3",
   "version": "3.8.5"
  }
 },
 "nbformat": 4,
 "nbformat_minor": 4
}
