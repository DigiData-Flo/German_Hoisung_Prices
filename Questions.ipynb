{
 "cells": [
  {
   "cell_type": "markdown",
   "metadata": {},
   "source": [
    "# Columns of interest\n"
   ]
  },
  {
   "cell_type": "code",
   "execution_count": 2,
   "metadata": {},
   "outputs": [],
   "source": [
    "object_columns = ['regio1', 'regio2', 'regio3', 'firingTypes', 'condition',\n",
    "           'interiorQual', 'typeOfFlat', 'energyEfficiencyClass' ]\n",
    "\n",
    "float_int_columns = ['serviceCharge', 'totalRent', 'yearConstructed', 'baseRent',\n",
    "                     'livingSpace', 'noRooms', 'thermalChar', 'floor', 'heatingCosts',\n",
    "                     'lastRefurbish']\n",
    "bool_columns = ['balcony', 'hasKitchen', 'cellar', 'lift', 'garden' ]"
   ]
  },
  {
   "cell_type": "code",
   "execution_count": null,
   "metadata": {},
   "outputs": [],
   "source": []
  },
  {
   "cell_type": "markdown",
   "metadata": {},
   "source": [
    "# Possible Qustions to the data\n",
    "\n",
    "## Heating and Energy\n",
    "1. How affects firingTypes the heating costs\n",
    "2. How affects construction year the Energy Efficient Class\n",
    "3. Is there a correlation between Energy Efficient Class and heating cost\n",
    "\n",
    "## totalRent\n",
    "\n",
    "* Wie verändert sich der Preis pro Quadratmeter über die Größe der Wohnung\n",
    "* Are the totalRent rates different in the regio1\n",
    "* Haben sich die Mieten über die Zeit geändert?\n",
    "* Wie haben sich die Mieten in den Regionen über die Zeit verändert \n",
    "* Hat sich das Wohnraumangebot über die Zeit verändert.\n",
    "* Was hat den größten Einfluss auf die Miete\n",
    "\n",
    "\n"
   ]
  },
  {
   "cell_type": "markdown",
   "metadata": {},
   "source": [
    "# Workflow\n",
    "\n",
    "* Remove rows with totalRent = NaN\n",
    "* Select one time frame\n",
    "* Function to remove outliers 25% - 1.5 * IQR, 75% + 1.5 * IQR\n",
    "* Use outlier removal on total rent\n",
    "\n",
    "\n",
    "\n"
   ]
  },
  {
   "cell_type": "code",
   "execution_count": null,
   "metadata": {},
   "outputs": [],
   "source": []
  }
 ],
 "metadata": {
  "kernelspec": {
   "display_name": "Python 3",
   "language": "python",
   "name": "python3"
  },
  "language_info": {
   "codemirror_mode": {
    "name": "ipython",
    "version": 3
   },
   "file_extension": ".py",
   "mimetype": "text/x-python",
   "name": "python",
   "nbconvert_exporter": "python",
   "pygments_lexer": "ipython3",
   "version": "3.8.5"
  }
 },
 "nbformat": 4,
 "nbformat_minor": 4
}
