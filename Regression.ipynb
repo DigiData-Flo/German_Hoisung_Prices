{
 "cells": [
  {
   "cell_type": "code",
   "execution_count": 17,
   "metadata": {},
   "outputs": [],
   "source": [
    "import numpy as np\n",
    "import pandas as pd\n",
    "from collections import defaultdict\n",
    "import matplotlib.pyplot as plt\n",
    "import seaborn as sns\n",
    "from IPython import display\n",
    "import functions as f \n",
    "from sklearn.model_selection import train_test_split\n",
    "from sklearn.linear_model import LinearRegression\n",
    "from sklearn.metrics import r2_score, accuracy_score\n",
    "from sklearn.svm import SVR, SVC\n",
    "from sklearn.neighbors import KNeighborsRegressor, KNeighborsClassifier\n",
    "from sklearn.tree import DecisionTreeRegressor, DecisionTreeClassifier\n",
    "%matplotlib inline"
   ]
  },
  {
   "cell_type": "code",
   "execution_count": 16,
   "metadata": {},
   "outputs": [
    {
     "name": "stdout",
     "output_type": "stream",
     "text": [
      "Hello\n"
     ]
    }
   ],
   "source": [
    "print('Hello')"
   ]
  },
  {
   "cell_type": "code",
   "execution_count": 18,
   "metadata": {},
   "outputs": [],
   "source": [
    "def clean_data(df, y_label):\n",
    "    '''\n",
    "    INPUT\n",
    "    df - pandas dataframe \n",
    "    \n",
    "    OUTPUT\n",
    "    X - A matrix holding all of the variables you want to consider when predicting the response\n",
    "    y - the corresponding response vector\n",
    "    \n",
    "    Perform to obtain the correct X and y objects\n",
    "    This function cleans df using the following steps to produce X and y:\n",
    "    1. Drop all the rows with no salaries\n",
    "    2. Create X as all the columns that are not the Salary column\n",
    "    3. Create y as the Salary column\n",
    "    4. Drop the Salary, Respondent, and the ExpectedSalary columns from X\n",
    "    5. For each numeric variable in X, fill the column with the mean value of the column.\n",
    "    6. Create dummy columns for all the categorical variables in X, drop the original columns\n",
    "    '''\n",
    "    \n",
    "    \n",
    "    # 3. Create y as the Salary column\n",
    "    y = df[y_label]\n",
    "    \n",
    "    # 4. Drop the Salary, Respondent, and the ExpectedSalary columns from X\n",
    "    df = df.drop([y_label], axis=1)\n",
    "    \n",
    "    # 6. Create dummy columns for all the categorical variables in X, drop the original columns\n",
    "    cat_vars = df.select_dtypes(include=['object']).copy().columns\n",
    "    for var in  cat_vars:\n",
    "        # for each cat add dummy var, drop original column\n",
    "        df = pd.concat([df.drop(var, axis=1), pd.get_dummies(df[var], prefix=var, prefix_sep='_', drop_first=False, dummy_na=True)], axis=1)\n",
    "\n",
    "    X = df\n",
    "    return X, y\n",
    "    \n"
   ]
  },
  {
   "cell_type": "code",
   "execution_count": 19,
   "metadata": {},
   "outputs": [],
   "source": [
    "def find_optimal_lm_mod(X, y, cutoffs, test_size = .30, random_state=42, plot=True, lm_model=DecisionTreeRegressor(min_samples_split=40, max_depth=500), metric=r2_score):\n",
    "    '''\n",
    "    INPUT\n",
    "    X - pandas dataframe, X matrix\n",
    "    y - pandas dataframe, response variable\n",
    "    cutoffs - list of ints, cutoff for number of non-zero values in dummy categorical vars\n",
    "    test_size - float between 0 and 1, default 0.3, determines the proportion of data as test data\n",
    "    random_state - int, default 42, controls random state for train_test_split\n",
    "    plot - boolean, default 0.3, True to plot result\n",
    "\n",
    "    OUTPUT\n",
    "    r2_scores_test - list of floats of r2 scores on the test data\n",
    "    r2_scores_train - list of floats of r2 scores on the train data\n",
    "    lm_model - model object from sklearn\n",
    "    X_train, X_test, y_train, y_test - output from sklearn train test split used for optimal model\n",
    "    '''\n",
    "    r2_scores_test, r2_scores_train, num_feats, results = [], [], [], dict()\n",
    "    for cutoff in cutoffs:\n",
    "\n",
    "        #reduce X matrix\n",
    "        print(cutoff)\n",
    "        reduce_X = X.iloc[:, np.where((X.sum() > cutoff) == True)[0]]\n",
    "        num_feats.append(reduce_X.shape[1])\n",
    "\n",
    "        #split the data into train and test\n",
    "        X_train, X_test, y_train, y_test = train_test_split(reduce_X, y, test_size = test_size, random_state=random_state)\n",
    "\n",
    "        #fit the model and obtain pred response\n",
    "        lm_model.fit(X_train, y_train)\n",
    "        y_test_preds = lm_model.predict(X_test)\n",
    "        y_train_preds = lm_model.predict(X_train)\n",
    "\n",
    "        #append the r2 value from the test set\n",
    "        r2_scores_test.append(metric(y_test, y_test_preds))\n",
    "        r2_scores_train.append(metric(y_train, y_train_preds))\n",
    "        results[str(cutoff)] = metric(y_test, y_test_preds)\n",
    "\n",
    "    if plot:\n",
    "        plt.plot(num_feats, r2_scores_test, label=\"Test\", alpha=.5)\n",
    "        plt.plot(num_feats, r2_scores_train, label=\"Train\", alpha=.5)\n",
    "        plt.xlabel('Number of Features')\n",
    "        plt.ylabel('Rsquared')\n",
    "        plt.title('Rsquared by Number of Features')\n",
    "        plt.legend(loc=1)\n",
    "        plt.show()\n",
    "\n",
    "    best_cutoff = max(results, key=results.get)\n",
    "\n",
    "    #reduce X matrix\n",
    "    reduce_X = X.iloc[:, np.where((X.abs().sum() > int(best_cutoff)) == True)[0]]\n",
    "    num_feats.append(reduce_X.shape[1])\n",
    "\n",
    "    #split the data into train and test\n",
    "    X_train, X_test, y_train, y_test = train_test_split(reduce_X, y, test_size = test_size, random_state=random_state)\n",
    "\n",
    "    #fit the model\n",
    "    #lm_model = LinearRegression(normalize=True)\n",
    "    lm_model.fit(X_train, y_train)\n",
    "\n",
    "    return r2_scores_test, r2_scores_train, lm_model, X_train, X_test, y_train, y_test\n",
    "\n"
   ]
  },
  {
   "cell_type": "code",
   "execution_count": 20,
   "metadata": {},
   "outputs": [],
   "source": [
    "df = pd.read_pickle('data/rent_cleaned.pkl')"
   ]
  },
  {
   "cell_type": "code",
   "execution_count": 21,
   "metadata": {},
   "outputs": [
    {
     "data": {
      "text/plain": [
       "Index(['obid', 'mietekalt', 'nebenkosten', 'heizkosten', 'baujahr',\n",
       "       'letzte_modernisierung', 'wohnflaeche', 'nutzflaeche', 'etage',\n",
       "       'anzahletagen', 'zimmeranzahl', 'schlafzimmer', 'badezimmer',\n",
       "       'ev_kennwert', 'laufzeittage', 'hits', 'click_schnellkontakte',\n",
       "       'click_customer', 'click_weitersagen', 'click_url', 'aufzug', 'balkon',\n",
       "       'einbaukueche', 'ev_wwenthalten', 'foerderung', 'gaestewc', 'garten',\n",
       "       'heizkosten_in_wm_enthalten', 'keller', 'parkplatz', 'rollstuhlgerecht',\n",
       "       'ausstattung', 'energieeffizienzklasse', 'energieausweistyp',\n",
       "       'haustier_erlaubt', 'heizungsart', 'kategorie_Wohnung', 'objektzustand',\n",
       "       'kid2019', 'ags2019', 'anbieter', 'spell', 'adat', 'edat', 'rent_sqm',\n",
       "       'City', 'Wärmezufuhr', 'Erdgas leicht', 'Erdgas schwer',\n",
       "       'keine Information', 'Windenergie', 'Pellets', 'Solarenergie', 'Koks',\n",
       "       'kombinierte erneuerbare Energie', 'Erdwärme', 'Bioenergie',\n",
       "       'Wasserenergie', 'Nahwärme', 'Fernwärme', 'Holzschnitzel', 'Öl',\n",
       "       'kombinierte regenerative Energie', 'Kohle',\n",
       "       'kombinierte Fossilkraftstoffe', 'Gas', 'Holz', 'Heizdampf-Fernwärme',\n",
       "       'thermische Umweltenergie', 'Flüssiggas', 'kombinierte Bio Energie',\n",
       "       'Elektro', 'year'],\n",
       "      dtype='object')"
      ]
     },
     "execution_count": 21,
     "metadata": {},
     "output_type": "execute_result"
    }
   ],
   "source": [
    "df.columns"
   ]
  },
  {
   "cell_type": "code",
   "execution_count": 22,
   "metadata": {},
   "outputs": [
    {
     "data": {
      "text/plain": [
       "(2651885, 73)"
      ]
     },
     "execution_count": 22,
     "metadata": {},
     "output_type": "execute_result"
    }
   ],
   "source": [
    "df.shape"
   ]
  },
  {
   "cell_type": "markdown",
   "metadata": {},
   "source": [
    "### Columns used for regression"
   ]
  },
  {
   "cell_type": "code",
   "execution_count": 23,
   "metadata": {},
   "outputs": [],
   "source": [
    "y_columns = ['nebenkosten', 'ev_kennwert']\n",
    "X_columns = ['baujahr', 'City', 'year', 'ev_wwenthalten',\n",
    "       'letzte_modernisierung', 'wohnflaeche', 'etage',\n",
    "       'anzahletagen', 'zimmeranzahl', 'schlafzimmer', 'badezimmer',\n",
    "       'aufzug', 'balkon',\n",
    "       'einbaukueche', 'gaestewc', 'garten',\n",
    "       'keller', 'parkplatz', 'rollstuhlgerecht',\n",
    "       'kategorie_Wohnung', 'objektzustand', 'heizungsart', 'heizkosten_in_wm_enthalten', \n",
    "       'Wärmezufuhr', 'Erdgas leicht', 'Erdgas schwer',\n",
    "       'keine Information', 'Windenergie', 'Pellets', 'Solarenergie', 'Koks',\n",
    "       'kombinierte erneuerbare Energie', 'Erdwärme', 'Bioenergie',\n",
    "       'Wasserenergie', 'Nahwärme', 'Fernwärme', 'Holzschnitzel', 'Öl',\n",
    "       'kombinierte regenerative Energie', 'Kohle',\n",
    "       'kombinierte Fossilkraftstoffe', 'Gas', 'Holz', 'Heizdampf-Fernwärme',\n",
    "       'thermische Umweltenergie', 'Flüssiggas', 'kombinierte Bio Energie',\n",
    "       'Elektro']\n",
    "\n",
    "columns_ev_kennwert = X_columns + [y_columns[1]]\n",
    "columns_baujahr = ['baujahr', 'City', 'year', 'ev_wwenthalten', 'wohnflaeche', 'etage',\n",
    "       'anzahletagen', 'zimmeranzahl', 'schlafzimmer', 'badezimmer',\n",
    "       'aufzug', 'balkon',\n",
    "       'einbaukueche', 'gaestewc', 'garten',\n",
    "       'keller', 'parkplatz', 'rollstuhlgerecht',\n",
    "       'kategorie_Wohnung', 'objektzustand', 'heizungsart', 'heizkosten_in_wm_enthalten', \n",
    "       'Wärmezufuhr', 'Erdgas leicht', 'Erdgas schwer',\n",
    "       'keine Information', 'Windenergie', 'Pellets', 'Solarenergie', 'Koks',\n",
    "       'kombinierte erneuerbare Energie', 'Erdwärme', 'Bioenergie',\n",
    "       'Wasserenergie', 'Nahwärme', 'Fernwärme', 'Holzschnitzel', 'Öl',\n",
    "       'kombinierte regenerative Energie', 'Kohle',\n",
    "       'kombinierte Fossilkraftstoffe', 'Gas', 'Holz', 'Heizdampf-Fernwärme',\n",
    "       'thermische Umweltenergie', 'Flüssiggas', 'kombinierte Bio Energie',\n",
    "       'Elektro']"
   ]
  },
  {
   "cell_type": "markdown",
   "metadata": {},
   "source": [
    "# Regression Baujahr"
   ]
  },
  {
   "cell_type": "code",
   "execution_count": null,
   "metadata": {},
   "outputs": [],
   "source": []
  },
  {
   "cell_type": "code",
   "execution_count": 24,
   "metadata": {},
   "outputs": [],
   "source": [
    "regression_baujahr = df[columns_baujahr]"
   ]
  },
  {
   "cell_type": "code",
   "execution_count": 25,
   "metadata": {},
   "outputs": [],
   "source": [
    "idx = regression_baujahr[regression_baujahr.baujahr.isnull()].index"
   ]
  },
  {
   "cell_type": "code",
   "execution_count": 26,
   "metadata": {},
   "outputs": [
    {
     "name": "stderr",
     "output_type": "stream",
     "text": [
      "<ipython-input-26-436b13a550da>:1: SettingWithCopyWarning: \n",
      "A value is trying to be set on a copy of a slice from a DataFrame\n",
      "\n",
      "See the caveats in the documentation: https://pandas.pydata.org/pandas-docs/stable/user_guide/indexing.html#returning-a-view-versus-a-copy\n",
      "  regression_baujahr.dropna(subset=['baujahr'], inplace=True)\n"
     ]
    }
   ],
   "source": [
    "regression_baujahr.dropna(subset=['baujahr'], inplace=True)"
   ]
  },
  {
   "cell_type": "code",
   "execution_count": 27,
   "metadata": {},
   "outputs": [
    {
     "data": {
      "text/plain": [
       "(1682820, 48)"
      ]
     },
     "execution_count": 27,
     "metadata": {},
     "output_type": "execute_result"
    }
   ],
   "source": [
    "regression_baujahr.shape"
   ]
  },
  {
   "cell_type": "code",
   "execution_count": 28,
   "metadata": {},
   "outputs": [],
   "source": [
    "X, y = clean_data(regression_baujahr, 'baujahr')"
   ]
  },
  {
   "cell_type": "code",
   "execution_count": 29,
   "metadata": {},
   "outputs": [],
   "source": [
    "X_train, X_test, y_train, y_test = train_test_split(X, y, test_size = 0.2, random_state=42)"
   ]
  },
  {
   "cell_type": "code",
   "execution_count": 30,
   "metadata": {},
   "outputs": [
    {
     "name": "stdout",
     "output_type": "stream",
     "text": [
      "0.5131187850290612\n",
      "CPU times: user 23.5 s, sys: 1.49 s, total: 25 s\n",
      "Wall time: 25.3 s\n"
     ]
    }
   ],
   "source": [
    "%%time\n",
    "clf = DecisionTreeRegressor(min_samples_split=40, max_depth=500)\n",
    "clf.fit(X_train, y_train)\n",
    "prediction = clf.predict(X_test)\n",
    "print(r2_score(y_test, prediction))"
   ]
  },
  {
   "cell_type": "code",
   "execution_count": 31,
   "metadata": {},
   "outputs": [],
   "source": [
    "feature_importance = pd.DataFrame(clf.feature_importances_, X_train.columns, columns=['importance']).sort_values(by='importance', ascending=False)"
   ]
  },
  {
   "cell_type": "code",
   "execution_count": 32,
   "metadata": {},
   "outputs": [
    {
     "data": {
      "text/html": [
       "<div>\n",
       "<style scoped>\n",
       "    .dataframe tbody tr th:only-of-type {\n",
       "        vertical-align: middle;\n",
       "    }\n",
       "\n",
       "    .dataframe tbody tr th {\n",
       "        vertical-align: top;\n",
       "    }\n",
       "\n",
       "    .dataframe thead th {\n",
       "        text-align: right;\n",
       "    }\n",
       "</style>\n",
       "<table border=\"1\" class=\"dataframe\">\n",
       "  <thead>\n",
       "    <tr style=\"text-align: right;\">\n",
       "      <th></th>\n",
       "      <th>importance</th>\n",
       "    </tr>\n",
       "  </thead>\n",
       "  <tbody>\n",
       "    <tr>\n",
       "      <th>objektzustand_Erstbezug</th>\n",
       "      <td>0.129292</td>\n",
       "    </tr>\n",
       "    <tr>\n",
       "      <th>wohnflaeche</th>\n",
       "      <td>0.108783</td>\n",
       "    </tr>\n",
       "    <tr>\n",
       "      <th>heizungsart_Etagenheizung</th>\n",
       "      <td>0.080065</td>\n",
       "    </tr>\n",
       "    <tr>\n",
       "      <th>objektzustand_Neuwertig</th>\n",
       "      <td>0.068545</td>\n",
       "    </tr>\n",
       "    <tr>\n",
       "      <th>anzahletagen</th>\n",
       "      <td>0.067319</td>\n",
       "    </tr>\n",
       "  </tbody>\n",
       "</table>\n",
       "</div>"
      ],
      "text/plain": [
       "                           importance\n",
       "objektzustand_Erstbezug      0.129292\n",
       "wohnflaeche                  0.108783\n",
       "heizungsart_Etagenheizung    0.080065\n",
       "objektzustand_Neuwertig      0.068545\n",
       "anzahletagen                 0.067319"
      ]
     },
     "execution_count": 32,
     "metadata": {},
     "output_type": "execute_result"
    }
   ],
   "source": [
    "feature_importance.head(5)"
   ]
  },
  {
   "cell_type": "code",
   "execution_count": 33,
   "metadata": {},
   "outputs": [],
   "source": [
    "prediction_baujahr = df.loc[idx, columns_baujahr]"
   ]
  },
  {
   "cell_type": "code",
   "execution_count": 34,
   "metadata": {},
   "outputs": [],
   "source": [
    "X_pred, _ = clean_data(prediction_baujahr, 'baujahr')"
   ]
  },
  {
   "cell_type": "code",
   "execution_count": 35,
   "metadata": {},
   "outputs": [],
   "source": [
    "prediction = clf.predict(X_pred)\n",
    "\n",
    "prediction_baujahr.baujahr = prediction"
   ]
  },
  {
   "cell_type": "code",
   "execution_count": 36,
   "metadata": {},
   "outputs": [
    {
     "data": {
      "text/plain": [
       "969065"
      ]
     },
     "execution_count": 36,
     "metadata": {},
     "output_type": "execute_result"
    }
   ],
   "source": [
    "len(prediction)"
   ]
  },
  {
   "cell_type": "code",
   "execution_count": 37,
   "metadata": {},
   "outputs": [],
   "source": [
    "idx = prediction_baujahr.index"
   ]
  },
  {
   "cell_type": "code",
   "execution_count": 38,
   "metadata": {},
   "outputs": [
    {
     "data": {
      "text/plain": [
       "(969065,)"
      ]
     },
     "execution_count": 38,
     "metadata": {},
     "output_type": "execute_result"
    }
   ],
   "source": [
    "idx.shape"
   ]
  },
  {
   "cell_type": "code",
   "execution_count": 39,
   "metadata": {},
   "outputs": [],
   "source": [
    "df.loc[idx, 'baujahr'] = prediction_baujahr.baujahr"
   ]
  },
  {
   "cell_type": "code",
   "execution_count": 40,
   "metadata": {},
   "outputs": [
    {
     "data": {
      "text/plain": [
       "<seaborn.axisgrid.FacetGrid at 0x7fbda94eeb20>"
      ]
     },
     "execution_count": 40,
     "metadata": {},
     "output_type": "execute_result"
    },
    {
     "data": {
      "image/png": "[encoded data removed]",
      "text/plain": [
       "<Figure size 360x360 with 1 Axes>"
      ]
     },
     "metadata": {
      "needs_background": "light"
     },
     "output_type": "display_data"
    }
   ],
   "source": [
    "sns.displot(data=prediction_baujahr, x='baujahr', bins=40)"
   ]
  },
  {
   "cell_type": "code",
   "execution_count": 41,
   "metadata": {},
   "outputs": [
    {
     "data": {
      "text/plain": [
       "<seaborn.axisgrid.FacetGrid at 0x7fbdc9b01a60>"
      ]
     },
     "execution_count": 41,
     "metadata": {},
     "output_type": "execute_result"
    },
    {
     "data": {
      "image/png": "[encoded data removed]",
      "text/plain": [
       "<Figure size 360x360 with 1 Axes>"
      ]
     },
     "metadata": {
      "needs_background": "light"
     },
     "output_type": "display_data"
    }
   ],
   "source": [
    "sns.displot(data=regression_baujahr, x='baujahr', bins=40)"
   ]
  },
  {
   "cell_type": "code",
   "execution_count": 42,
   "metadata": {},
   "outputs": [],
   "source": [
    "full_baujahr = pd.concat([prediction_baujahr, regression_baujahr], axis=0)"
   ]
  },
  {
   "cell_type": "code",
   "execution_count": 43,
   "metadata": {},
   "outputs": [
    {
     "data": {
      "text/plain": [
       "((969065, 48), (1682820, 48), (2651885, 48))"
      ]
     },
     "execution_count": 43,
     "metadata": {},
     "output_type": "execute_result"
    }
   ],
   "source": [
    "prediction_baujahr.shape, regression_baujahr.shape, full_baujahr.shape"
   ]
  },
  {
   "cell_type": "code",
   "execution_count": 44,
   "metadata": {},
   "outputs": [
    {
     "data": {
      "text/plain": [
       "<seaborn.axisgrid.FacetGrid at 0x7fbd6806d5e0>"
      ]
     },
     "execution_count": 44,
     "metadata": {},
     "output_type": "execute_result"
    },
    {
     "data": {
      "image/png": "[encoded data removed]",
      "text/plain": [
       "<Figure size 360x360 with 1 Axes>"
      ]
     },
     "metadata": {
      "needs_background": "light"
     },
     "output_type": "display_data"
    }
   ],
   "source": [
    "sns.displot(data=full_baujahr, x= 'baujahr', bins=40)"
   ]
  },
  {
   "cell_type": "markdown",
   "metadata": {},
   "source": [
    "## Regression ev_kennwert\n",
    "Build a regression model based on the predicted baujahr dataframe"
   ]
  },
  {
   "cell_type": "code",
   "execution_count": 45,
   "metadata": {},
   "outputs": [
    {
     "data": {
      "text/plain": [
       "((2651885, 73), (2651885, 50))"
      ]
     },
     "execution_count": 45,
     "metadata": {},
     "output_type": "execute_result"
    }
   ],
   "source": [
    "idx = full_baujahr.index\n",
    "\n",
    "regression_ev_kennwert = df.loc[:,columns_ev_kennwert]\n",
    "\n",
    "df.shape, regression_ev_kennwert.shape"
   ]
  },
  {
   "cell_type": "code",
   "execution_count": 46,
   "metadata": {},
   "outputs": [],
   "source": [
    "idx = regression_ev_kennwert[regression_ev_kennwert.ev_kennwert == -100].index\n"
   ]
  },
  {
   "cell_type": "code",
   "execution_count": 47,
   "metadata": {},
   "outputs": [],
   "source": [
    "regression_ev_kennwert.drop(index=idx, inplace=True)"
   ]
  },
  {
   "cell_type": "code",
   "execution_count": 48,
   "metadata": {},
   "outputs": [],
   "source": [
    "regression_ev_kennwert.letzte_modernisierung.fillna(regression_ev_kennwert.baujahr, inplace=True)"
   ]
  },
  {
   "cell_type": "code",
   "execution_count": 49,
   "metadata": {},
   "outputs": [],
   "source": [
    "X, y = clean_data(regression_ev_kennwert, 'ev_kennwert')"
   ]
  },
  {
   "cell_type": "code",
   "execution_count": 50,
   "metadata": {},
   "outputs": [],
   "source": [
    "X_train, X_test, y_train, y_test = train_test_split(X, y, test_size = 0.2, random_state=42)"
   ]
  },
  {
   "cell_type": "code",
   "execution_count": 51,
   "metadata": {},
   "outputs": [
    {
     "name": "stdout",
     "output_type": "stream",
     "text": [
      "0.4141576932855313\n",
      "CPU times: user 11.5 s, sys: 620 ms, total: 12.1 s\n",
      "Wall time: 12.2 s\n"
     ]
    }
   ],
   "source": [
    "%%time\n",
    "clf = DecisionTreeRegressor(min_samples_split=80, max_depth=4000)\n",
    "clf.fit(X_train, y_train)\n",
    "prediction = clf.predict(X_test)\n",
    "print(r2_score(y_test, prediction))"
   ]
  },
  {
   "cell_type": "code",
   "execution_count": 52,
   "metadata": {},
   "outputs": [],
   "source": [
    "prediction_ev_kennwert = df.loc[idx, columns_ev_kennwert]"
   ]
  },
  {
   "cell_type": "code",
   "execution_count": 53,
   "metadata": {},
   "outputs": [],
   "source": [
    "prediction_ev_kennwert.letzte_modernisierung.fillna(prediction_ev_kennwert.baujahr, inplace=True)"
   ]
  },
  {
   "cell_type": "code",
   "execution_count": 54,
   "metadata": {},
   "outputs": [],
   "source": [
    "prediction_ev_kennwert.dropna(subset=['letzte_modernisierung', 'baujahr'], inplace=True)"
   ]
  },
  {
   "cell_type": "code",
   "execution_count": 55,
   "metadata": {},
   "outputs": [],
   "source": [
    "X_pred, _ = clean_data(prediction_ev_kennwert, 'ev_kennwert')"
   ]
  },
  {
   "cell_type": "code",
   "execution_count": 56,
   "metadata": {},
   "outputs": [],
   "source": [
    "prediction = clf.predict(X_pred)\n",
    "\n",
    "prediction_ev_kennwert.ev_kennwert = prediction"
   ]
  },
  {
   "cell_type": "code",
   "execution_count": 57,
   "metadata": {},
   "outputs": [
    {
     "data": {
      "text/plain": [
       "array([5.11416224e-01, 1.87880997e-02, 7.10894288e-03, 5.01094299e-02,\n",
       "       6.75619365e-02, 1.94421133e-02, 3.53468886e-02, 1.17831754e-02,\n",
       "       8.30695441e-03, 8.78926844e-03, 1.10084950e-02, 6.91771571e-03,\n",
       "       6.72230154e-03, 2.71234019e-03, 4.28465434e-03, 7.72661088e-03,\n",
       "       1.59842632e-03, 0.00000000e+00, 7.11931436e-03, 3.80172304e-05,\n",
       "       6.45493909e-04, 4.94626718e-04, 1.11024532e-03, 0.00000000e+00,\n",
       "       1.40003513e-04, 2.08354437e-04, 0.00000000e+00, 1.62096523e-05,\n",
       "       1.70974479e-04, 0.00000000e+00, 0.00000000e+00, 7.72922163e-05,\n",
       "       3.19659333e-03, 2.65120111e-06, 7.95769202e-04, 6.16855027e-05,\n",
       "       1.76117195e-05, 1.93718266e-04, 1.43708006e-03, 5.04950700e-05,\n",
       "       8.41692651e-05, 1.50357831e-05, 9.99758085e-05, 1.80005608e-05,\n",
       "       1.02759668e-03, 1.18378637e-02, 3.08468719e-03, 4.71511665e-03,\n",
       "       2.45152168e-02, 3.55176549e-03, 4.06677198e-03, 3.70592432e-03,\n",
       "       5.80288814e-03, 3.95163946e-03, 3.70967976e-03, 4.46209960e-03,\n",
       "       2.02803581e-02, 3.86784675e-03, 2.87092387e-03, 2.76349693e-03,\n",
       "       0.00000000e+00, 1.31240469e-03, 2.68904538e-03, 2.07578895e-03,\n",
       "       1.16155419e-03, 1.19413483e-03, 1.96201978e-03, 6.37763559e-04,\n",
       "       7.76665632e-04, 1.81668452e-03, 3.18467838e-03, 0.00000000e+00,\n",
       "       2.73187435e-03, 5.21318887e-03, 3.71186504e-03, 3.65016325e-03,\n",
       "       1.38447725e-03, 3.78705997e-03, 1.54918703e-03, 4.10587314e-03,\n",
       "       3.08672910e-03, 5.28545505e-03, 5.71239341e-04, 1.05501298e-03,\n",
       "       1.04764348e-02, 1.08877681e-02, 3.37984002e-03, 4.10899960e-03,\n",
       "       4.63926869e-04, 1.47209576e-03, 1.37081792e-03, 1.74563948e-04,\n",
       "       2.57881622e-03, 6.41059204e-03, 2.01245092e-03, 3.89005794e-03])"
      ]
     },
     "execution_count": 57,
     "metadata": {},
     "output_type": "execute_result"
    }
   ],
   "source": [
    "clf.feature_importances_"
   ]
  },
  {
   "cell_type": "code",
   "execution_count": 58,
   "metadata": {},
   "outputs": [
    {
     "data": {
      "text/html": [
       "<div>\n",
       "<style scoped>\n",
       "    .dataframe tbody tr th:only-of-type {\n",
       "        vertical-align: middle;\n",
       "    }\n",
       "\n",
       "    .dataframe tbody tr th {\n",
       "        vertical-align: top;\n",
       "    }\n",
       "\n",
       "    .dataframe thead th {\n",
       "        text-align: right;\n",
       "    }\n",
       "</style>\n",
       "<table border=\"1\" class=\"dataframe\">\n",
       "  <thead>\n",
       "    <tr style=\"text-align: right;\">\n",
       "      <th></th>\n",
       "      <th>importance</th>\n",
       "    </tr>\n",
       "  </thead>\n",
       "  <tbody>\n",
       "    <tr>\n",
       "      <th>baujahr</th>\n",
       "      <td>0.511416</td>\n",
       "    </tr>\n",
       "    <tr>\n",
       "      <th>wohnflaeche</th>\n",
       "      <td>0.067562</td>\n",
       "    </tr>\n",
       "    <tr>\n",
       "      <th>letzte_modernisierung</th>\n",
       "      <td>0.050109</td>\n",
       "    </tr>\n",
       "    <tr>\n",
       "      <th>anzahletagen</th>\n",
       "      <td>0.035347</td>\n",
       "    </tr>\n",
       "    <tr>\n",
       "      <th>City_Dresden</th>\n",
       "      <td>0.024515</td>\n",
       "    </tr>\n",
       "  </tbody>\n",
       "</table>\n",
       "</div>"
      ],
      "text/plain": [
       "                       importance\n",
       "baujahr                  0.511416\n",
       "wohnflaeche              0.067562\n",
       "letzte_modernisierung    0.050109\n",
       "anzahletagen             0.035347\n",
       "City_Dresden             0.024515"
      ]
     },
     "execution_count": 58,
     "metadata": {},
     "output_type": "execute_result"
    }
   ],
   "source": [
    "coefficient_importance = pd.DataFrame(clf.feature_importances_, index=X_pred.columns, columns=['importance'])\n",
    "\n",
    "coefficient_importance.sort_values(by='importance', ascending=False).head(5)"
   ]
  },
  {
   "cell_type": "code",
   "execution_count": 59,
   "metadata": {},
   "outputs": [],
   "source": [
    "full_ev_kennwert = pd.concat([prediction_ev_kennwert, regression_ev_kennwert], axis=0)"
   ]
  },
  {
   "cell_type": "code",
   "execution_count": 60,
   "metadata": {},
   "outputs": [
    {
     "data": {
      "text/plain": [
       "(2651885, 50)"
      ]
     },
     "execution_count": 60,
     "metadata": {},
     "output_type": "execute_result"
    }
   ],
   "source": [
    "full_ev_kennwert.shape"
   ]
  },
  {
   "cell_type": "code",
   "execution_count": 61,
   "metadata": {},
   "outputs": [
    {
     "data": {
      "text/plain": [
       "(2651885, 73)"
      ]
     },
     "execution_count": 61,
     "metadata": {},
     "output_type": "execute_result"
    }
   ],
   "source": [
    "df.shape"
   ]
  },
  {
   "cell_type": "code",
   "execution_count": 62,
   "metadata": {},
   "outputs": [
    {
     "data": {
      "text/plain": [
       "<seaborn.axisgrid.FacetGrid at 0x7fbd3ef47ca0>"
      ]
     },
     "execution_count": 62,
     "metadata": {},
     "output_type": "execute_result"
    },
    {
     "data": {
      "image/png": "[encoded data removed]",
      "text/plain": [
       "<Figure size 360x360 with 1 Axes>"
      ]
     },
     "metadata": {
      "needs_background": "light"
     },
     "output_type": "display_data"
    }
   ],
   "source": [
    "sns.displot(data=prediction_ev_kennwert, x='ev_kennwert', bins=40)"
   ]
  },
  {
   "cell_type": "code",
   "execution_count": 63,
   "metadata": {},
   "outputs": [
    {
     "data": {
      "text/plain": [
       "<seaborn.axisgrid.FacetGrid at 0x7fbd3f975070>"
      ]
     },
     "execution_count": 63,
     "metadata": {},
     "output_type": "execute_result"
    },
    {
     "data": {
      "image/png": "[encoded data removed]",
      "text/plain": [
       "<Figure size 360x360 with 1 Axes>"
      ]
     },
     "metadata": {
      "needs_background": "light"
     },
     "output_type": "display_data"
    }
   ],
   "source": [
    "sns.displot(data=regression_ev_kennwert, x='ev_kennwert', bins=40)"
   ]
  },
  {
   "cell_type": "code",
   "execution_count": 64,
   "metadata": {},
   "outputs": [
    {
     "data": {
      "text/plain": [
       "2651885"
      ]
     },
     "execution_count": 64,
     "metadata": {},
     "output_type": "execute_result"
    }
   ],
   "source": [
    "prediction_ev_kennwert.shape[0] + regression_ev_kennwert.shape[0]"
   ]
  },
  {
   "cell_type": "code",
   "execution_count": 65,
   "metadata": {},
   "outputs": [],
   "source": [
    "df.loc[idx, 'ev_kennwert'] = prediction_ev_kennwert.ev_kennwert"
   ]
  },
  {
   "cell_type": "code",
   "execution_count": 66,
   "metadata": {},
   "outputs": [
    {
     "data": {
      "text/html": [
       "<div>\n",
       "<style scoped>\n",
       "    .dataframe tbody tr th:only-of-type {\n",
       "        vertical-align: middle;\n",
       "    }\n",
       "\n",
       "    .dataframe tbody tr th {\n",
       "        vertical-align: top;\n",
       "    }\n",
       "\n",
       "    .dataframe thead th {\n",
       "        text-align: right;\n",
       "    }\n",
       "</style>\n",
       "<table border=\"1\" class=\"dataframe\">\n",
       "  <thead>\n",
       "    <tr style=\"text-align: right;\">\n",
       "      <th></th>\n",
       "      <th>null_counts</th>\n",
       "    </tr>\n",
       "  </thead>\n",
       "  <tbody>\n",
       "    <tr>\n",
       "      <th>energieeffizienzklasse</th>\n",
       "      <td>2560651</td>\n",
       "    </tr>\n",
       "    <tr>\n",
       "      <th>anbieter</th>\n",
       "      <td>2501339</td>\n",
       "    </tr>\n",
       "    <tr>\n",
       "      <th>letzte_modernisierung</th>\n",
       "      <td>2095283</td>\n",
       "    </tr>\n",
       "    <tr>\n",
       "      <th>nutzflaeche</th>\n",
       "      <td>2021417</td>\n",
       "    </tr>\n",
       "    <tr>\n",
       "      <th>energieausweistyp</th>\n",
       "      <td>1828023</td>\n",
       "    </tr>\n",
       "    <tr>\n",
       "      <th>heizkosten</th>\n",
       "      <td>1827396</td>\n",
       "    </tr>\n",
       "    <tr>\n",
       "      <th>ausstattung</th>\n",
       "      <td>1550469</td>\n",
       "    </tr>\n",
       "    <tr>\n",
       "      <th>objektzustand</th>\n",
       "      <td>836019</td>\n",
       "    </tr>\n",
       "    <tr>\n",
       "      <th>kategorie_Wohnung</th>\n",
       "      <td>806731</td>\n",
       "    </tr>\n",
       "    <tr>\n",
       "      <th>heizungsart</th>\n",
       "      <td>589338</td>\n",
       "    </tr>\n",
       "    <tr>\n",
       "      <th>nebenkosten</th>\n",
       "      <td>161418</td>\n",
       "    </tr>\n",
       "    <tr>\n",
       "      <th>thermische Umweltenergie</th>\n",
       "      <td>0</td>\n",
       "    </tr>\n",
       "    <tr>\n",
       "      <th>Heizdampf-Fernwärme</th>\n",
       "      <td>0</td>\n",
       "    </tr>\n",
       "    <tr>\n",
       "      <th>edat</th>\n",
       "      <td>0</td>\n",
       "    </tr>\n",
       "    <tr>\n",
       "      <th>rent_sqm</th>\n",
       "      <td>0</td>\n",
       "    </tr>\n",
       "    <tr>\n",
       "      <th>City</th>\n",
       "      <td>0</td>\n",
       "    </tr>\n",
       "    <tr>\n",
       "      <th>Wärmezufuhr</th>\n",
       "      <td>0</td>\n",
       "    </tr>\n",
       "    <tr>\n",
       "      <th>Elektro</th>\n",
       "      <td>0</td>\n",
       "    </tr>\n",
       "    <tr>\n",
       "      <th>kombinierte Bio Energie</th>\n",
       "      <td>0</td>\n",
       "    </tr>\n",
       "    <tr>\n",
       "      <th>Flüssiggas</th>\n",
       "      <td>0</td>\n",
       "    </tr>\n",
       "  </tbody>\n",
       "</table>\n",
       "</div>"
      ],
      "text/plain": [
       "                          null_counts\n",
       "energieeffizienzklasse        2560651\n",
       "anbieter                      2501339\n",
       "letzte_modernisierung         2095283\n",
       "nutzflaeche                   2021417\n",
       "energieausweistyp             1828023\n",
       "heizkosten                    1827396\n",
       "ausstattung                   1550469\n",
       "objektzustand                  836019\n",
       "kategorie_Wohnung              806731\n",
       "heizungsart                    589338\n",
       "nebenkosten                    161418\n",
       "thermische Umweltenergie            0\n",
       "Heizdampf-Fernwärme                 0\n",
       "edat                                0\n",
       "rent_sqm                            0\n",
       "City                                0\n",
       "Wärmezufuhr                         0\n",
       "Elektro                             0\n",
       "kombinierte Bio Energie             0\n",
       "Flüssiggas                          0"
      ]
     },
     "execution_count": 66,
     "metadata": {},
     "output_type": "execute_result"
    }
   ],
   "source": [
    "\n",
    "pd.DataFrame(df.isnull().sum(), columns=['null_counts']).sort_values(by='null_counts', ascending=False).head(20)"
   ]
  },
  {
   "cell_type": "code",
   "execution_count": 67,
   "metadata": {},
   "outputs": [
    {
     "data": {
      "text/plain": [
       "<seaborn.axisgrid.FacetGrid at 0x7fbd680822e0>"
      ]
     },
     "execution_count": 67,
     "metadata": {},
     "output_type": "execute_result"
    },
    {
     "data": {
      "image/png": "[encoded data removed]",
      "text/plain": [
       "<Figure size 360x360 with 1 Axes>"
      ]
     },
     "metadata": {
      "needs_background": "light"
     },
     "output_type": "display_data"
    }
   ],
   "source": [
    "sns.displot(data=df, x='ev_kennwert', bins=40)"
   ]
  },
  {
   "cell_type": "markdown",
   "metadata": {},
   "source": [
    "## Regression Energieausweistyp"
   ]
  },
  {
   "cell_type": "code",
   "execution_count": 68,
   "metadata": {},
   "outputs": [],
   "source": [
    "\n",
    "columns_energieausweistyp = ['baujahr', 'City', 'year', 'ev_wwenthalten', 'wohnflaeche', 'etage',\n",
    "       'anzahletagen', 'zimmeranzahl', 'schlafzimmer', 'badezimmer',\n",
    "       'aufzug', 'balkon', 'energieausweistyp',\n",
    "       'einbaukueche', 'gaestewc', 'garten',\n",
    "       'keller', 'parkplatz', 'rollstuhlgerecht',\n",
    "       'kategorie_Wohnung', 'objektzustand', 'heizungsart', 'heizkosten_in_wm_enthalten', \n",
    "       'Wärmezufuhr', 'Erdgas leicht', 'Erdgas schwer',\n",
    "       'keine Information', 'Windenergie', 'Pellets', 'Solarenergie', 'Koks',\n",
    "       'kombinierte erneuerbare Energie', 'Erdwärme', 'Bioenergie',\n",
    "       'Wasserenergie', 'Nahwärme', 'Fernwärme', 'Holzschnitzel', 'Öl',\n",
    "       'kombinierte regenerative Energie', 'Kohle',\n",
    "       'kombinierte Fossilkraftstoffe', 'Gas', 'Holz', 'Heizdampf-Fernwärme',\n",
    "       'thermische Umweltenergie', 'Flüssiggas', 'kombinierte Bio Energie',\n",
    "       'Elektro']"
   ]
  },
  {
   "cell_type": "code",
   "execution_count": 69,
   "metadata": {},
   "outputs": [],
   "source": [
    "regression_energieausweis = df[columns_energieausweistyp]"
   ]
  },
  {
   "cell_type": "code",
   "execution_count": 70,
   "metadata": {},
   "outputs": [
    {
     "name": "stderr",
     "output_type": "stream",
     "text": [
      "/Users/florian/opt/anaconda3/lib/python3.8/site-packages/pandas/core/generic.py:5168: SettingWithCopyWarning: \n",
      "A value is trying to be set on a copy of a slice from a DataFrame.\n",
      "Try using .loc[row_indexer,col_indexer] = value instead\n",
      "\n",
      "See the caveats in the documentation: https://pandas.pydata.org/pandas-docs/stable/user_guide/indexing.html#returning-a-view-versus-a-copy\n",
      "  self[name] = value\n"
     ]
    }
   ],
   "source": [
    "regression_energieausweis.energieausweistyp = regression_energieausweis.energieausweistyp.map({'Energieverbrauchskennwert': 1, 'Endenergiebedarf': 2})"
   ]
  },
  {
   "cell_type": "code",
   "execution_count": 71,
   "metadata": {},
   "outputs": [
    {
     "data": {
      "text/plain": [
       "1.0    534310\n",
       "2.0    289552\n",
       "Name: energieausweistyp, dtype: int64"
      ]
     },
     "execution_count": 71,
     "metadata": {},
     "output_type": "execute_result"
    }
   ],
   "source": [
    "regression_energieausweis.energieausweistyp.value_counts()\n"
   ]
  },
  {
   "cell_type": "code",
   "execution_count": 72,
   "metadata": {},
   "outputs": [
    {
     "name": "stderr",
     "output_type": "stream",
     "text": [
      "<ipython-input-72-df5b6255e969>:1: SettingWithCopyWarning: \n",
      "A value is trying to be set on a copy of a slice from a DataFrame\n",
      "\n",
      "See the caveats in the documentation: https://pandas.pydata.org/pandas-docs/stable/user_guide/indexing.html#returning-a-view-versus-a-copy\n",
      "  regression_energieausweis.dropna(subset=['energieausweistyp'], inplace=True)\n"
     ]
    }
   ],
   "source": [
    "regression_energieausweis.dropna(subset=['energieausweistyp'], inplace=True)"
   ]
  },
  {
   "cell_type": "code",
   "execution_count": 73,
   "metadata": {},
   "outputs": [],
   "source": [
    "X, y = clean_data(regression_energieausweis, 'energieausweistyp')"
   ]
  },
  {
   "cell_type": "code",
   "execution_count": 75,
   "metadata": {},
   "outputs": [],
   "source": [
    "X_train, X_test, y_train, y_test = train_test_split(X, y, test_size = 0.2, random_state=42)"
   ]
  },
  {
   "cell_type": "code",
   "execution_count": 76,
   "metadata": {},
   "outputs": [
    {
     "data": {
      "text/plain": [
       "year                       1.660867e+09\n",
       "baujahr                    1.617548e+09\n",
       "wohnflaeche                5.761956e+07\n",
       "schlafzimmer               3.645690e+07\n",
       "badezimmer                 2.659172e+07\n",
       "                               ...     \n",
       "Wasserenergie              8.000000e+00\n",
       "kombinierte Bio Energie    5.000000e+00\n",
       "Windenergie                2.000000e+00\n",
       "Koks                       2.000000e+00\n",
       "City_nan                   0.000000e+00\n",
       "Length: 95, dtype: float64"
      ]
     },
     "execution_count": 76,
     "metadata": {},
     "output_type": "execute_result"
    }
   ],
   "source": [
    "X.sum().abs().sort_values(ascending=False)"
   ]
  },
  {
   "cell_type": "code",
   "execution_count": null,
   "metadata": {},
   "outputs": [],
   "source": []
  },
  {
   "cell_type": "code",
   "execution_count": 107,
   "metadata": {},
   "outputs": [
    {
     "name": "stdout",
     "output_type": "stream",
     "text": [
      "0.8282789049176746\n",
      "CPU times: user 12 s, sys: 844 ms, total: 12.8 s\n",
      "Wall time: 13.2 s\n"
     ]
    }
   ],
   "source": [
    "%%time\n",
    "clf = DecisionTreeClassifier(min_samples_split=20, max_depth=1000)\n",
    "clf.fit(X_train, y_train)\n",
    "prediction = clf.predict(X_test)\n",
    "print(accuracy_score(y_test, prediction))"
   ]
  },
  {
   "cell_type": "code",
   "execution_count": 112,
   "metadata": {},
   "outputs": [
    {
     "data": {
      "text/html": [
       "<div>\n",
       "<style scoped>\n",
       "    .dataframe tbody tr th:only-of-type {\n",
       "        vertical-align: middle;\n",
       "    }\n",
       "\n",
       "    .dataframe tbody tr th {\n",
       "        vertical-align: top;\n",
       "    }\n",
       "\n",
       "    .dataframe thead th {\n",
       "        text-align: right;\n",
       "    }\n",
       "</style>\n",
       "<table border=\"1\" class=\"dataframe\">\n",
       "  <thead>\n",
       "    <tr style=\"text-align: right;\">\n",
       "      <th></th>\n",
       "      <th>importance</th>\n",
       "    </tr>\n",
       "  </thead>\n",
       "  <tbody>\n",
       "    <tr>\n",
       "      <th>baujahr</th>\n",
       "      <td>0.370638</td>\n",
       "    </tr>\n",
       "    <tr>\n",
       "      <th>year</th>\n",
       "      <td>0.108664</td>\n",
       "    </tr>\n",
       "    <tr>\n",
       "      <th>wohnflaeche</th>\n",
       "      <td>0.090590</td>\n",
       "    </tr>\n",
       "    <tr>\n",
       "      <th>anzahletagen</th>\n",
       "      <td>0.036241</td>\n",
       "    </tr>\n",
       "    <tr>\n",
       "      <th>etage</th>\n",
       "      <td>0.025203</td>\n",
       "    </tr>\n",
       "    <tr>\n",
       "      <th>ev_wwenthalten</th>\n",
       "      <td>0.023969</td>\n",
       "    </tr>\n",
       "    <tr>\n",
       "      <th>badezimmer</th>\n",
       "      <td>0.017118</td>\n",
       "    </tr>\n",
       "    <tr>\n",
       "      <th>zimmeranzahl</th>\n",
       "      <td>0.015993</td>\n",
       "    </tr>\n",
       "    <tr>\n",
       "      <th>schlafzimmer</th>\n",
       "      <td>0.014559</td>\n",
       "    </tr>\n",
       "    <tr>\n",
       "      <th>objektzustand_nan</th>\n",
       "      <td>0.013296</td>\n",
       "    </tr>\n",
       "    <tr>\n",
       "      <th>keller</th>\n",
       "      <td>0.013035</td>\n",
       "    </tr>\n",
       "    <tr>\n",
       "      <th>heizkosten_in_wm_enthalten</th>\n",
       "      <td>0.012113</td>\n",
       "    </tr>\n",
       "    <tr>\n",
       "      <th>City_Berlin</th>\n",
       "      <td>0.011235</td>\n",
       "    </tr>\n",
       "    <tr>\n",
       "      <th>heizungsart_Zentralheizung</th>\n",
       "      <td>0.011152</td>\n",
       "    </tr>\n",
       "    <tr>\n",
       "      <th>City_Dresden</th>\n",
       "      <td>0.010072</td>\n",
       "    </tr>\n",
       "    <tr>\n",
       "      <th>aufzug</th>\n",
       "      <td>0.009961</td>\n",
       "    </tr>\n",
       "    <tr>\n",
       "      <th>balkon</th>\n",
       "      <td>0.009542</td>\n",
       "    </tr>\n",
       "    <tr>\n",
       "      <th>garten</th>\n",
       "      <td>0.009458</td>\n",
       "    </tr>\n",
       "    <tr>\n",
       "      <th>einbaukueche</th>\n",
       "      <td>0.009199</td>\n",
       "    </tr>\n",
       "    <tr>\n",
       "      <th>heizungsart_Etagenheizung</th>\n",
       "      <td>0.008737</td>\n",
       "    </tr>\n",
       "  </tbody>\n",
       "</table>\n",
       "</div>"
      ],
      "text/plain": [
       "                            importance\n",
       "baujahr                       0.370638\n",
       "year                          0.108664\n",
       "wohnflaeche                   0.090590\n",
       "anzahletagen                  0.036241\n",
       "etage                         0.025203\n",
       "ev_wwenthalten                0.023969\n",
       "badezimmer                    0.017118\n",
       "zimmeranzahl                  0.015993\n",
       "schlafzimmer                  0.014559\n",
       "objektzustand_nan             0.013296\n",
       "keller                        0.013035\n",
       "heizkosten_in_wm_enthalten    0.012113\n",
       "City_Berlin                   0.011235\n",
       "heizungsart_Zentralheizung    0.011152\n",
       "City_Dresden                  0.010072\n",
       "aufzug                        0.009961\n",
       "balkon                        0.009542\n",
       "garten                        0.009458\n",
       "einbaukueche                  0.009199\n",
       "heizungsart_Etagenheizung     0.008737"
      ]
     },
     "execution_count": 112,
     "metadata": {},
     "output_type": "execute_result"
    }
   ],
   "source": [
    "pd.DataFrame(clf.feature_importances_, index=X_train.columns, columns=['importance']).sort_values(by='importance', ascending=False).head(20)"
   ]
  },
  {
   "cell_type": "markdown",
   "metadata": {},
   "source": [
    "### Fill Energieausweistyp with predictions"
   ]
  },
  {
   "cell_type": "code",
   "execution_count": 134,
   "metadata": {},
   "outputs": [],
   "source": [
    "prediction_energieausweis = df[columns_energieausweistyp]"
   ]
  },
  {
   "cell_type": "code",
   "execution_count": 135,
   "metadata": {},
   "outputs": [],
   "source": [
    "prediction_energieausweis = prediction_energieausweis[prediction_energieausweis.energieausweistyp.isnull()]"
   ]
  },
  {
   "cell_type": "code",
   "execution_count": 136,
   "metadata": {},
   "outputs": [],
   "source": [
    "X_pred, _ = clean_data(prediction_energieausweis, 'energieausweistyp')"
   ]
  },
  {
   "cell_type": "code",
   "execution_count": 137,
   "metadata": {},
   "outputs": [],
   "source": [
    "prediction = clf.predict(X_pred)"
   ]
  },
  {
   "cell_type": "code",
   "execution_count": 138,
   "metadata": {},
   "outputs": [],
   "source": [
    "prediction_energieausweis.energieausweistyp = prediction"
   ]
  },
  {
   "cell_type": "code",
   "execution_count": 139,
   "metadata": {},
   "outputs": [],
   "source": [
    "idx = prediction_energieausweis.index"
   ]
  },
  {
   "cell_type": "code",
   "execution_count": 140,
   "metadata": {},
   "outputs": [],
   "source": [
    "df.loc[idx, 'energieausweistyp'] = prediction_energieausweis.energieausweistyp"
   ]
  },
  {
   "cell_type": "code",
   "execution_count": 141,
   "metadata": {},
   "outputs": [
    {
     "name": "stdout",
     "output_type": "stream",
     "text": [
      "<class 'pandas.core.frame.DataFrame'>\n",
      "RangeIndex: 2651885 entries, 0 to 2651884\n",
      "Data columns (total 73 columns):\n",
      " #   Column                            Non-Null Count    Dtype         \n",
      "---  ------                            --------------    -----         \n",
      " 0   obid                              2651885 non-null  int64         \n",
      " 1   mietekalt                         2651885 non-null  float64       \n",
      " 2   nebenkosten                       2490467 non-null  float64       \n",
      " 3   heizkosten                        824489 non-null   float64       \n",
      " 4   baujahr                           2651885 non-null  float64       \n",
      " 5   letzte_modernisierung             556602 non-null   float64       \n",
      " 6   wohnflaeche                       2651885 non-null  float64       \n",
      " 7   nutzflaeche                       630468 non-null   float64       \n",
      " 8   etage                             2651885 non-null  float64       \n",
      " 9   anzahletagen                      2651885 non-null  float64       \n",
      " 10  zimmeranzahl                      2651885 non-null  float64       \n",
      " 11  schlafzimmer                      2651885 non-null  float64       \n",
      " 12  badezimmer                        2651885 non-null  float64       \n",
      " 13  ev_kennwert                       2651885 non-null  float64       \n",
      " 14  laufzeittage                      2651885 non-null  int64         \n",
      " 15  hits                              2651885 non-null  int64         \n",
      " 16  click_schnellkontakte             2651885 non-null  int64         \n",
      " 17  click_customer                    2651885 non-null  float64       \n",
      " 18  click_weitersagen                 2651885 non-null  int64         \n",
      " 19  click_url                         2651885 non-null  int64         \n",
      " 20  aufzug                            2651885 non-null  bool          \n",
      " 21  balkon                            2651885 non-null  bool          \n",
      " 22  einbaukueche                      2651885 non-null  bool          \n",
      " 23  ev_wwenthalten                    2651885 non-null  bool          \n",
      " 24  foerderung                        2651885 non-null  bool          \n",
      " 25  gaestewc                          2651885 non-null  bool          \n",
      " 26  garten                            2651885 non-null  bool          \n",
      " 27  heizkosten_in_wm_enthalten        2651885 non-null  bool          \n",
      " 28  keller                            2651885 non-null  bool          \n",
      " 29  parkplatz                         2651885 non-null  bool          \n",
      " 30  rollstuhlgerecht                  2651885 non-null  bool          \n",
      " 31  ausstattung                       1101416 non-null  object        \n",
      " 32  energieeffizienzklasse            91234 non-null    object        \n",
      " 33  energieausweistyp                 2651885 non-null  object        \n",
      " 34  haustier_erlaubt                  2651885 non-null  bool          \n",
      " 35  heizungsart                       2062547 non-null  object        \n",
      " 36  kategorie_Wohnung                 1845154 non-null  object        \n",
      " 37  objektzustand                     1815866 non-null  object        \n",
      " 38  kid2019                           2651885 non-null  int64         \n",
      " 39  ags2019                           2651885 non-null  int64         \n",
      " 40  anbieter                          150546 non-null   object        \n",
      " 41  spell                             2651885 non-null  int64         \n",
      " 42  adat                              2651885 non-null  datetime64[ns]\n",
      " 43  edat                              2651885 non-null  datetime64[ns]\n",
      " 44  rent_sqm                          2651885 non-null  float64       \n",
      " 45  City                              2651885 non-null  object        \n",
      " 46  Wärmezufuhr                       2651885 non-null  int64         \n",
      " 47  Erdgas leicht                     2651885 non-null  int64         \n",
      " 48  Erdgas schwer                     2651885 non-null  int64         \n",
      " 49  keine Information                 2651885 non-null  int64         \n",
      " 50  Windenergie                       2651885 non-null  int64         \n",
      " 51  Pellets                           2651885 non-null  int64         \n",
      " 52  Solarenergie                      2651885 non-null  int64         \n",
      " 53  Koks                              2651885 non-null  int64         \n",
      " 54  kombinierte erneuerbare Energie   2651885 non-null  int64         \n",
      " 55  Erdwärme                          2651885 non-null  int64         \n",
      " 56  Bioenergie                        2651885 non-null  int64         \n",
      " 57  Wasserenergie                     2651885 non-null  int64         \n",
      " 58  Nahwärme                          2651885 non-null  int64         \n",
      " 59  Fernwärme                         2651885 non-null  int64         \n",
      " 60  Holzschnitzel                     2651885 non-null  int64         \n",
      " 61  Öl                                2651885 non-null  int64         \n",
      " 62  kombinierte regenerative Energie  2651885 non-null  int64         \n",
      " 63  Kohle                             2651885 non-null  int64         \n",
      " 64  kombinierte Fossilkraftstoffe     2651885 non-null  int64         \n",
      " 65  Gas                               2651885 non-null  int64         \n",
      " 66  Holz                              2651885 non-null  int64         \n",
      " 67  Heizdampf-Fernwärme               2651885 non-null  int64         \n",
      " 68  thermische Umweltenergie          2651885 non-null  int64         \n",
      " 69  Flüssiggas                        2651885 non-null  int64         \n",
      " 70  kombinierte Bio Energie           2651885 non-null  int64         \n",
      " 71  Elektro                           2651885 non-null  int64         \n",
      " 72  year                              2651885 non-null  int64         \n",
      "dtypes: bool(12), datetime64[ns](2), float64(15), int64(36), object(8)\n",
      "memory usage: 1.2+ GB\n"
     ]
    }
   ],
   "source": [
    "df.info(null_counts=True)"
   ]
  },
  {
   "cell_type": "code",
   "execution_count": 147,
   "metadata": {},
   "outputs": [],
   "source": [
    "df.energieausweistyp = df.energieausweistyp.astype(int)"
   ]
  },
  {
   "cell_type": "code",
   "execution_count": 146,
   "metadata": {},
   "outputs": [
    {
     "data": {
      "text/plain": [
       "1    1959867\n",
       "2     692018\n",
       "Name: energieausweistyp, dtype: int64"
      ]
     },
     "execution_count": 146,
     "metadata": {},
     "output_type": "execute_result"
    }
   ],
   "source": [
    "df.energieausweistyp.value_counts()"
   ]
  },
  {
   "cell_type": "code",
   "execution_count": 149,
   "metadata": {},
   "outputs": [],
   "source": [
    "df.energieausweistyp = df.energieausweistyp.map({1: 'Energieverbrauchskennwert', 2: 'Endenergiebedarf'})"
   ]
  },
  {
   "cell_type": "code",
   "execution_count": 150,
   "metadata": {},
   "outputs": [
    {
     "name": "stdout",
     "output_type": "stream",
     "text": [
      "<class 'pandas.core.frame.DataFrame'>\n",
      "RangeIndex: 2651885 entries, 0 to 2651884\n",
      "Data columns (total 73 columns):\n",
      " #   Column                            Non-Null Count    Dtype         \n",
      "---  ------                            --------------    -----         \n",
      " 0   obid                              2651885 non-null  int64         \n",
      " 1   mietekalt                         2651885 non-null  float64       \n",
      " 2   nebenkosten                       2490467 non-null  float64       \n",
      " 3   heizkosten                        824489 non-null   float64       \n",
      " 4   baujahr                           2651885 non-null  float64       \n",
      " 5   letzte_modernisierung             556602 non-null   float64       \n",
      " 6   wohnflaeche                       2651885 non-null  float64       \n",
      " 7   nutzflaeche                       630468 non-null   float64       \n",
      " 8   etage                             2651885 non-null  float64       \n",
      " 9   anzahletagen                      2651885 non-null  float64       \n",
      " 10  zimmeranzahl                      2651885 non-null  float64       \n",
      " 11  schlafzimmer                      2651885 non-null  float64       \n",
      " 12  badezimmer                        2651885 non-null  float64       \n",
      " 13  ev_kennwert                       2651885 non-null  float64       \n",
      " 14  laufzeittage                      2651885 non-null  int64         \n",
      " 15  hits                              2651885 non-null  int64         \n",
      " 16  click_schnellkontakte             2651885 non-null  int64         \n",
      " 17  click_customer                    2651885 non-null  float64       \n",
      " 18  click_weitersagen                 2651885 non-null  int64         \n",
      " 19  click_url                         2651885 non-null  int64         \n",
      " 20  aufzug                            2651885 non-null  bool          \n",
      " 21  balkon                            2651885 non-null  bool          \n",
      " 22  einbaukueche                      2651885 non-null  bool          \n",
      " 23  ev_wwenthalten                    2651885 non-null  bool          \n",
      " 24  foerderung                        2651885 non-null  bool          \n",
      " 25  gaestewc                          2651885 non-null  bool          \n",
      " 26  garten                            2651885 non-null  bool          \n",
      " 27  heizkosten_in_wm_enthalten        2651885 non-null  bool          \n",
      " 28  keller                            2651885 non-null  bool          \n",
      " 29  parkplatz                         2651885 non-null  bool          \n",
      " 30  rollstuhlgerecht                  2651885 non-null  bool          \n",
      " 31  ausstattung                       1101416 non-null  object        \n",
      " 32  energieeffizienzklasse            91234 non-null    object        \n",
      " 33  energieausweistyp                 2651885 non-null  object        \n",
      " 34  haustier_erlaubt                  2651885 non-null  bool          \n",
      " 35  heizungsart                       2062547 non-null  object        \n",
      " 36  kategorie_Wohnung                 1845154 non-null  object        \n",
      " 37  objektzustand                     1815866 non-null  object        \n",
      " 38  kid2019                           2651885 non-null  int64         \n",
      " 39  ags2019                           2651885 non-null  int64         \n",
      " 40  anbieter                          150546 non-null   object        \n",
      " 41  spell                             2651885 non-null  int64         \n",
      " 42  adat                              2651885 non-null  datetime64[ns]\n",
      " 43  edat                              2651885 non-null  datetime64[ns]\n",
      " 44  rent_sqm                          2651885 non-null  float64       \n",
      " 45  City                              2651885 non-null  object        \n",
      " 46  Wärmezufuhr                       2651885 non-null  int64         \n",
      " 47  Erdgas leicht                     2651885 non-null  int64         \n",
      " 48  Erdgas schwer                     2651885 non-null  int64         \n",
      " 49  keine Information                 2651885 non-null  int64         \n",
      " 50  Windenergie                       2651885 non-null  int64         \n",
      " 51  Pellets                           2651885 non-null  int64         \n",
      " 52  Solarenergie                      2651885 non-null  int64         \n",
      " 53  Koks                              2651885 non-null  int64         \n",
      " 54  kombinierte erneuerbare Energie   2651885 non-null  int64         \n",
      " 55  Erdwärme                          2651885 non-null  int64         \n",
      " 56  Bioenergie                        2651885 non-null  int64         \n",
      " 57  Wasserenergie                     2651885 non-null  int64         \n",
      " 58  Nahwärme                          2651885 non-null  int64         \n",
      " 59  Fernwärme                         2651885 non-null  int64         \n",
      " 60  Holzschnitzel                     2651885 non-null  int64         \n",
      " 61  Öl                                2651885 non-null  int64         \n",
      " 62  kombinierte regenerative Energie  2651885 non-null  int64         \n",
      " 63  Kohle                             2651885 non-null  int64         \n",
      " 64  kombinierte Fossilkraftstoffe     2651885 non-null  int64         \n",
      " 65  Gas                               2651885 non-null  int64         \n",
      " 66  Holz                              2651885 non-null  int64         \n",
      " 67  Heizdampf-Fernwärme               2651885 non-null  int64         \n",
      " 68  thermische Umweltenergie          2651885 non-null  int64         \n",
      " 69  Flüssiggas                        2651885 non-null  int64         \n",
      " 70  kombinierte Bio Energie           2651885 non-null  int64         \n",
      " 71  Elektro                           2651885 non-null  int64         \n",
      " 72  year                              2651885 non-null  int64         \n",
      "dtypes: bool(12), datetime64[ns](2), float64(15), int64(36), object(8)\n",
      "memory usage: 1.2+ GB\n"
     ]
    }
   ],
   "source": [
    "df.info(null_counts=True)"
   ]
  },
  {
   "cell_type": "code",
   "execution_count": 153,
   "metadata": {},
   "outputs": [
    {
     "data": {
      "text/plain": [
       "Energieverbrauchskennwert    0.739047\n",
       "Endenergiebedarf             0.260953\n",
       "Name: energieausweistyp, dtype: float64"
      ]
     },
     "execution_count": 153,
     "metadata": {},
     "output_type": "execute_result"
    }
   ],
   "source": [
    "df.energieausweistyp.value_counts(dropna=False, normalize=True)"
   ]
  },
  {
   "cell_type": "code",
   "execution_count": 154,
   "metadata": {},
   "outputs": [],
   "source": [
    "df.to_pickle('data/rent_regression_done.pkl')"
   ]
  },
  {
   "cell_type": "code",
   "execution_count": null,
   "metadata": {},
   "outputs": [],
   "source": []
  }
 ],
 "metadata": {
  "kernelspec": {
   "display_name": "Python 3",
   "language": "python",
   "name": "python3"
  },
  "language_info": {
   "codemirror_mode": {
    "name": "ipython",
    "version": 3
   },
   "file_extension": ".py",
   "mimetype": "text/x-python",
   "name": "python",
   "nbconvert_exporter": "python",
   "pygments_lexer": "ipython3",
   "version": "3.8.5"
  }
 },
 "nbformat": 4,
 "nbformat_minor": 4
}
